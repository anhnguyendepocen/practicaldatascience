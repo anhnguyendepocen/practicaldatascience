{
 "cells": [
  {
   "cell_type": "markdown",
   "metadata": {},
   "source": [
    "# Bash test notebook!"
   ]
  },
  {
   "cell_type": "code",
   "execution_count": 1,
   "metadata": {},
   "outputs": [
    {
     "name": "stdout",
     "output_type": "stream",
     "text": [
      "Bash_Test_Notebook.ipynb\t_templates\n",
      "Julia_test_notebook.ipynb\tconf.py\n",
      "R_test_notebook.ipynb\t\tindex.rst\n",
      "Untitled1.ipynb\t\t\tpython_test_notebook.ipynb\n",
      "_static\n"
     ]
    }
   ],
   "source": [
    "ls"
   ]
  },
  {
   "cell_type": "code",
   "execution_count": 2,
   "metadata": {},
   "outputs": [
    {
     "name": "stdout",
     "output_type": "stream",
     "text": [
      "total 64\n",
      "drwxr-xr-x  12 Nick  staff   384 Jan 27 11:20 .\n",
      "drwxr-xr-x   9 Nick  staff   288 Jan 26 16:00 ..\n",
      "drwxr-xr-x   5 Nick  staff   160 Jan 27 11:20 .ipynb_checkpoints\n",
      "-rw-r--r--   1 Nick  staff   368 Jan 27 10:28 Bash_Test_Notebook.ipynb\n",
      "-rw-r--r--   1 Nick  staff  1168 Jan 26 15:32 Julia_test_notebook.ipynb\n",
      "-rw-r--r--   1 Nick  staff  1079 Jan 26 15:35 R_test_notebook.ipynb\n",
      "-rw-r--r--   1 Nick  staff  1000 Jan 27 11:03 Untitled1.ipynb\n",
      "drwxr-xr-x   2 Nick  staff    64 Jan 26 15:59 _static\n",
      "drwxr-xr-x   2 Nick  staff    64 Jan 26 15:59 _templates\n",
      "-rw-r--r--   1 Nick  staff  5287 Jan 26 16:06 conf.py\n",
      "-rw-r--r--   1 Nick  staff   512 Jan 26 16:03 index.rst\n",
      "-rw-r--r--   1 Nick  staff   801 Jan 26 16:10 python_test_notebook.ipynb\n"
     ]
    }
   ],
   "source": [
    "ls -la"
   ]
  },
  {
   "cell_type": "code",
   "execution_count": null,
   "metadata": {},
   "outputs": [],
   "source": []
  }
 ],
 "metadata": {
  "kernelspec": {
   "display_name": "Bash",
   "language": "bash",
   "name": "bash"
  },
  "language_info": {
   "codemirror_mode": "shell",
   "file_extension": ".sh",
   "mimetype": "text/x-sh",
   "name": "bash"
  }
 },
 "nbformat": 4,
 "nbformat_minor": 2
}
