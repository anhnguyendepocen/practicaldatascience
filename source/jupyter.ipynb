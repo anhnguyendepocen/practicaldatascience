{
 "cells": [
  {
   "cell_type": "markdown",
   "metadata": {},
   "source": [
    "# The Jupyter Project\n",
    "\n",
    "Today, if you use more than one programming language for data science, you probably also also use different programs to edit and interact with those programs. R users, for example, often use RStudio, Python users use Spyder, and Julia users use Juno. \n",
    "\n",
    "But in recent years, an amazing efforts has been underway to provide a single set of tools that work with nearly *any* underlying programming language: Jupyter (as in **Ju** (Julia) - **py** (Python) - te**R** (R)).\n",
    "\n",
    "The idea of Jupyter is to seperate the interface you are working with from the underlying programming language doing your analysis. This makes it possible to create one interface (a text editor, a window where results are displayed, etc.) that can be used to run your analyses in any number of different programs. In the Jupyter ecosystem, the program being used to actually run your analysis (i.e. Python, R) is referred to as a **kernel**. \n",
    "\n",
    "Jupyter was originally focused on unifying Julia, Python, and R, it actually now supports dozens and dozens of different [kernels](https://github.com/jupyter/jupyter/wiki/Jupyter-kernels) including javascript, Go, Haskell, Matlab, Stata, bash, Scala, and so much more.\n",
    "\n",
    "(Note: Jupyter Notebooks used to be called IPython Notebooks before they expanded to support more languages, so if you see people talking about IPython Notebooks, just think of that as an early, Python specific version of Jupyter Notebooks). \n",
    "\n",
    "## 1. Jupyter Interfaces\n",
    "\n",
    "Jupyter provides two major tools for data scientists: Jupyter Notebooks and Jupyter Labs. \n",
    "\n",
    "**Jupyter Notebooks:** \n",
    "\n",
    "Jupyter notebooks are a tool for easily integrating text, code, and code output into a single document. This not only makes them *incredibly* useful for instructional materials (this entire site is actually built with Jupyter Notebooks), but also makes them useful as a method of sharing analyses. Using Jupyter Notebooks, you can not only share the conclusions of your analysis with colleagues, but also the code that generated those analyses, making it easy for others to see how you reached your conclusions and, crucially, play with that code to see what happens if the analysis is changed slightly. Indeed, Notebooks are so useful for sharing analyses that they've become the *de facto* standard for sharing information at many companies, including [Netflix](https://medium.com/netflix-techblog/notebook-innovation-591ee3221233).\n",
    "\n",
    "OK, I know, that all sounds really abstract. What makes Jupyter Notebooks special is their interactivity, so to see what they're about, go watch this [quick (8 minute) video](https://www.youtube.com/watch?v=q_BzsPxwLOE) to see what it looks like to work with Jupyter Notebooks. Don't worry about absorbing every detail, the goal is just to give you a sense of how Jupyter Notebooks work. Then you'll have a chance to actually work with Jupyter Notebooks in the exercises below. \n",
    "\n",
    "**Jupyter Lab:** \n",
    "\n",
    "Notebooks have been around since 2014, but while they are great for instructional materials and sharing analyses, they weren't appropriate for managing full projects. In 2018, though, Jupyter launched a new tool: Jupyter Lab. \n",
    "\n",
    "Jupyter Lab is meant to be an all-in-one data science interface:\n",
    "\n",
    "- Easily run and write Jupyter Notebooks (and do things you couldn't do before, like drag cells from one notebook to another, collapse cells, etc.).\n",
    "- Work with a text-editor in one pane and an active kernel session in another, just like you do in RStudio or Spyder. \n",
    "- Edit popular data science file formats with live preview, such as Markdown, JSON, CSV, Vega, VegaLite, and more.\n",
    "\n",
    "Again, this is all a little abstract for a tool that's fundamentally about interactivity, so watch this [excellent 10 minute video](https://www.youtube.com/watch?v=ctOM-Gza04Y) to see what Jupyter Lab is all about. Then we'll do some exercises below! Again, don't worry about absorbing every detail, the goal is just to give you a sense of how Jupyter Lab works generally. "
   ]
  },
  {
   "cell_type": "markdown",
   "metadata": {},
   "source": [
    "## 2. Is Jupyter the best tool for data science?\n",
    "\n",
    "Where Jupyter Lab really shines is in it's support for *interactive* programming and data analysis, and in providing a single interface for working in different programming languages. But whether that makes it the *best* tool depends on how you like to work, and what you're doing. The reality is that every tool has strengths and weaknesses, so what's **best** depends on what you are doing *and* your personal preferences. But there are some use cases for which I think Jupyter is really valueable. \n",
    "\n",
    "In the introduction of this course, we talked about the two big branches of data science: the software development branch, and the data analysis branch. \n",
    "\n",
    "The way people in these different branches work is *very* different. People who work in the software development branch of data science are writing generalized software that will be packaged up, shipped out, and run on other computers somewhere. And as a result, the code they write is often \"non-linear\" (it isn't meant to be run one line after the other sequentially). Instead it's full of different functions and routines that may get called at different times depending on the input data. Moreover, when writing this kind of code, you get to assume the data entering your program has some kind of initial structure, making it easier to predict what your code will do when executed. As a result, people doing this type of data science tend to prefer more developed text editors (Atom, Emacs, Vim, etc.) that don't provide as much support for interactivity, but offer better tools for things like debugging software packages.\n",
    "\n",
    "People in the data analysis branch, by contrast, often want to see the result of each line of code they write. That's because when analyzing data for the first time, you may know what your code is doing in an abstract sense (say, calculating the average of a variable), but you don't know what the output of that code will be! Moreover, you never *really* know the structure of real-world your data until you've cleaned the heck out of it, so you want to look at it often to see what issues are coming up. And when cleaning data, you are often writing very linear (this-line-runs-after-the-last-line) scripts where you want to check your efforts to clean your data after each line. When doing this kind of work (especially if you spend a lot of time moving between programming languages), having one program that will work with different kernels and allows for rich, interactive programming like Jupyter can be very valuable. \n",
    "\n",
    "So if you do a lot of interactive data analysis, I would encourage you to give Jupyter Notebooks and Jupyter Labs a try. It might not be the tool you use for everything you do, but its used by enough people and has enough advantages, I think it's a tool most Data Scientists should have a working familiarity with."
   ]
  },
  {
   "cell_type": "markdown",
   "metadata": {},
   "source": [
    "## 3. Setting Up R with Jupyter \n",
    "\n",
    "When you [installed Anaconda](setup_environment.ipynb), you actually also installed Jupyter, and you so you can already open up Jupyter and use it with a Python Kernel. However, since most people taking this course are Duke MIDS students who are also doing coursework in R, let's set up Jupyter to work with R as well. \n",
    "\n",
    "1. If you do *not* have R installed, [download and install it here](https://cloud.r-project.org/). If you have R installed, skip to step 2. \n",
    "2. Open R\n",
    "3. Run `install.packages(\"irkernel\")`\n",
    "4. After installation is complete, execute the command: `IRkernel::installspec()` in R. \n",
    "\n",
    "That's it! As we'll see in the next set of exercises, you can now run R in Jupyter Lab!"
   ]
  },
  {
   "cell_type": "markdown",
   "metadata": {},
   "source": [
    "## 4. Make sure Jupyter Is Installed\n",
    "\n",
    "To launch Jupyter Lab, open a new command line session and type: `jupyter lab`. The terminal should end up looking something like this:\n",
    "\n",
    "![jupyter_launch_terminal.png](images/jupyter_launch_terminal.png)\n",
    "\n",
    "**DON'T CLOSE THAT TERMINAL**. You have to keep that terminal open to keep Jupyter Labs open. \n",
    "\n",
    "In addition, a page should open on your default web browser that, hopefully, looks something like this (though on your computer you will probably only see buttons for \"Python 3\" and \"R\" under Notebook and Console):\n",
    "\n",
    "![jupyter_launch_page](images/jupyter_launch_page.png)\n",
    "\n",
    "If you don't see a button for `R`, make sure you completed Step 3!\n",
    "\n",
    "If you got an error when you tried to run `jupyter lab` like `\"Error executing Jupyter command 'lab': [Errno 2] No such file or directory\"` or `command not found: jupyter` (this might happen if you didn't install a new installation of Anaconda because you already had it installed, or if you're using Minicoda), you can make sure Jupyter Lab is installed by running `conda install jupyterlab` from the command line. \n"
   ]
  },
  {
   "cell_type": "markdown",
   "metadata": {},
   "source": [
    "## Jupyter Lab Exercises!\n",
    "\n",
    "Click here for some [Jupyter Lab exercises](exercises/Exercise_jupyterlab.ipynb)!"
   ]
  }
 ],
 "metadata": {
  "kernelspec": {
   "display_name": "Python 3",
   "language": "python",
   "name": "python3"
  },
  "language_info": {
   "codemirror_mode": {
    "name": "ipython",
    "version": 3
   },
   "file_extension": ".py",
   "mimetype": "text/x-python",
   "name": "python",
   "nbconvert_exporter": "python",
   "pygments_lexer": "ipython3",
   "version": "3.7.3"
  }
 },
 "nbformat": 4,
 "nbformat_minor": 4
}
