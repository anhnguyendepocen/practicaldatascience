{
 "cells": [
  {
   "cell_type": "markdown",
   "metadata": {},
   "source": [
    "# Cheatsheets\n",
    "\n",
    "Let's face it: memorizing syntax is a pain. Here is a curated list of cheatsheets I recommend for different pieces of software. \n",
    "\n",
    "- [Bash](../Cheat_Sheets/bash.pdf)\n",
    "- [Pandas](https://github.com/pandas-dev/pandas/blob/master/doc/cheatsheet/Pandas_Cheat_Sheet.pdf)\n",
    "- [ggplot / plotnine](https://github.com/rstudio/cheatsheets/raw/master/data-visualization-2.1.pdf) \n",
    "    - *Note: this cheatsheet was written for ggplot in R, not plotnine specifically, so the syntax will require small tweaks, like putting column names in quotes and using underscores instead of periods*"
   ]
  },
  {
   "cell_type": "code",
   "execution_count": null,
   "metadata": {},
   "outputs": [],
   "source": []
  }
 ],
 "metadata": {
  "kernelspec": {
   "display_name": "Python 3",
   "language": "python",
   "name": "python3"
  },
  "language_info": {
   "codemirror_mode": {
    "name": "ipython",
    "version": 3
   },
   "file_extension": ".py",
   "mimetype": "text/x-python",
   "name": "python",
   "nbconvert_exporter": "python",
   "pygments_lexer": "ipython3",
   "version": "3.7.3"
  }
 },
 "nbformat": 4,
 "nbformat_minor": 4
}
