{
 "cells": [
  {
   "cell_type": "markdown",
   "metadata": {},
   "source": [
    "# Jupyter Lab Exercises\n",
    "\n",
    "In these exercises, we'll explore a few ways of working with Jupyter Lab. If you haven't already, make sure you've worked through the tutorials for installing [Python and Anaconda](../setup_environment.ipynb), and for [setting up R](../jupyter.ipynb) to work with Jupyter.\n",
    "\n",
    "As we work through these exercises, we'll be openning and working with a set of files you can download [here](https://github.com/nickeubank/programming4ds/blob/master/Example_Data/jupyter_lab_exercise.zip) called `jupyter_lab_exercise.zip`. "
   ]
  },
  {
   "cell_type": "markdown",
   "metadata": {},
   "source": [
    "## Exercise 1: Replicate an RStudio Interface\n",
    "\n",
    "At this point, all MIDS students have worked with RStudio, so let's begin by replicating that familiar environment. If you have never used RStudio and don't want to work with R, feel free to skip this exercise. "
   ]
  },
  {
   "cell_type": "markdown",
   "metadata": {},
   "source": [
    "First, let's open the file \"analyze_health.R\" by navigating to where you downloaded `jupyter_lab_exercise` using the file navigator on the left hand pane. If the file navigator not immediately visible, you can open it by clicking the folder icon in at the top of the left sidebar. \n",
    "\n",
    "This has now opened a text editor window. To pair it with an active kernel (i.e. a running session of R), we need to right click somewhere inside the file and select \"Create Console for Editor\", then choose to open an R kernel. This will open a new window with the same name as your current text file (\"analyze_health.R\"), but with a different icon (there should be a blue box with a cursor).\n",
    "\n",
    "This window is your interface to an active R session, and the setup you have now is basically the same as in RStudio. You can enter commands directly into the console window, or you can run a block of code from your text-editor window by highlighting it and hitting Shift-Enter. \n",
    "\n",
    "**Exercise 1.1:** run `print('hi')` by typing it directly into your console session.\n",
    "\n",
    "**Exercise 1.2:** Now run the first few lines of \"analyze_health.R\" by selecting the text and hitting Shift-Enter."
   ]
  },
  {
   "cell_type": "code",
   "execution_count": null,
   "metadata": {},
   "outputs": [],
   "source": []
  },
  {
   "cell_type": "code",
   "execution_count": null,
   "metadata": {},
   "outputs": [],
   "source": []
  }
 ],
 "metadata": {
  "kernelspec": {
   "display_name": "Python 3",
   "language": "python",
   "name": "python3"
  },
  "language_info": {
   "codemirror_mode": {
    "name": "ipython",
    "version": 3
   },
   "file_extension": ".py",
   "mimetype": "text/x-python",
   "name": "python",
   "nbconvert_exporter": "python",
   "pygments_lexer": "ipython3",
   "version": "3.7.3"
  }
 },
 "nbformat": 4,
 "nbformat_minor": 4
}
