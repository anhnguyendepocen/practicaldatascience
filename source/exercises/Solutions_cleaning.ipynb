{
 "cells": [
  {
   "cell_type": "markdown",
   "metadata": {},
   "source": [
    "# Cleaning Data"
   ]
  },
  {
   "cell_type": "markdown",
   "metadata": {},
   "source": [
    "**1)** For our data cleaning exercises, we will return one last time to our ACS data [here](https://github.com/nickeubank/MIDS_Data/tree/master/US_AmericanCommunitySurvey). Download and import the 10percent ACS sample."
   ]
  },
  {
   "cell_type": "code",
   "execution_count": 1,
   "metadata": {},
   "outputs": [],
   "source": [
    "import pandas as pd\n",
    "import numpy as np\n",
    "# Download the data\n",
    "acs = pd.read_stata(\"https://github.com/nickeubank/MIDS_Data/raw/master/US_AmericanCommunitySurvey/US_ACS_2017_10pct_sample.dta\")"
   ]
  },
  {
   "cell_type": "markdown",
   "metadata": {},
   "source": [
    "**2)** For our exercises today, we'll focus on `age`, `gender`, `educ`, and `inctot`. Subset your data to those variables, and quickly look at a sample of 10 rows. "
   ]
  },
  {
   "cell_type": "code",
   "execution_count": 2,
   "metadata": {},
   "outputs": [],
   "source": [
    "acs = acs[['age', 'sex', 'educ', 'inctot']]"
   ]
  },
  {
   "cell_type": "code",
   "execution_count": 3,
   "metadata": {},
   "outputs": [
    {
     "data": {
      "text/html": [
       "<div>\n",
       "<style scoped>\n",
       "    .dataframe tbody tr th:only-of-type {\n",
       "        vertical-align: middle;\n",
       "    }\n",
       "\n",
       "    .dataframe tbody tr th {\n",
       "        vertical-align: top;\n",
       "    }\n",
       "\n",
       "    .dataframe thead th {\n",
       "        text-align: right;\n",
       "    }\n",
       "</style>\n",
       "<table border=\"1\" class=\"dataframe\">\n",
       "  <thead>\n",
       "    <tr style=\"text-align: right;\">\n",
       "      <th></th>\n",
       "      <th>age</th>\n",
       "      <th>sex</th>\n",
       "      <th>educ</th>\n",
       "      <th>inctot</th>\n",
       "    </tr>\n",
       "  </thead>\n",
       "  <tbody>\n",
       "    <tr>\n",
       "      <th>99185</th>\n",
       "      <td>26</td>\n",
       "      <td>male</td>\n",
       "      <td>grade 12</td>\n",
       "      <td>0</td>\n",
       "    </tr>\n",
       "    <tr>\n",
       "      <th>317882</th>\n",
       "      <td>15</td>\n",
       "      <td>male</td>\n",
       "      <td>grade 9</td>\n",
       "      <td>0</td>\n",
       "    </tr>\n",
       "    <tr>\n",
       "      <th>286926</th>\n",
       "      <td>57</td>\n",
       "      <td>female</td>\n",
       "      <td>grade 12</td>\n",
       "      <td>48800</td>\n",
       "    </tr>\n",
       "    <tr>\n",
       "      <th>97900</th>\n",
       "      <td>25</td>\n",
       "      <td>female</td>\n",
       "      <td>grade 12</td>\n",
       "      <td>8000</td>\n",
       "    </tr>\n",
       "    <tr>\n",
       "      <th>244210</th>\n",
       "      <td>69</td>\n",
       "      <td>female</td>\n",
       "      <td>grade 12</td>\n",
       "      <td>132700</td>\n",
       "    </tr>\n",
       "    <tr>\n",
       "      <th>81911</th>\n",
       "      <td>28</td>\n",
       "      <td>female</td>\n",
       "      <td>4 years of college</td>\n",
       "      <td>57000</td>\n",
       "    </tr>\n",
       "    <tr>\n",
       "      <th>16771</th>\n",
       "      <td>68</td>\n",
       "      <td>female</td>\n",
       "      <td>grade 12</td>\n",
       "      <td>23750</td>\n",
       "    </tr>\n",
       "    <tr>\n",
       "      <th>106052</th>\n",
       "      <td>35</td>\n",
       "      <td>male</td>\n",
       "      <td>grade 12</td>\n",
       "      <td>160000</td>\n",
       "    </tr>\n",
       "    <tr>\n",
       "      <th>225796</th>\n",
       "      <td>56</td>\n",
       "      <td>male</td>\n",
       "      <td>grade 12</td>\n",
       "      <td>40000</td>\n",
       "    </tr>\n",
       "    <tr>\n",
       "      <th>83623</th>\n",
       "      <td>60</td>\n",
       "      <td>male</td>\n",
       "      <td>5+ years of college</td>\n",
       "      <td>140000</td>\n",
       "    </tr>\n",
       "  </tbody>\n",
       "</table>\n",
       "</div>"
      ],
      "text/plain": [
       "       age     sex                 educ  inctot\n",
       "99185   26    male             grade 12       0\n",
       "317882  15    male              grade 9       0\n",
       "286926  57  female             grade 12   48800\n",
       "97900   25  female             grade 12    8000\n",
       "244210  69  female             grade 12  132700\n",
       "81911   28  female   4 years of college   57000\n",
       "16771   68  female             grade 12   23750\n",
       "106052  35    male             grade 12  160000\n",
       "225796  56    male             grade 12   40000\n",
       "83623   60    male  5+ years of college  140000"
      ]
     },
     "execution_count": 3,
     "metadata": {},
     "output_type": "execute_result"
    }
   ],
   "source": [
    "acs.sample(10)"
   ]
  },
  {
   "cell_type": "markdown",
   "metadata": {},
   "source": [
    "**3)** First, replace all the values of `inctot` that are 9999999 with `np.nan`. "
   ]
  },
  {
   "cell_type": "code",
   "execution_count": 4,
   "metadata": {},
   "outputs": [],
   "source": [
    "acs['inctot'] = acs['inctot'].replace(9999999, np.nan)"
   ]
  },
  {
   "cell_type": "markdown",
   "metadata": {},
   "source": [
    "**4)** So we know how data is being stored, check the `dtypes` of all the variables we are working with. What is the `dtype` of `age`?"
   ]
  },
  {
   "cell_type": "code",
   "execution_count": 5,
   "metadata": {},
   "outputs": [
    {
     "data": {
      "text/plain": [
       "age       category\n",
       "sex       category\n",
       "educ      category\n",
       "inctot     float64\n",
       "dtype: object"
      ]
     },
     "execution_count": 5,
     "metadata": {},
     "output_type": "execute_result"
    }
   ],
   "source": [
    "acs.dtypes"
   ]
  },
  {
   "cell_type": "markdown",
   "metadata": {},
   "source": [
    "**5)** We want to be able to calculate things using age, so we need it to be a numeric type. Check all the values of `age` to figure out why it's categorical and not numeric. You should find two problematic categories. "
   ]
  },
  {
   "cell_type": "code",
   "execution_count": 6,
   "metadata": {},
   "outputs": [
    {
     "data": {
      "text/plain": [
       "60                           4950\n",
       "54                           4821\n",
       "59                           4776\n",
       "56                           4776\n",
       "58                           4734\n",
       "57                           4720\n",
       "55                           4693\n",
       "61                           4644\n",
       "62                           4614\n",
       "53                           4600\n",
       "18                           4496\n",
       "63                           4488\n",
       "52                           4418\n",
       "65                           4362\n",
       "19                           4342\n",
       "64                           4287\n",
       "50                           4272\n",
       "47                           4256\n",
       "16                           4106\n",
       "66                           4106\n",
       "46                           4064\n",
       "67                           4055\n",
       "17                           4021\n",
       "51                           4021\n",
       "10                           3997\n",
       "20                           3992\n",
       "9                            3977\n",
       "48                           3956\n",
       "70                           3953\n",
       "68                           3951\n",
       "                             ... \n",
       "1                            3340\n",
       "4                            3318\n",
       "3                            3220\n",
       "less than 1 year old         3150\n",
       "71                           2917\n",
       "72                           2901\n",
       "74                           2819\n",
       "73                           2781\n",
       "75                           2532\n",
       "76                           2170\n",
       "77                           2089\n",
       "78                           1985\n",
       "79                           1758\n",
       "80                           1721\n",
       "81                           1524\n",
       "82                           1464\n",
       "83                           1335\n",
       "84                           1157\n",
       "85                           1117\n",
       "86                           1041\n",
       "94                           1035\n",
       "87                            908\n",
       "88                            859\n",
       "89                            628\n",
       "90 (90+ in 1980 and 1990)     480\n",
       "93                            476\n",
       "95                            471\n",
       "92                            355\n",
       "91                            227\n",
       "96                             10\n",
       "Name: age, Length: 97, dtype: int64"
      ]
     },
     "execution_count": 6,
     "metadata": {},
     "output_type": "execute_result"
    }
   ],
   "source": [
    "acs['age'].value_counts()"
   ]
  },
  {
   "cell_type": "markdown",
   "metadata": {},
   "source": [
    "**6)** In order to convert `age` into a numeric variable, we need to replace those problematic entries with values that `pandas` can later convert into numbers. Pick appropriate substitutions for the existing values and replace the current values. **Hint 1:** Categorical variables act like strings, so you might want to use string methods! **Hint 2:** Remember that characters like parentheses, pluses, asterices, etc. are special in Python strings, and you have to escape them if you want them to be interpreted literally!"
   ]
  },
  {
   "cell_type": "code",
   "execution_count": 7,
   "metadata": {},
   "outputs": [],
   "source": [
    "acs['age'] = acs['age'].str.replace(\"less than 1 year old\", '0')\n",
    "acs['age'] = acs['age'].str.replace(\"90 \\(90\\+ in 1980 and 1990\\)\", '90')"
   ]
  },
  {
   "cell_type": "code",
   "execution_count": 8,
   "metadata": {},
   "outputs": [
    {
     "data": {
      "text/plain": [
       "60    4950\n",
       "54    4821\n",
       "56    4776\n",
       "59    4776\n",
       "58    4734\n",
       "57    4720\n",
       "55    4693\n",
       "61    4644\n",
       "62    4614\n",
       "53    4600\n",
       "18    4496\n",
       "63    4488\n",
       "52    4418\n",
       "65    4362\n",
       "19    4342\n",
       "64    4287\n",
       "50    4272\n",
       "47    4256\n",
       "16    4106\n",
       "66    4106\n",
       "46    4064\n",
       "67    4055\n",
       "51    4021\n",
       "17    4021\n",
       "10    3997\n",
       "20    3992\n",
       "9     3977\n",
       "48    3956\n",
       "70    3953\n",
       "68    3951\n",
       "      ... \n",
       "1     3340\n",
       "4     3318\n",
       "3     3220\n",
       "0     3150\n",
       "71    2917\n",
       "72    2901\n",
       "74    2819\n",
       "73    2781\n",
       "75    2532\n",
       "76    2170\n",
       "77    2089\n",
       "78    1985\n",
       "79    1758\n",
       "80    1721\n",
       "81    1524\n",
       "82    1464\n",
       "83    1335\n",
       "84    1157\n",
       "85    1117\n",
       "86    1041\n",
       "94    1035\n",
       "87     908\n",
       "88     859\n",
       "89     628\n",
       "90     480\n",
       "93     476\n",
       "95     471\n",
       "92     355\n",
       "91     227\n",
       "96      10\n",
       "Name: age, Length: 97, dtype: int64"
      ]
     },
     "execution_count": 8,
     "metadata": {},
     "output_type": "execute_result"
    }
   ],
   "source": [
    "acs['age'].value_counts()"
   ]
  },
  {
   "cell_type": "markdown",
   "metadata": {},
   "source": [
    "**7)** Now convert age from a categorical to numeric. "
   ]
  },
  {
   "cell_type": "code",
   "execution_count": 9,
   "metadata": {},
   "outputs": [],
   "source": [
    "acs['age'] = acs['age'].astype('int')"
   ]
  },
  {
   "cell_type": "markdown",
   "metadata": {},
   "source": [
    "**8)** Let's now filter out anyone in our data whose age is greater than 18. Note that before made `age` a numeric variable, we couldn't do this!"
   ]
  },
  {
   "cell_type": "code",
   "execution_count": 10,
   "metadata": {},
   "outputs": [],
   "source": [
    "acs = acs[acs['age'] > 18]"
   ]
  },
  {
   "cell_type": "markdown",
   "metadata": {},
   "source": [
    "**9)** Create an indicator variable for whether each person has at least a college degree called `college_degree`. "
   ]
  },
  {
   "cell_type": "code",
   "execution_count": 18,
   "metadata": {},
   "outputs": [
    {
     "data": {
      "text/plain": [
       "grade 12                     89743\n",
       "4 years of college           47212\n",
       "1 year of college            38384\n",
       "5+ years of college          29801\n",
       "2 years of college           20731\n",
       "grade 5, 6, 7, or 8           5942\n",
       "grade 11                      4763\n",
       "grade 10                      3942\n",
       "n/a or no schooling           3627\n",
       "grade 9                       3105\n",
       "nursery school to grade 4     1288\n",
       "Name: educ, dtype: int64"
      ]
     },
     "execution_count": 18,
     "metadata": {},
     "output_type": "execute_result"
    }
   ],
   "source": [
    "acs['educ'].value_counts()"
   ]
  },
  {
   "cell_type": "code",
   "execution_count": 19,
   "metadata": {},
   "outputs": [
    {
     "data": {
      "text/plain": [
       "False    201326\n",
       "True      47212\n",
       "Name: college_degree, dtype: int64"
      ]
     },
     "execution_count": 19,
     "metadata": {},
     "output_type": "execute_result"
    }
   ],
   "source": [
    "acs['college_degree'] = (acs['educ'] == '4 years of college') | (acs['educ'] == '5\\+ years of college')\n",
    "acs['college_degree'].value_counts()"
   ]
  },
  {
   "cell_type": "markdown",
   "metadata": {},
   "source": [
    "**10)** Let's examine how the educational gender gap. Use `pd.crosstab` to create a cross-tabulation of `sex` and `college_degree`. `pd.crosstab` will give you the number of people who have each combination of `sex` and `college_degree` (so in this case, it will give us a 2x2 table with Male and Female as rows, and `college_degree` True and False as columns, or vice versa. "
   ]
  },
  {
   "cell_type": "code",
   "execution_count": 22,
   "metadata": {},
   "outputs": [
    {
     "data": {
      "text/html": [
       "<div>\n",
       "<style scoped>\n",
       "    .dataframe tbody tr th:only-of-type {\n",
       "        vertical-align: middle;\n",
       "    }\n",
       "\n",
       "    .dataframe tbody tr th {\n",
       "        vertical-align: top;\n",
       "    }\n",
       "\n",
       "    .dataframe thead th {\n",
       "        text-align: right;\n",
       "    }\n",
       "</style>\n",
       "<table border=\"1\" class=\"dataframe\">\n",
       "  <thead>\n",
       "    <tr style=\"text-align: right;\">\n",
       "      <th>sex</th>\n",
       "      <th>male</th>\n",
       "      <th>female</th>\n",
       "    </tr>\n",
       "    <tr>\n",
       "      <th>college_degree</th>\n",
       "      <th></th>\n",
       "      <th></th>\n",
       "    </tr>\n",
       "  </thead>\n",
       "  <tbody>\n",
       "    <tr>\n",
       "      <th>False</th>\n",
       "      <td>97723</td>\n",
       "      <td>103603</td>\n",
       "    </tr>\n",
       "    <tr>\n",
       "      <th>True</th>\n",
       "      <td>22039</td>\n",
       "      <td>25173</td>\n",
       "    </tr>\n",
       "  </tbody>\n",
       "</table>\n",
       "</div>"
      ],
      "text/plain": [
       "sex              male  female\n",
       "college_degree               \n",
       "False           97723  103603\n",
       "True            22039   25173"
      ]
     },
     "execution_count": 22,
     "metadata": {},
     "output_type": "execute_result"
    }
   ],
   "source": [
    "pd.crosstab(acs['college_degree'], acs['sex'])"
   ]
  },
  {
   "cell_type": "markdown",
   "metadata": {},
   "source": [
    "**11)** Counts are kind of hard to interpret. `pd.crosstab` can also normalize values to give percentages. Look at the `pd.crosstab` help file to figure out how to normalize the values in the table. Normalize them so that you get the share of men with and without college degree, and the share of women with and without college degrees. "
   ]
  },
  {
   "cell_type": "code",
   "execution_count": 23,
   "metadata": {},
   "outputs": [
    {
     "data": {
      "text/html": [
       "<div>\n",
       "<style scoped>\n",
       "    .dataframe tbody tr th:only-of-type {\n",
       "        vertical-align: middle;\n",
       "    }\n",
       "\n",
       "    .dataframe tbody tr th {\n",
       "        vertical-align: top;\n",
       "    }\n",
       "\n",
       "    .dataframe thead th {\n",
       "        text-align: right;\n",
       "    }\n",
       "</style>\n",
       "<table border=\"1\" class=\"dataframe\">\n",
       "  <thead>\n",
       "    <tr style=\"text-align: right;\">\n",
       "      <th>sex</th>\n",
       "      <th>male</th>\n",
       "      <th>female</th>\n",
       "    </tr>\n",
       "    <tr>\n",
       "      <th>college_degree</th>\n",
       "      <th></th>\n",
       "      <th></th>\n",
       "    </tr>\n",
       "  </thead>\n",
       "  <tbody>\n",
       "    <tr>\n",
       "      <th>False</th>\n",
       "      <td>0.815977</td>\n",
       "      <td>0.804521</td>\n",
       "    </tr>\n",
       "    <tr>\n",
       "      <th>True</th>\n",
       "      <td>0.184023</td>\n",
       "      <td>0.195479</td>\n",
       "    </tr>\n",
       "  </tbody>\n",
       "</table>\n",
       "</div>"
      ],
      "text/plain": [
       "sex                 male    female\n",
       "college_degree                    \n",
       "False           0.815977  0.804521\n",
       "True            0.184023  0.195479"
      ]
     },
     "execution_count": 23,
     "metadata": {},
     "output_type": "execute_result"
    }
   ],
   "source": [
    "pd.crosstab(acs['college_degree'], acs['sex'], normalize='columns')"
   ]
  },
  {
   "cell_type": "markdown",
   "metadata": {},
   "source": [
    "**12)** Now, let's recreate that table for people over 40 and people under 40. Has the difference between men and women in terms of getting a college degree impoved, stayed the same, or worsened?"
   ]
  },
  {
   "cell_type": "code",
   "execution_count": 24,
   "metadata": {},
   "outputs": [
    {
     "data": {
      "text/html": [
       "<div>\n",
       "<style scoped>\n",
       "    .dataframe tbody tr th:only-of-type {\n",
       "        vertical-align: middle;\n",
       "    }\n",
       "\n",
       "    .dataframe tbody tr th {\n",
       "        vertical-align: top;\n",
       "    }\n",
       "\n",
       "    .dataframe thead th {\n",
       "        text-align: right;\n",
       "    }\n",
       "</style>\n",
       "<table border=\"1\" class=\"dataframe\">\n",
       "  <thead>\n",
       "    <tr style=\"text-align: right;\">\n",
       "      <th>sex</th>\n",
       "      <th>male</th>\n",
       "      <th>female</th>\n",
       "    </tr>\n",
       "    <tr>\n",
       "      <th>college_degree</th>\n",
       "      <th></th>\n",
       "      <th></th>\n",
       "    </tr>\n",
       "  </thead>\n",
       "  <tbody>\n",
       "    <tr>\n",
       "      <th>False</th>\n",
       "      <td>0.819964</td>\n",
       "      <td>0.824193</td>\n",
       "    </tr>\n",
       "    <tr>\n",
       "      <th>True</th>\n",
       "      <td>0.180036</td>\n",
       "      <td>0.175807</td>\n",
       "    </tr>\n",
       "  </tbody>\n",
       "</table>\n",
       "</div>"
      ],
      "text/plain": [
       "sex                 male    female\n",
       "college_degree                    \n",
       "False           0.819964  0.824193\n",
       "True            0.180036  0.175807"
      ]
     },
     "execution_count": 24,
     "metadata": {},
     "output_type": "execute_result"
    }
   ],
   "source": [
    "older = acs[acs['age'] > 40]\n",
    "pd.crosstab(older['college_degree'], older['sex'], normalize='columns')"
   ]
  },
  {
   "cell_type": "code",
   "execution_count": 25,
   "metadata": {},
   "outputs": [
    {
     "data": {
      "text/html": [
       "<div>\n",
       "<style scoped>\n",
       "    .dataframe tbody tr th:only-of-type {\n",
       "        vertical-align: middle;\n",
       "    }\n",
       "\n",
       "    .dataframe tbody tr th {\n",
       "        vertical-align: top;\n",
       "    }\n",
       "\n",
       "    .dataframe thead th {\n",
       "        text-align: right;\n",
       "    }\n",
       "</style>\n",
       "<table border=\"1\" class=\"dataframe\">\n",
       "  <thead>\n",
       "    <tr style=\"text-align: right;\">\n",
       "      <th>sex</th>\n",
       "      <th>male</th>\n",
       "      <th>female</th>\n",
       "    </tr>\n",
       "    <tr>\n",
       "      <th>college_degree</th>\n",
       "      <th></th>\n",
       "      <th></th>\n",
       "    </tr>\n",
       "  </thead>\n",
       "  <tbody>\n",
       "    <tr>\n",
       "      <th>False</th>\n",
       "      <td>0.808985</td>\n",
       "      <td>0.763971</td>\n",
       "    </tr>\n",
       "    <tr>\n",
       "      <th>True</th>\n",
       "      <td>0.191015</td>\n",
       "      <td>0.236029</td>\n",
       "    </tr>\n",
       "  </tbody>\n",
       "</table>\n",
       "</div>"
      ],
      "text/plain": [
       "sex                 male    female\n",
       "college_degree                    \n",
       "False           0.808985  0.763971\n",
       "True            0.191015  0.236029"
      ]
     },
     "execution_count": 25,
     "metadata": {},
     "output_type": "execute_result"
    }
   ],
   "source": [
    "older = acs[acs['age'] < 40]\n",
    "pd.crosstab(older['college_degree'], older['sex'], normalize='columns')"
   ]
  }
 ],
 "metadata": {
  "kernelspec": {
   "display_name": "Python 3",
   "language": "python",
   "name": "python3"
  },
  "language_info": {
   "codemirror_mode": {
    "name": "ipython",
    "version": 3
   },
   "file_extension": ".py",
   "mimetype": "text/x-python",
   "name": "python",
   "nbconvert_exporter": "python",
   "pygments_lexer": "ipython3",
   "version": "3.7.3"
  }
 },
 "nbformat": 4,
 "nbformat_minor": 4
}
