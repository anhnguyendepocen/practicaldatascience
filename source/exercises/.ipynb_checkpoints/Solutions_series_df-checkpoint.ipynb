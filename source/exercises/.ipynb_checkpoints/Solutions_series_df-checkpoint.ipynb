{
 "cells": [
  {
   "cell_type": "markdown",
   "metadata": {},
   "source": [
    "# Estimating Labor Market Returns to Education\n",
    "\n",
    "**Note:** Most students taking this class are Duke MIDS students who have worked with `pandas` previously. As a result, these exercises are very light on basic pandas Series and DataFrame manipulations. If you are new to `pandas`, I would advise looking into some addition practice opportunities with `pandas`, as discussed in the [Advice for Non-MIDS Students](../not_a_mids_student.ipynb) page. \n",
    "\n",
    "In this exercise, we're going to use data from the [American Communities Survey (ACS)](https://usa.ipums.org/usa/acs.shtml) to study the relationship betwen educational attainment and wages. The ACS is a survey conducted by the United States Census Bureau (though it is not \"The Census\", which is a counting of every person in the United States that takes place every 10 years) to measure numerous features of the US population. The data we will be working with includes about 100 variables from the 2017 ACS survey, and is composed of only 10% of all the people actually surveyed by the ACS. This data comes from [IPUMS](https://usa.ipums.org/usa/), which provides a very useful tool for getting subsets of major survey datasets, not just from the US, but [from government statistical agencies the world over](https://international.ipums.org/international-action/sample_details).\n",
    "\n",
    "This is *real* data, meaning that you are being provided the data as it is provided by IPUMS. \n",
    "\n",
    "Within this data is information on both the educational background and current earnings of a representative sample of Americans. We will now use this data to estimate the labor-market returns to graduating high school and college, and to learn something about the meaning of an educational degree. "
   ]
  },
  {
   "cell_type": "markdown",
   "metadata": {},
   "source": [
    "### Exercise 1\n",
    "\n",
    "Data for these [exercises can be found here](https://github.com/nickeubank/MIDS_Data/tree/master/US_AmericanCommunitySurvey). First, download `US_ACS_2017_10pct_sample.dta`. "
   ]
  },
  {
   "cell_type": "markdown",
   "metadata": {},
   "source": [
    "### Exercise 2\n",
    "\n",
    "Now import `US_ACS_2017_10pct_sample.dta` into a pandas DataFrame. This can be done with the command `pd.read_stata`, which will read in files created in the program Stata (and which uses the file suffix `.dta`. "
   ]
  },
  {
   "cell_type": "code",
   "execution_count": 1,
   "metadata": {},
   "outputs": [],
   "source": [
    "import pandas as pd\n",
    "import numpy as np\n",
    "# Download the data\n",
    "acs = pd.read_stata(\"https://github.com/nickeubank/MIDS_Data/raw/master/US_AmericanCommunitySurvey/US_ACS_2017_10pct_sample.dta\")"
   ]
  },
  {
   "cell_type": "markdown",
   "metadata": {},
   "source": [
    "### Exercise 3\n",
    "\n",
    "It can be difficult to get an easy overview of all the variables included in a large DataFrame. First, try to see them all using the command:\n",
    "\n",
    "```\n",
    "acs.columns\n",
    "```\n"
   ]
  },
  {
   "cell_type": "code",
   "execution_count": 2,
   "metadata": {},
   "outputs": [
    {
     "data": {
      "text/plain": [
       "Index(['year', 'datanum', 'serial', 'cbserial', 'numprec', 'subsamp', 'hhwt',\n",
       "       'hhtype', 'cluster', 'adjust',\n",
       "       ...\n",
       "       'migcounty1', 'migmet131', 'vetdisab', 'diffrem', 'diffphys', 'diffmob',\n",
       "       'diffcare', 'diffsens', 'diffeye', 'diffhear'],\n",
       "      dtype='object', length=104)"
      ]
     },
     "execution_count": 2,
     "metadata": {},
     "output_type": "execute_result"
    }
   ],
   "source": [
    "acs.columns"
   ]
  },
  {
   "cell_type": "markdown",
   "metadata": {},
   "source": [
    "As you will see, `python` doesn't like to print out all the different variables. To get everything printed out, we can loop over all the columns and print them one at a time with the command:\n",
    "\n",
    "```\n",
    "for c in acs.columns: print(c)\n",
    "```\n",
    "\n",
    "Try it. "
   ]
  },
  {
   "cell_type": "code",
   "execution_count": 3,
   "metadata": {},
   "outputs": [
    {
     "name": "stdout",
     "output_type": "stream",
     "text": [
      "year\n",
      "datanum\n",
      "serial\n",
      "cbserial\n",
      "numprec\n",
      "subsamp\n",
      "hhwt\n",
      "hhtype\n",
      "cluster\n",
      "adjust\n",
      "cpi99\n",
      "region\n",
      "stateicp\n",
      "statefip\n",
      "countyicp\n",
      "countyfip\n",
      "metro\n",
      "city\n",
      "citypop\n",
      "strata\n",
      "gq\n",
      "farm\n",
      "ownershp\n",
      "ownershpd\n",
      "mortgage\n",
      "mortgag2\n",
      "mortamt1\n",
      "mortamt2\n",
      "respmode\n",
      "pernum\n",
      "cbpernum\n",
      "perwt\n",
      "slwt\n",
      "famunit\n",
      "sex\n",
      "age\n",
      "marst\n",
      "birthyr\n",
      "race\n",
      "raced\n",
      "hispan\n",
      "hispand\n",
      "bpl\n",
      "bpld\n",
      "citizen\n",
      "yrnatur\n",
      "yrimmig\n",
      "language\n",
      "languaged\n",
      "speakeng\n",
      "hcovany\n",
      "hcovpriv\n",
      "hinsemp\n",
      "hinspur\n",
      "hinstri\n",
      "hcovpub\n",
      "hinscaid\n",
      "hinscare\n",
      "hinsva\n",
      "hinsihs\n",
      "school\n",
      "educ\n",
      "educd\n",
      "gradeatt\n",
      "gradeattd\n",
      "schltype\n",
      "degfield\n",
      "degfieldd\n",
      "degfield2\n",
      "degfield2d\n",
      "empstat\n",
      "empstatd\n",
      "labforce\n",
      "occ\n",
      "ind\n",
      "classwkr\n",
      "classwkrd\n",
      "looking\n",
      "availble\n",
      "inctot\n",
      "ftotinc\n",
      "incwage\n",
      "incbus00\n",
      "incss\n",
      "incwelfr\n",
      "incinvst\n",
      "incretir\n",
      "incsupp\n",
      "incother\n",
      "incearn\n",
      "poverty\n",
      "migrate1\n",
      "migrate1d\n",
      "migplac1\n",
      "migcounty1\n",
      "migmet131\n",
      "vetdisab\n",
      "diffrem\n",
      "diffphys\n",
      "diffmob\n",
      "diffcare\n",
      "diffsens\n",
      "diffeye\n",
      "diffhear\n"
     ]
    }
   ],
   "source": [
    "for c in acs.columns: print(c)"
   ]
  },
  {
   "cell_type": "markdown",
   "metadata": {},
   "source": [
    "### Exercise 4\n",
    "\n",
    "To understand the relationship between education and wages, we need variables for: \n",
    "\n",
    "- Age\n",
    "- Income\n",
    "- Education\n",
    "- Employment status (is the person actually working)\n",
    "\n",
    "These quantities of interest correspond to the following variables in our data: `age`, `inctot`, `educ`, and `empstat`. "
   ]
  },
  {
   "cell_type": "markdown",
   "metadata": {},
   "source": [
    "### Exercise 5\n",
    "\n",
    "Once you have found the right variables, subset your DataFrame so you only have the variables you need. This will make the DataFrame easier to work with. "
   ]
  },
  {
   "cell_type": "code",
   "execution_count": 4,
   "metadata": {},
   "outputs": [],
   "source": [
    "acs = acs[['age', 'empstat', 'inctot', 'educ']]"
   ]
  },
  {
   "cell_type": "code",
   "execution_count": 5,
   "metadata": {},
   "outputs": [
    {
     "data": {
      "text/html": [
       "<div>\n",
       "<style scoped>\n",
       "    .dataframe tbody tr th:only-of-type {\n",
       "        vertical-align: middle;\n",
       "    }\n",
       "\n",
       "    .dataframe tbody tr th {\n",
       "        vertical-align: top;\n",
       "    }\n",
       "\n",
       "    .dataframe thead th {\n",
       "        text-align: right;\n",
       "    }\n",
       "</style>\n",
       "<table border=\"1\" class=\"dataframe\">\n",
       "  <thead>\n",
       "    <tr style=\"text-align: right;\">\n",
       "      <th></th>\n",
       "      <th>age</th>\n",
       "      <th>empstat</th>\n",
       "      <th>inctot</th>\n",
       "      <th>educ</th>\n",
       "    </tr>\n",
       "  </thead>\n",
       "  <tbody>\n",
       "    <tr>\n",
       "      <th>0</th>\n",
       "      <td>4</td>\n",
       "      <td>n/a</td>\n",
       "      <td>9999999</td>\n",
       "      <td>nursery school to grade 4</td>\n",
       "    </tr>\n",
       "    <tr>\n",
       "      <th>1</th>\n",
       "      <td>17</td>\n",
       "      <td>employed</td>\n",
       "      <td>6000</td>\n",
       "      <td>grade 11</td>\n",
       "    </tr>\n",
       "    <tr>\n",
       "      <th>2</th>\n",
       "      <td>63</td>\n",
       "      <td>employed</td>\n",
       "      <td>6150</td>\n",
       "      <td>4 years of college</td>\n",
       "    </tr>\n",
       "    <tr>\n",
       "      <th>3</th>\n",
       "      <td>66</td>\n",
       "      <td>not in labor force</td>\n",
       "      <td>14000</td>\n",
       "      <td>grade 12</td>\n",
       "    </tr>\n",
       "    <tr>\n",
       "      <th>4</th>\n",
       "      <td>1</td>\n",
       "      <td>n/a</td>\n",
       "      <td>9999999</td>\n",
       "      <td>n/a or no schooling</td>\n",
       "    </tr>\n",
       "  </tbody>\n",
       "</table>\n",
       "</div>"
      ],
      "text/plain": [
       "  age             empstat   inctot                       educ\n",
       "0   4                 n/a  9999999  nursery school to grade 4\n",
       "1  17            employed     6000                   grade 11\n",
       "2  63            employed     6150         4 years of college\n",
       "3  66  not in labor force    14000                   grade 12\n",
       "4   1                 n/a  9999999        n/a or no schooling"
      ]
     },
     "execution_count": 5,
     "metadata": {},
     "output_type": "execute_result"
    }
   ],
   "source": [
    "acs.head()"
   ]
  },
  {
   "cell_type": "markdown",
   "metadata": {},
   "source": [
    "### Exercise 6\n",
    "\n",
    "Look at your data using the `.sample()` command. `.sample()` will give you a random subset of rows from a DataFrame, and is a very good way to eye-ball your data. Try `.sample(10)` to get 10 random rows. Do you see any immediate problems? Write them down with your partner. "
   ]
  },
  {
   "cell_type": "code",
   "execution_count": 6,
   "metadata": {},
   "outputs": [
    {
     "data": {
      "text/html": [
       "<div>\n",
       "<style scoped>\n",
       "    .dataframe tbody tr th:only-of-type {\n",
       "        vertical-align: middle;\n",
       "    }\n",
       "\n",
       "    .dataframe tbody tr th {\n",
       "        vertical-align: top;\n",
       "    }\n",
       "\n",
       "    .dataframe thead th {\n",
       "        text-align: right;\n",
       "    }\n",
       "</style>\n",
       "<table border=\"1\" class=\"dataframe\">\n",
       "  <thead>\n",
       "    <tr style=\"text-align: right;\">\n",
       "      <th></th>\n",
       "      <th>age</th>\n",
       "      <th>empstat</th>\n",
       "      <th>inctot</th>\n",
       "      <th>educ</th>\n",
       "    </tr>\n",
       "  </thead>\n",
       "  <tbody>\n",
       "    <tr>\n",
       "      <th>51701</th>\n",
       "      <td>32</td>\n",
       "      <td>not in labor force</td>\n",
       "      <td>0</td>\n",
       "      <td>grade 12</td>\n",
       "    </tr>\n",
       "    <tr>\n",
       "      <th>28927</th>\n",
       "      <td>39</td>\n",
       "      <td>employed</td>\n",
       "      <td>63400</td>\n",
       "      <td>5+ years of college</td>\n",
       "    </tr>\n",
       "    <tr>\n",
       "      <th>221662</th>\n",
       "      <td>26</td>\n",
       "      <td>not in labor force</td>\n",
       "      <td>40240</td>\n",
       "      <td>grade 12</td>\n",
       "    </tr>\n",
       "    <tr>\n",
       "      <th>155642</th>\n",
       "      <td>70</td>\n",
       "      <td>not in labor force</td>\n",
       "      <td>37800</td>\n",
       "      <td>grade 12</td>\n",
       "    </tr>\n",
       "    <tr>\n",
       "      <th>125168</th>\n",
       "      <td>45</td>\n",
       "      <td>employed</td>\n",
       "      <td>35000</td>\n",
       "      <td>grade 12</td>\n",
       "    </tr>\n",
       "    <tr>\n",
       "      <th>313335</th>\n",
       "      <td>94</td>\n",
       "      <td>not in labor force</td>\n",
       "      <td>13500</td>\n",
       "      <td>4 years of college</td>\n",
       "    </tr>\n",
       "    <tr>\n",
       "      <th>112181</th>\n",
       "      <td>86</td>\n",
       "      <td>not in labor force</td>\n",
       "      <td>31200</td>\n",
       "      <td>grade 11</td>\n",
       "    </tr>\n",
       "    <tr>\n",
       "      <th>249730</th>\n",
       "      <td>79</td>\n",
       "      <td>not in labor force</td>\n",
       "      <td>14900</td>\n",
       "      <td>grade 12</td>\n",
       "    </tr>\n",
       "    <tr>\n",
       "      <th>226638</th>\n",
       "      <td>12</td>\n",
       "      <td>n/a</td>\n",
       "      <td>9999999</td>\n",
       "      <td>grade 5, 6, 7, or 8</td>\n",
       "    </tr>\n",
       "    <tr>\n",
       "      <th>77383</th>\n",
       "      <td>61</td>\n",
       "      <td>employed</td>\n",
       "      <td>20000</td>\n",
       "      <td>grade 12</td>\n",
       "    </tr>\n",
       "  </tbody>\n",
       "</table>\n",
       "</div>"
      ],
      "text/plain": [
       "       age             empstat   inctot                 educ\n",
       "51701   32  not in labor force        0             grade 12\n",
       "28927   39            employed    63400  5+ years of college\n",
       "221662  26  not in labor force    40240             grade 12\n",
       "155642  70  not in labor force    37800             grade 12\n",
       "125168  45            employed    35000             grade 12\n",
       "313335  94  not in labor force    13500   4 years of college\n",
       "112181  86  not in labor force    31200             grade 11\n",
       "249730  79  not in labor force    14900             grade 12\n",
       "226638  12                 n/a  9999999  grade 5, 6, 7, or 8\n",
       "77383   61            employed    20000             grade 12"
      ]
     },
     "execution_count": 6,
     "metadata": {},
     "output_type": "execute_result"
    }
   ],
   "source": [
    "acs.sample(10)"
   ]
  },
  {
   "cell_type": "markdown",
   "metadata": {},
   "source": [
    "### Exercise 7\n",
    "\n",
    "One obvious problem is that many people seem to have incomes of $9,999,999. Moreover, people with those incomes seem to be very young children. \n",
    "\n",
    "What you are seeing is one method (a relatively old one) for representing missing data. In this case, 9999999 is a method of saying \"this person is too young to work, so their income value is missing\". \n",
    "\n",
    "So let's begin by dropping anyone who has `inctot` equal to 9999999. "
   ]
  },
  {
   "cell_type": "code",
   "execution_count": 7,
   "metadata": {},
   "outputs": [],
   "source": [
    "acs = acs.query('inctot != 9999999')"
   ]
  },
  {
   "cell_type": "markdown",
   "metadata": {},
   "source": [
    "### Exercise 8\n",
    "\n",
    "OK, the other thing we want to do is only consider people who are employed. So subset the dataset for the people for whom `empstat` is equal to \"employed\". \n",
    "\n",
    "Note that our decision to only look at people who are employed impacts how we should interpret the relationship we estimate between education and income. Because we are only looked at employed people, we will be estimating the relationship between education and income *for people who are employed*. That means that if education affects the *likelihood* someone is employed, we won't capture that in this analysis. "
   ]
  },
  {
   "cell_type": "code",
   "execution_count": 8,
   "metadata": {},
   "outputs": [
    {
     "data": {
      "text/html": [
       "<div>\n",
       "<style scoped>\n",
       "    .dataframe tbody tr th:only-of-type {\n",
       "        vertical-align: middle;\n",
       "    }\n",
       "\n",
       "    .dataframe tbody tr th {\n",
       "        vertical-align: top;\n",
       "    }\n",
       "\n",
       "    .dataframe thead th {\n",
       "        text-align: right;\n",
       "    }\n",
       "</style>\n",
       "<table border=\"1\" class=\"dataframe\">\n",
       "  <thead>\n",
       "    <tr style=\"text-align: right;\">\n",
       "      <th></th>\n",
       "      <th>age</th>\n",
       "      <th>empstat</th>\n",
       "      <th>inctot</th>\n",
       "      <th>educ</th>\n",
       "    </tr>\n",
       "  </thead>\n",
       "  <tbody>\n",
       "    <tr>\n",
       "      <th>175130</th>\n",
       "      <td>24</td>\n",
       "      <td>employed</td>\n",
       "      <td>50000</td>\n",
       "      <td>4 years of college</td>\n",
       "    </tr>\n",
       "    <tr>\n",
       "      <th>286294</th>\n",
       "      <td>38</td>\n",
       "      <td>employed</td>\n",
       "      <td>42200</td>\n",
       "      <td>2 years of college</td>\n",
       "    </tr>\n",
       "    <tr>\n",
       "      <th>225621</th>\n",
       "      <td>48</td>\n",
       "      <td>employed</td>\n",
       "      <td>117000</td>\n",
       "      <td>5+ years of college</td>\n",
       "    </tr>\n",
       "    <tr>\n",
       "      <th>277512</th>\n",
       "      <td>44</td>\n",
       "      <td>employed</td>\n",
       "      <td>36900</td>\n",
       "      <td>1 year of college</td>\n",
       "    </tr>\n",
       "    <tr>\n",
       "      <th>14380</th>\n",
       "      <td>67</td>\n",
       "      <td>employed</td>\n",
       "      <td>31350</td>\n",
       "      <td>4 years of college</td>\n",
       "    </tr>\n",
       "    <tr>\n",
       "      <th>120951</th>\n",
       "      <td>46</td>\n",
       "      <td>employed</td>\n",
       "      <td>68000</td>\n",
       "      <td>4 years of college</td>\n",
       "    </tr>\n",
       "    <tr>\n",
       "      <th>272275</th>\n",
       "      <td>49</td>\n",
       "      <td>employed</td>\n",
       "      <td>38000</td>\n",
       "      <td>grade 12</td>\n",
       "    </tr>\n",
       "    <tr>\n",
       "      <th>170413</th>\n",
       "      <td>46</td>\n",
       "      <td>employed</td>\n",
       "      <td>295000</td>\n",
       "      <td>5+ years of college</td>\n",
       "    </tr>\n",
       "    <tr>\n",
       "      <th>278062</th>\n",
       "      <td>65</td>\n",
       "      <td>employed</td>\n",
       "      <td>75000</td>\n",
       "      <td>5+ years of college</td>\n",
       "    </tr>\n",
       "    <tr>\n",
       "      <th>166874</th>\n",
       "      <td>56</td>\n",
       "      <td>employed</td>\n",
       "      <td>43000</td>\n",
       "      <td>grade 12</td>\n",
       "    </tr>\n",
       "  </tbody>\n",
       "</table>\n",
       "</div>"
      ],
      "text/plain": [
       "       age   empstat  inctot                 educ\n",
       "175130  24  employed   50000   4 years of college\n",
       "286294  38  employed   42200   2 years of college\n",
       "225621  48  employed  117000  5+ years of college\n",
       "277512  44  employed   36900    1 year of college\n",
       "14380   67  employed   31350   4 years of college\n",
       "120951  46  employed   68000   4 years of college\n",
       "272275  49  employed   38000             grade 12\n",
       "170413  46  employed  295000  5+ years of college\n",
       "278062  65  employed   75000  5+ years of college\n",
       "166874  56  employed   43000             grade 12"
      ]
     },
     "execution_count": 8,
     "metadata": {},
     "output_type": "execute_result"
    }
   ],
   "source": [
    "acs = acs.loc[acs.empstat == \"employed\", ]\n",
    "acs.sample(10)"
   ]
  },
  {
   "cell_type": "markdown",
   "metadata": {},
   "source": [
    "### Exercise 9\n",
    "\n",
    "When we dropped anyone with `inctot == 9999999`, we assumed we'd dropped all the children in the data (since when we looked at the data, those values seemed to appear for children). But we never checked the age cutoff being used. Let's check now: what's the minimium age of people still in our current data?"
   ]
  },
  {
   "cell_type": "markdown",
   "metadata": {},
   "source": [
    "### Exercise 10\n",
    "\n",
    "Now let's turn to education. The `educ` variable seems to have a lot of discrete values. Let's see what values exist, and their distribution, using the `value_counts()` method. This is an *extremely* useful tool you'll use a lot! Try the following code (modified for the name of your dataset, of course):\n",
    "\n",
    "```\n",
    "acs['educ'].value_counts()\n",
    "```"
   ]
  },
  {
   "cell_type": "code",
   "execution_count": 9,
   "metadata": {},
   "outputs": [
    {
     "data": {
      "text/plain": [
       "grade 12                     47815\n",
       "4 years of college           33174\n",
       "1 year of college            22899\n",
       "5+ years of college          20995\n",
       "2 years of college           14077\n",
       "grade 11                      2747\n",
       "grade 5, 6, 7, or 8           2092\n",
       "grade 10                      1910\n",
       "n/a or no schooling           1291\n",
       "grade 9                       1290\n",
       "nursery school to grade 4      468\n",
       "Name: educ, dtype: int64"
      ]
     },
     "execution_count": 9,
     "metadata": {},
     "output_type": "execute_result"
    }
   ],
   "source": [
    "acs['educ'].value_counts()"
   ]
  },
  {
   "cell_type": "markdown",
   "metadata": {},
   "source": [
    "### Exercise 11\n",
    "\n",
    "There are a lot of values in here, so let's just check a couple. What is the average value of `inctot` for people whose highest grade level is \"grade 12\" (in the US, that is someone who has graduated high school)?"
   ]
  },
  {
   "cell_type": "code",
   "execution_count": 10,
   "metadata": {},
   "outputs": [
    {
     "data": {
      "text/plain": [
       "38957.76068179442"
      ]
     },
     "execution_count": 10,
     "metadata": {},
     "output_type": "execute_result"
    }
   ],
   "source": [
    "acs.loc[acs['educ']=='grade 12', 'inctot'].mean()"
   ]
  },
  {
   "cell_type": "markdown",
   "metadata": {},
   "source": [
    "### Exercise 12\n",
    "\n",
    "What is the average income of someone who graduated college (\"4 years of college\")? What does that suggest is the value of getting a college degree after graduating high school?"
   ]
  },
  {
   "cell_type": "markdown",
   "metadata": {},
   "source": [
    "### Exercise 13\n",
    "\n",
    "What is the average income for someone who has not finished high school? What does that suggest is the value of a high school diploma?"
   ]
  },
  {
   "cell_type": "markdown",
   "metadata": {},
   "source": [
    "### Exercise 14\n",
    "\n",
    "Complete the following table:\n",
    "\n",
    "- Average income for someone who has not finished high school: _________\n",
    "- Average income for someone who only completed 9th grade: _________\n",
    "- Average income for someone who only completed 10th grade: _________\n",
    "- Average income for someone who only completed 11th grade: _________\n",
    "- Average income for someone who finished high school (12th grade) but never started college: _________\n",
    "- Average income for someone who completed 4 year of college (in the US, this means graduating college): _________"
   ]
  },
  {
   "cell_type": "code",
   "execution_count": 11,
   "metadata": {},
   "outputs": [
    {
     "data": {
      "text/html": [
       "<div>\n",
       "<style scoped>\n",
       "    .dataframe tbody tr th:only-of-type {\n",
       "        vertical-align: middle;\n",
       "    }\n",
       "\n",
       "    .dataframe tbody tr th {\n",
       "        vertical-align: top;\n",
       "    }\n",
       "\n",
       "    .dataframe thead th {\n",
       "        text-align: right;\n",
       "    }\n",
       "</style>\n",
       "<table border=\"1\" class=\"dataframe\">\n",
       "  <thead>\n",
       "    <tr style=\"text-align: right;\">\n",
       "      <th></th>\n",
       "      <th>inctot</th>\n",
       "    </tr>\n",
       "    <tr>\n",
       "      <th>educ</th>\n",
       "      <th></th>\n",
       "    </tr>\n",
       "  </thead>\n",
       "  <tbody>\n",
       "    <tr>\n",
       "      <th>n/a or no schooling</th>\n",
       "      <td>32276.878389</td>\n",
       "    </tr>\n",
       "    <tr>\n",
       "      <th>nursery school to grade 4</th>\n",
       "      <td>27592.649573</td>\n",
       "    </tr>\n",
       "    <tr>\n",
       "      <th>grade 5, 6, 7, or 8</th>\n",
       "      <td>30684.196941</td>\n",
       "    </tr>\n",
       "    <tr>\n",
       "      <th>grade 9</th>\n",
       "      <td>27171.907752</td>\n",
       "    </tr>\n",
       "    <tr>\n",
       "      <th>grade 10</th>\n",
       "      <td>23018.795812</td>\n",
       "    </tr>\n",
       "    <tr>\n",
       "      <th>grade 11</th>\n",
       "      <td>21541.686931</td>\n",
       "    </tr>\n",
       "    <tr>\n",
       "      <th>grade 12</th>\n",
       "      <td>38957.760682</td>\n",
       "    </tr>\n",
       "    <tr>\n",
       "      <th>1 year of college</th>\n",
       "      <td>43123.872571</td>\n",
       "    </tr>\n",
       "    <tr>\n",
       "      <th>2 years of college</th>\n",
       "      <td>48679.305392</td>\n",
       "    </tr>\n",
       "    <tr>\n",
       "      <th>4 years of college</th>\n",
       "      <td>75485.052933</td>\n",
       "    </tr>\n",
       "    <tr>\n",
       "      <th>5+ years of college</th>\n",
       "      <td>110013.221338</td>\n",
       "    </tr>\n",
       "  </tbody>\n",
       "</table>\n",
       "</div>"
      ],
      "text/plain": [
       "                                  inctot\n",
       "educ                                    \n",
       "n/a or no schooling         32276.878389\n",
       "nursery school to grade 4   27592.649573\n",
       "grade 5, 6, 7, or 8         30684.196941\n",
       "grade 9                     27171.907752\n",
       "grade 10                    23018.795812\n",
       "grade 11                    21541.686931\n",
       "grade 12                    38957.760682\n",
       "1 year of college           43123.872571\n",
       "2 years of college          48679.305392\n",
       "4 years of college          75485.052933\n",
       "5+ years of college        110013.221338"
      ]
     },
     "execution_count": 11,
     "metadata": {},
     "output_type": "execute_result"
    }
   ],
   "source": [
    "acs.groupby('educ').mean()"
   ]
  },
  {
   "cell_type": "markdown",
   "metadata": {},
   "source": [
    "### Exercise 15\n",
    "\n",
    "Why do you think there is no benefit from moving from grade 9 to grade 10, or grade 10 to grade 11, but there is a huge benefit to moving from grade 11 to graduating high school (grade 12)?"
   ]
  },
  {
   "cell_type": "markdown",
   "metadata": {},
   "source": [
    "## Take-aways\n",
    "\n",
    "Congratulations! You just discovered \"the sheepskin effect!:\" people with degrees tend to earn more than people who have the same education, but don't have the certificate of completion. \n",
    "\n",
    "In economics, this is viewed as evidence that the reason employers pay people with high school degrees more than those without degree is *not* that they think those who graduated high school have learned specific, useful skills. If that were the case, we would expect employee earnings to rise with every year of high school, since in each year of high school we learn more. Instead, this suggests employees pay high school graduates more because they think *the kind of people* who can finish high school are the *kind of people* who are likely to succeed. Finishing high school, in other words, isn't about accumulating specific knowledge; it's about showing that you *are the kind of person* who can rise to the challenge of finishing high school, also suggesting you are also the kind of person who can succeed as an employee. \n",
    "\n",
    "(Obviously, this does not tell us whether that is an *accurate* inference, just that that seems to be how employeers think.) \n",
    "\n",
    "The high school degree, in other words, is a *signal* about the kind of person you are (an idea that earned [Michael Spence](https://en.wikipedia.org/wiki/Michael_Spence) a Nobel Prize in Economics). "
   ]
  }
 ],
 "metadata": {
  "kernelspec": {
   "display_name": "Python 3",
   "language": "python",
   "name": "python3"
  },
  "language_info": {
   "codemirror_mode": {
    "name": "ipython",
    "version": 3
   },
   "file_extension": ".py",
   "mimetype": "text/x-python",
   "name": "python",
   "nbconvert_exporter": "python",
   "pygments_lexer": "ipython3",
   "version": "3.7.3"
  }
 },
 "nbformat": 4,
 "nbformat_minor": 4
}
