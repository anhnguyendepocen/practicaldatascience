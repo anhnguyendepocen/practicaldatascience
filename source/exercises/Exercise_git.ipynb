{
 "cells": [
  {
   "cell_type": "markdown",
   "metadata": {},
   "source": [
    "# Git and Github\n",
    "\n",
    "Since you've now worked through the \"hand-holding\" git tutorials, in these exercises we'll be a little more hands-off!\n",
    "\n",
    "In these exercises, we'll be practicing creating and contributing to projects using the \"Github Flow\" workflow you can [find summarized here](https://guides.github.com/introduction/flow/). Note this is not the only workflow out there -- different companies or groups will often develop their own modification of this basic strategy -- but most are pretty similar to this approach. \n",
    "\n",
    "Throughout these excercises, we will be working in teams, where each team consists of two pairs of students. Before you start, make sure you identify which pair is Pair A, and which pair is Pair B. Each *pair* should share a single computer and github account. \n",
    "\n",
    "So neither team sits around while the other works, we'll be setting up *two* repositories per team, so each pair can be working different repos simultaneously. \n",
    "\n",
    "Throughout these exercises, we'll be working with *shared repositories*, so you don't have to fork a repository before starting work."
   ]
  },
  {
   "cell_type": "markdown",
   "metadata": {},
   "source": [
    "### Part 0\n",
    "\n",
    "The two pairs in each team should exchange the two github usernames they will be using for the class. Once completed, they should move to positions on opposite sides of the room. "
   ]
  },
  {
   "cell_type": "markdown",
   "metadata": {},
   "source": [
    "## Part 1\n",
    "\n",
    "\n",
    "### Pair A Instructions\n",
    "\n",
    "You will create a repository where we will use data from the World Development Indicators to examine the relationship between GDP per capita and CO2 emmissions per capita so we can better understand what countries are doing a better job of managing carbon emissions *conditional on equal economic output*. \n",
    "\n",
    "**(1)** **Pair A:** create a new repository on github called \"GDP_and_CO2\", add **Pair B** as collaborators under `Settings`, and create a local copy of the repository on your own computer. \n",
    "\n",
    "**(2)** **Pair A:** In a new branch, write a script to read the WDI data at this url: \"https://github.com/nickeubank/MIDS_Data/raw/master/World_Development_Indicators/raw_WDI_Data_csv.zip\". (Write your code to read the data directly from this URL so someone who clones your repository can run your code and get you results without downloading more data). Then extract the variables for CO2 emissions per capita and GDP per capita for 2016, and reshape the data for analysis. \n",
    "\n",
    "**(3)** **Pair A:** Once complete, create a Pull Request (PR) to merge the data back into the main repository. Invite **Pair B** to review the PR (via github). \n",
    "\n",
    "**(4)** **Pair A:** Create an issue asking **Pair B** to complete the analysis of the relationship. \n",
    "\n",
    "**(5)** **Pair A:** Now rather than a change made through a PR, let's make a small direct edit. Switch back to the master branch and add a README.md (or modify the existing readme if you have one already) so it states the purpose of the repository. Commit and push the new README file. \n",
    "\n",
    "**Note:** This is the kind of thing you'd never do in a big organization where lots of people are using a common repository, or with code that people may be actively using (e.g. many people actually use the `master` branch of pandas to do their analysis on a day-to-day basis, so breaking it would be *really* bad). But when working in small teams on this type of analysis code, it is not uncommon to sometimes want to make small changes that you are sure don't need review (e.g. something small like this). Also, it serves a purpose in this lesson. :)"
   ]
  },
  {
   "cell_type": "markdown",
   "metadata": {},
   "source": [
    "### Pair B Instructions\n",
    "\n",
    "You will create a repository where we will use data from the World Development Indicators to examine the relationship between GDP per capita and infant mortality. A common debate in the economic development literature is whether it is enough to focus on economic development (in the hopes that improvements in economic welfare will also impact other aspects of development) or whether we need to instead pick very specific dimensions of development (like health outcomes) on which to focus. So let's see how closely economic development and health outomes are correlated. \n",
    "\n",
    "**(1)** **Pair B:** create a new repository on github \"GDP_and_InfantMortality\", and add **Pair A** as collaborators under `Settings`, and create a local copy of the repository on your own computer. \n",
    "\n",
    "**(2)** **Pair B:** In a new branch, write a script to read the WDI data at this url: \"https://github.com/nickeubank/MIDS_Data/raw/master/World_Development_Indicators/raw_WDI_Data_csv.zip\". (Write your code to read the data directly from this URL so someone who clones your repository can run your code and get you results without downloading more data). Then the columns for infant mortality rate and GDP per capita for 2016, and reshape the data for analysis. \n",
    "\n",
    "**(3)** **Pair B:** Once complete, create a Pull Request (PR) to merge the data back into the main repository. Invite **Pair A** to review the PR (via github). \n",
    "\n",
    "**(4)** **Pair B:** Create an issue asking **Pair A** to complete the analysis of the relationship by plotting mortality against GDP per capita. \n",
    "\n",
    "**(5)** **Pair B:** Now rather than a change made through a PR, let's make a small direct edit. Switch back to the master branch and add a README.md (or modify the existing readme if you have one already) so it states the purpose of the repository. Commit and push the new README file. \n",
    "\n",
    "**Note:** This is the kind of thing you'd never do in a big organization where lots of people are using a common repository, or with code that people may be actively using (e.g. many people actually use the `master` branch of pandas to do their analysis on a day-to-day basis, so breaking it would be *really* bad). But when working in small teams on this type of analysis code, it is not uncommon to sometimes want to make small changes that you are sure don't need review (e.g. something small like this). Also, it serves a purpose in this lesson. :)"
   ]
  },
  {
   "cell_type": "markdown",
   "metadata": {},
   "source": [
    "## Part 2: Reviewing your PR\n",
    "\n",
    "Each pair should *review* the PR from the other pair. To do so, `pull` the other team's code and run it on your own computer to make sure it works, then add comments in the PR on github. This will require (a) cloning the other pair's repository, and (b) switching to the right branch. \n",
    "\n",
    "When reviewing the PR, you should *both*:\n",
    "\n",
    "- Add a global comment on the PR \"Conversation\" tab, and \n",
    "- Add at least least one line-specific comment on the \"Files Changed\" tab. \n",
    "\n",
    "This review should suggest at least one change to the other pair's PR. If the code in the other person's PR looks correct to you, you can ask for more comments to make the code easier to understand. "
   ]
  },
  {
   "cell_type": "markdown",
   "metadata": {},
   "source": [
    "## Part 3: Update and Merge your PRs\n",
    "\n",
    "Both pairs should have now gotten comments on their PR. Now each pair should modify their code to address the comments they got from the other group, and push their changes. Then ask the other pair to review your changes, and when everyone is happy with one another's edits, then Pair A can merge Pair B's PR, and Pair B can merge Pair A's PR. (In generally, the person proposing a PR should not be the one to merge the PR). "
   ]
  },
  {
   "cell_type": "markdown",
   "metadata": {},
   "source": [
    "## Part 4: Dealing with Conflicts\n",
    "\n",
    "Congratulations! You've completed your first full github workflow cycle! \n",
    "\n",
    "But truthfully, this was a *very* easy cycle. In reality, there are a few problems that often crop up, so let's explore what those look like now. \n",
    "\n",
    "The most common problem we face occurs when the repository you're working on changes *while you're working on your separate branch* in a way that causes conflicts. \n",
    "\n",
    "To illustrate, consider the following situation:\n",
    "\n",
    "- You clone a repository, create a branch, and start making some edits to the code that reshapes the WDI data. For example, maybe you decide you want to use GDP per capita in constant 2010 dollars instead of current US dollars.  \n",
    "- While you are making these edits, someone else comes along and modifies the code that reshapes the WDI data too. For example, suppose they decide they want data from 2015 instead of 2016. \n",
    "- The *other* person's code gets merged into the master branch while you're still working on your code. \n",
    "\n",
    "Now the master branch and the branch you are working on have \"diverged.\" That's because changes to the master branch don't get immediately applied to other branches, so the master branch now reflects changes that aren't present on the branch you've been working on. \n",
    "\n",
    "Now, *if* the specific lines of code that define what variables to use and what year to use are different lines of code, then when you go to merge your edits into the master branch (after your PR has been reviewed), then you won't have any problems. **Github considers each line of code to be a separate entity,** and so it will only compare lines of code you've modified to those in the master branch, and will just apply *only* those changes when you merge your PR. So no conflict!  \n",
    "\n",
    "Indeed, this is what happened above -- while you were working on your PR, the master branch you were working off changed when you directly edited your README file. But that didn't cause a problem for git, because it could merge in your PR by just combining (a) the changes made to README since you created your branch, and (b) the changes you've made to your data analysis file since you created your branch to create a new commit on the master branch. Those changes were made to fully independent lines of code, so they didn't conflict. \n",
    "\n",
    "**But if changes are applied to the master branch that affect the same lines of code being modified on a different branch, then you get a conflict.** For example, if the lines of code that select the year to use are the same lines of code that selects the variables to keep, then github is stuck. It knows that *since the creation of your new branch* that same line of code was edited in both your file *and* in the master branch, and it doesn't know which one is correct. If it uses your version of that line of code, then it would delete those changes to use 2015 instead of 2016; but if it uses the code on the master branch, your changes to what variables you use will be ignored. \n",
    "\n",
    "So when it happens, github throws up its hands and says \"sorry, this is above my paygrade. There's a problem here I can't solve, so I need you to do it manually\". And that's what's called a merge conflict. \n",
    "\n",
    "So to get used to merge conflicts, let's cause one! Note that both teams will have to do a bunch of steps in sequence to get this to work. "
   ]
  },
  {
   "cell_type": "markdown",
   "metadata": {},
   "source": [
    "## Creating a Merge Conflict\n",
    "\n",
    "**(1)** First, make sure both groups have pulled the most recent versions of both repositories so we're all on the same page. \n",
    "\n",
    "**(2)** Both pairs should create a new branch on the *other* pair's repository. Call it \"modify_repo_title\". \n",
    "\n",
    "**(3)** In that branch, open the README.md and add to the title (the *very first line* of the readme) the year of data you're using (2016). \n",
    "\n",
    "**(4)** Commit and push your edits, and create a new pull request. If you look at your pull request, you should see:\n",
    "\n",
    "![ok_to_merge image](../images/ok_to_merge.png)\n",
    "\n",
    "That's because at the moment, since you created your branch, no other changes have been made to the master branch that might conflict with your edits, so if you wanted to merge right now, git would know that it should use your edits. "
   ]
  },
  {
   "cell_type": "markdown",
   "metadata": {},
   "source": [
    "**(5)** Both pairs should move back to *their own* repositories. Now, on the master branch, edit the README.md title (the *very* first line) by adding the details of the GDP per capita variable (e.g. \"Constant 2010 US$\"). \n",
    "\n",
    "Now commit your changes directly to the master branch and push those changes."
   ]
  },
  {
   "cell_type": "markdown",
   "metadata": {},
   "source": [
    "**(6)** Now go back to your PR. You should see that because the master branch has now added edits *to the line you also edited since you created your branch,*, you can no longer just merge your edits! You'll see:\n",
    "\n",
    "![not ok to merge](../images/not_ok_to_merge.png)"
   ]
  },
  {
   "cell_type": "markdown",
   "metadata": {},
   "source": [
    "## Resolving a Merge Conflict\n",
    "\n",
    "Dealing with this situation requires several steps: \n",
    "\n",
    "1. Pull from the repository (so that all the new edits to the master branch are stored in your master branch)\n",
    "2. Run \"git rebase master\". \n",
    "\n",
    "`git rebase` is a command to try and \"move\" the point from which your branch diverts from master by integrating all the changes that have happened since you first created your branch. Visually, you can imagine it like: \n",
    "\n",
    "![rebase](../images/rebase.png)\n",
    "\n",
    "Rebase can be useful for several things, not just conflicts. If you've been working on a branch for a while and you just want to bring all the features and updates from master into that branch, `rebase` pulls all those in. \n",
    "\n",
    "But in this case, `rebase` will *try* and integrate your branch with the master branch, and in doing so will give you a chance to address all the conflicts that have appeared (in this case, both you and your teammates editing the first line of the README.md at the same time). \n",
    "\n",
    "When you try and rebase, you should get a message that looks something like this:\n",
    "\n",
    "```\n",
    "First, rewinding head to replay your work on top of it...\n",
    "Applying: modify readme\n",
    "Using index info to reconstruct a base tree...\n",
    "M\tREADME.md\n",
    "Falling back to patching base and 3-way merge...\n",
    "Auto-merging README.md\n",
    "CONFLICT (content): Merge conflict in README.md\n",
    "error: Failed to merge in the changes.\n",
    "Patch failed at 0001 modify readme\n",
    "hint: Use 'git am --show-current-patch' to see the failed patch\n",
    "\n",
    "Resolve all conflicts manually, mark them as resolved with\n",
    "\"git add/rm <conflicted_files>\", then run \"git rebase --continue\".\n",
    "You can instead skip this commit: run \"git rebase --skip\".\n",
    "To abort and get back to the state before \"git rebase\", run \"git rebase --abort\".\n",
    "```"
   ]
  },
  {
   "cell_type": "markdown",
   "metadata": {},
   "source": [
    "As this error message helpfully points out (`CONFLICT (content): Merge conflict in README.md`) you have a merge conflict in README.md. So let's open the README.md file and see what's going on. \n",
    "\n",
    "What you will see is that `git` has very kindly flagged the conflict it found, and provided you with both the version you wrote, and the version that it found in the master branch. It should look something like:\n",
    "\n",
    "```\n",
    "    <<<<<<< HEAD\n",
    "    [whatever text is in the master branch]\n",
    "    =======\n",
    "    [whatever text you created]\n",
    "    >>>>>>> the_name_of_your_commit\n",
    "\n",
    "```\n",
    "Think of these new lines as \"conflict dividers\". The ======= line is the \"center\" of the conflict. All the content between the center and the <<<<<<< HEAD line is content that exists in the current branch master which the HEAD ref is pointing to. Alternatively all content between the center and >>>>>>> new_branch_to_merge_later is content that is present in our merging branch.\n",
    "\n",
    "Your job is now to resolve this conflict by editing this text. You can keep the stuff on master, keep your edits, or write something new entirely. So just edit this block to your liking. \n",
    "\n",
    "(In this case, we want both things in the title, so you should probably write a new title with both additions). \n",
    "\n",
    "Once you've made those edits, then (as suggested in your error message) you should:\n",
    "\n",
    "```\n",
    "Resolve all conflicts manually, mark them as resolved with\n",
    "\"git add/rm <conflicted_files>\", then run \"git rebase --continue\".\n",
    "You can instead skip this commit: run \"git rebase --skip\".\n",
    "To abort and get back to the state before \"git rebase\", run \"git rebase --abort\".\n",
    "```\n",
    "\n",
    "Once done, you'll then have to push your changes. **Note that just running `push` won't work!**. That's because rebasing fundamentally changes the content of the PR in a non-reversable way, and git always gets nervous when you try and make non-reversable changes. So to push you have to use `git push --force`. This is a protection to ensure you recognize you're making a permanent edit. "
   ]
  },
  {
   "cell_type": "markdown",
   "metadata": {},
   "source": [
    "**(7)** Now that you've pushed your README with conflicts resolved, go back to your PR. If you did everything right, you should now be able to merge your edits!"
   ]
  },
  {
   "cell_type": "markdown",
   "metadata": {},
   "source": [
    "## A Note on Jupyter Notebooks\n",
    "\n",
    "*Note: We're done with the \"team\" part of the exercises, so each pair can now work on its own in its own repository.*\n",
    "\n",
    "Github is both great and terrible when it comes to Jupyter Notebooks. \n",
    "\n",
    "**(8)** To understand why, let's begin by having everyone add and push a Jupyter Notebook to their repository. Once you've pushed your files, navigate to the notebook on github in your browser. \n",
    "\n",
    "The first thing you'll likely see is... nothing:\n",
    "\n",
    "![notebook_not_rendered](../images/notebook_not_rendered.png)\n",
    "\n",
    "The reason is that github has service that renders jupyter notebooks to look like, well... jupyter notebooks. And when you push a jupyter notebook, that notebook gets put into a queue for rendering, and it will thus only be visible as a rendered document when it gets to the front and gets rendered. This can take a while, so we'll just move on. But if you want to see what github looks like when presented a *rendered* notebook, you can find this page as a [github-rendered notebook here!](https://github.com/nickeubank/practicaldatascience/blob/master/source/exercises/Exercise_git.ipynb). \n",
    "\n",
    "This happens because the pretty version of the jupyter notebook you know and love is a *rendered* interface. If you want to see what a jupyter notebook looks like behind the scenes, click the *raw* button on the notebooks github page. *That* is actually everything that is in a jupyter notebook -- a plaintext file in JSON formatting. \n",
    "\n",
    "This is important to understand, because it also impacts how git manages changes to jupyter notebooks. \n",
    "\n",
    "**(9)** To illustrate, open the jupyter notebook you added to your repository and make some changes -- add some text in one cell, and maybe add a new cell. Then commit and push those changes. \n",
    "\n",
    "**(10)** In github, you can always easily see what has changed in a commit by clicking on the \"Commits\" button:\n",
    "\n",
    "![commits_button](../images/commits_button.png)\n",
    "\n",
    "then clicking on the hash number next to a given commit (the hash number is what uniquely identifies a commit). So in my repo, I'd click on the 829715d button:\n",
    "\n",
    "![click_the_hash](../images/click_the_hash.png)\n",
    "\n",
    "That will bring you to a page that shows you a side-by-side comparison of what was in the repo before this commit, and what changed in this commit with nice coloring. \n",
    "\n",
    "The problem, as you can see though, is that git interacts with jupyter notebooks at the level of those plaintext JSON formats, making diffs hard to understand.\n",
    "\n",
    "It is for this reason that jupyter notebooks, while amazing for many things, and while fine to put into github repositories to share and host, are not great for collaborative analysis, because these diffs are just very hard to read. "
   ]
  },
  {
   "cell_type": "markdown",
   "metadata": {},
   "source": [
    "## .gitignore\n",
    "\n",
    "This brings up another important issue for github users: the `.gitignore` file!\n",
    "\n",
    "Sometimes when your working, your program will create \"helper files\" in your repository that you don't want to keep. R, for example, makes `.RHistory` files, and jupyter notebooks (as you can see now!) makes `.ipynb_checkpoints/` files. \n",
    "\n",
    "The `.gitignore` file is a way of telling git that there are certain files you just don't want in your repo. As the name implies, these can be *ignored*. \n",
    "\n",
    "Because your `.gitignore` file starts with a period, it will be invisible if you aren't using a command line tool (or a program like Atom), so to modify it you need to go to the command line and run `open .gitignore` while in the root directory of your git repository. \n",
    "\n",
    "**(11)** From the command line, navigate to your repository root folder and run `ls -la`. There you should see all your normal files and a folder called `.git`. \n",
    "\n",
    "The `.git` folder basically *is* what makes this folder a github repository. It stores the entire history of this repository, as well as information about what github repository it should talk to when you run `push` and `pull`. \n",
    "\n",
    "In that folder, you *may* see a `.gitignore` file as well, but you might not. If you do not, create one now (options: `atom .gitignore` will create a blank file called `.gitignore` and open it in atom; `nano .gitignore` will open a blank file called `.gitignore` in `nano`, etc.). \n",
    "\n",
    "In that file, add (as a single line in the file): `.ipynb_checkpoints/*`. \n",
    "\n",
    "This says \"Ignore anything in the folder `.ipynb_checkpoints` in the root directory\". \n",
    "\n",
    "From this point forward, github will ignore these files. However, note that you probably already added ipynb_checkpoint files to your repo when you first used your notebook in this repo. So to remove what's there, you have to run: `git rm [the file]`. Note you may also have to use the `--force` option. \n",
    "\n",
    "**(12)** Now to make sure it has worked, go make more edits to your notebook so that `.ipynb_checkpoints` will be updated. Then check `git status`. You should see the edits to your notebook, but you shouldn't see git report any changes to `.ipynb_checkpoints/` files. "
   ]
  },
  {
   "cell_type": "markdown",
   "metadata": {},
   "source": [
    "## Git LFS\n",
    "\n",
    "The last thing we'll do is play a little with Git-LFS. \n",
    "\n",
    "As you read, Git-LFS allows you to store binary files on a server with much more storage than is available for your primary github repository. Moreover, it helps avoid the \"exploding files\" problem: if you just put a binary file in your repository, then every time you change that file and make a commit, another full version of that file is added to your git history, and that version stays with the repository. If you have a 100mb file, and modify it through 100 commits (not uncommon), then anyone who wanted to clone your repository would have to download *every one of those 100 version*, meaning they'd have to clone a 10gb file. \n",
    "\n",
    "By contrast, with git-lfs, only a little pointer is added to the repository itself, and only the most recent version of the actual binary file is made available to the user. You can always recover old versions of data, but they don't actually live *in* your repo. \n",
    "\n",
    "**(13)** To use git-lfs, go to your repo and run the command `git lfs track \"*.pdf\"` (this says all PDFs should be stored via git-lfs). That will create a `.gitattributes` file that contains all the info about what should be managed using git-lfs. \n",
    "\n",
    "To see, after running the `git lfs track \"*.pdf\"` command, open up the `.gitattributes` file to see what it looks like. "
   ]
  },
  {
   "cell_type": "markdown",
   "metadata": {},
   "source": [
    "**(14)** Now, put a PDF in your repository, commit it and push it to github. If you then look at it on github, you should see:\n",
    "\n",
    "![stored_with_lfs](../images/stored_with_lfs.png). \n",
    "\n",
    "Yay!!!"
   ]
  },
  {
   "cell_type": "markdown",
   "metadata": {},
   "source": [
    "A few notes about git-lfs:\n",
    "\n",
    "- If someone without git-lfs tries to clone a repo using git-lfs, instead of the actual files they want, they'll just see a small text file with a long series of numbers. That's the pointer to the actual data. If this happens to you, your computer doesn't have git-lfs installed. \n",
    "- If you get an error when you try and run `git lfs track`, you may not have git-lfs installed. [You can install it here](https://git-lfs.github.com/).\n",
    "- Git-lfs allows you to have much more space than putting binaries in your repo, but it isn't unlimited or free. If you go to `Settings` for your github account, and look at `Billing`, you will see a \"Git LFS Data\" quota. So don't just go crazy. Compressed data files (e.g. HDF5 with compression) are your friend!\n",
    "    - LFS quotas accounting is based on the owner of the repository being used. If you push data (using LFS) to a repository owned by, say, me (nickeubank), then that data comes out of *my* quota, not yours. "
   ]
  }
 ],
 "metadata": {
  "kernelspec": {
   "display_name": "Python 3",
   "language": "python",
   "name": "python3"
  },
  "language_info": {
   "codemirror_mode": {
    "name": "ipython",
    "version": 3
   },
   "file_extension": ".py",
   "mimetype": "text/x-python",
   "name": "python",
   "nbconvert_exporter": "python",
   "pygments_lexer": "ipython3",
   "version": "3.7.3"
  }
 },
 "nbformat": 4,
 "nbformat_minor": 4
}
