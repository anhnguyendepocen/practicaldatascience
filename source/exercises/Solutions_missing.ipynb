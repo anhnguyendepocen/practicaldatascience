{
 "cells": [
  {
   "cell_type": "markdown",
   "metadata": {},
   "source": [
    "# Missing Values Exercises\n",
    "\n",
    "One of the defining features of `pandas` is the use of indices for data alignment. Like many features in `pandas`, it can make live very easy, but if you aren't careful, it can also lead to problems. This is especially true because indices lead to behavior that is very different from what one sees in other languages and library (like `R`, `numpy`, and `julia`). So let's spend a little timing practicing interacting with indices (and missing values)!"
   ]
  },
  {
   "cell_type": "markdown",
   "metadata": {},
   "source": [
    "### Exercise 1\n",
    "\n",
    "Today, we will be using the ACS data we used during out first `pandas` exercise to examine the US income distribution, and how it varies by race. Note that because the US income distribution has a very small number of people with *extremely* high incomes, and the ACS is just a sample of Americans, the far right tail of the distribution will not be very well estimated. However, this data should suffice for helping to understand wealth inequality in the United States. \n",
    "\n",
    "To begin, load the ACS Data we used in our first pandas exercise. That [data can be found here](https://github.com/nickeubank/MIDS_Data/tree/master/US_AmericanCommunitySurvey). We'll be working with `US_ACS_2017_10pct_sample.dta`. "
   ]
  },
  {
   "cell_type": "code",
   "execution_count": 1,
   "metadata": {},
   "outputs": [],
   "source": [
    "import pandas as pd\n",
    "import numpy as np\n",
    "# Download the data\n",
    "acs = pd.read_stata(\"https://github.com/nickeubank/MIDS_Data/raw/master/US_AmericanCommunitySurvey/US_ACS_2017_10pct_sample.dta\")"
   ]
  },
  {
   "cell_type": "markdown",
   "metadata": {},
   "source": [
    "### Exercise 2\n",
    "\n",
    "Let's begin by calculating the median US incomes from this data (recall that income is stored in the `inctot` variable)."
   ]
  },
  {
   "cell_type": "code",
   "execution_count": 2,
   "metadata": {},
   "outputs": [
    {
     "data": {
      "text/plain": [
       "1723646.2703978634"
      ]
     },
     "execution_count": 2,
     "metadata": {},
     "output_type": "execute_result"
    }
   ],
   "source": [
    "acs.inctot.mean()"
   ]
  },
  {
   "cell_type": "markdown",
   "metadata": {},
   "source": [
    "### Exercise 3\n",
    "\n",
    "Hmmm... That doesn't look right. The average American is definitely not earning 1.7 million dollars a year. Let's look at the values of `inctot` using `value_counts()`. Do you see a problem?\n",
    "\n",
    "Now use `value_counts()` with the argument `normalize=True` to see proportions of the sample that report each value instead of the count of people in each category. What percentage of our sample has an income of 9,999,999? What percentage has an income of 0?"
   ]
  },
  {
   "cell_type": "code",
   "execution_count": 3,
   "metadata": {},
   "outputs": [
    {
     "data": {
      "text/plain": [
       "9999999    0.168967\n",
       "0          0.105575\n",
       "30000      0.014978\n",
       "50000      0.013837\n",
       "40000      0.013834\n",
       "20000      0.012749\n",
       "60000      0.011342\n",
       "12000      0.011113\n",
       "25000      0.010552\n",
       "10000      0.009179\n",
       "35000      0.009179\n",
       "15000      0.008859\n",
       "45000      0.008185\n",
       "24000      0.007605\n",
       "70000      0.006915\n",
       "18000      0.006664\n",
       "100000     0.006226\n",
       "80000      0.006222\n",
       "55000      0.006044\n",
       "5000       0.005928\n",
       "65000      0.005918\n",
       "6000       0.005627\n",
       "32000      0.005204\n",
       "75000      0.005000\n",
       "36000      0.004994\n",
       "22000      0.004909\n",
       "8000       0.004871\n",
       "28000      0.004790\n",
       "3000       0.004759\n",
       "9000       0.004759\n",
       "             ...   \n",
       "11370      0.000003\n",
       "40060      0.000003\n",
       "23004      0.000003\n",
       "77130      0.000003\n",
       "32096      0.000003\n",
       "59850      0.000003\n",
       "204300     0.000003\n",
       "142890     0.000003\n",
       "92410      0.000003\n",
       "48760      0.000003\n",
       "61550      0.000003\n",
       "18910      0.000003\n",
       "117590     0.000003\n",
       "72180      0.000003\n",
       "38780      0.000003\n",
       "67150      0.000003\n",
       "34430      0.000003\n",
       "243480     0.000003\n",
       "150430     0.000003\n",
       "100190     0.000003\n",
       "59250      0.000003\n",
       "432060     0.000003\n",
       "96760      0.000003\n",
       "351100     0.000003\n",
       "14440      0.000003\n",
       "23260      0.000003\n",
       "187020     0.000003\n",
       "18790      0.000003\n",
       "47480      0.000003\n",
       "20470      0.000003\n",
       "Name: inctot, Length: 8471, dtype: float64"
      ]
     },
     "execution_count": 3,
     "metadata": {},
     "output_type": "execute_result"
    }
   ],
   "source": [
    "acs.inctot.value_counts(normalize=True)"
   ]
  },
  {
   "cell_type": "markdown",
   "metadata": {},
   "source": [
    "### Exercise 4\n",
    "\n",
    "As we discussed before, the ACS uses a value of 9999999 to denote that income information is not available for someone. The problem with using this kind of \"sentinel value\" is that pandas doesn't understand that this is supposed to denote missing data, and so when it averages the variable, it doesn't know to ignore 9999999. \n",
    "\n",
    "To help out `pandas`, use the `replace` command to replace all values of 9999999 with `np.nan`. "
   ]
  },
  {
   "cell_type": "code",
   "execution_count": 4,
   "metadata": {},
   "outputs": [],
   "source": [
    "acs['inctot'] = acs['inctot'].replace(9999999, np.nan)"
   ]
  },
  {
   "cell_type": "markdown",
   "metadata": {},
   "source": [
    "### Exercise 5\n",
    "\n",
    "Now that we've properly labeled our missing data as `np.nan`, let's calculate the average US income once more. "
   ]
  },
  {
   "cell_type": "code",
   "execution_count": 5,
   "metadata": {},
   "outputs": [
    {
     "data": {
      "text/plain": [
       "40890.177564946454"
      ]
     },
     "execution_count": 5,
     "metadata": {},
     "output_type": "execute_result"
    }
   ],
   "source": [
    "acs.inctot.mean()"
   ]
  },
  {
   "cell_type": "markdown",
   "metadata": {},
   "source": [
    "### Exercise 6\n",
    "\n",
    "OK, now we've been able to get a reasonable average income number. As we can see, a major advantage of using `np.nan` is that `pandas` knows that `np.nan` observations should just be ignored when we are calculating means. \n",
    "\n",
    "But it's not enough to just get rid of the people who had `inctot` values of 9999999. We also need to know why those values were missing. Suppose, for example, that the value of 9999999 was used for anyone who made more than 100,000 dollars: if we just dropped those people, then our estimate of average income wouldn't mean much, would it?\n",
    "\n",
    "So let's make sure we understand *why* data is missing for some people. If you recall from our last exercise, it seemed to be the case that most of the people who had incomes of 9999999 were children. Let's make sure that's true by looking at the distribution of the variable `age` for people for whom `inctot` is missing (i.e. subset the data to people with `inctot` missing, then look at the values of `age` with `value_counts()`).\n",
    "\n",
    "Then do the opposite: look at the distribution of the `age` variable for people who whom `inctot` is *not* missing. \n",
    "\n",
    "Can you determine when 9999999 was being used? Is it ok we're excluding those people from our analysis?\n",
    "\n",
    "Note: In this data, Python doesn't understand `age` is a number; it thinks it is a string because the original data has categories like \"90 (90+ in 1980 and 1990)\" and \"less than 1 year old\". So you can't just use `min()` or `max()`. We'll discuss converting string variables into numbers in a future class."
   ]
  },
  {
   "cell_type": "code",
   "execution_count": 6,
   "metadata": {},
   "outputs": [
    {
     "data": {
      "text/plain": [
       "10                           3997\n",
       "9                            3977\n",
       "14                           3847\n",
       "12                           3845\n",
       "13                           3800\n",
       "11                           3791\n",
       "8                            3648\n",
       "7                            3527\n",
       "6                            3524\n",
       "5                            3512\n",
       "2                            3405\n",
       "1                            3340\n",
       "4                            3318\n",
       "3                            3220\n",
       "less than 1 year old         3150\n",
       "30                              0\n",
       "45                              0\n",
       "44                              0\n",
       "43                              0\n",
       "42                              0\n",
       "41                              0\n",
       "40                              0\n",
       "39                              0\n",
       "38                              0\n",
       "37                              0\n",
       "36                              0\n",
       "35                              0\n",
       "34                              0\n",
       "33                              0\n",
       "32                              0\n",
       "                             ... \n",
       "90 (90+ in 1980 and 1990)       0\n",
       "91                              0\n",
       "92                              0\n",
       "93                              0\n",
       "94                              0\n",
       "73                              0\n",
       "72                              0\n",
       "71                              0\n",
       "59                              0\n",
       "50                              0\n",
       "51                              0\n",
       "52                              0\n",
       "53                              0\n",
       "54                              0\n",
       "55                              0\n",
       "56                              0\n",
       "57                              0\n",
       "58                              0\n",
       "60                              0\n",
       "70                              0\n",
       "61                              0\n",
       "62                              0\n",
       "63                              0\n",
       "64                              0\n",
       "65                              0\n",
       "66                              0\n",
       "67                              0\n",
       "68                              0\n",
       "69                              0\n",
       "48                              0\n",
       "Name: age, Length: 97, dtype: int64"
      ]
     },
     "execution_count": 6,
     "metadata": {},
     "output_type": "execute_result"
    }
   ],
   "source": [
    "acs.loc[pd.isnull(acs.inctot), 'age'].value_counts()"
   ]
  },
  {
   "cell_type": "code",
   "execution_count": 7,
   "metadata": {},
   "outputs": [
    {
     "data": {
      "text/plain": [
       "60                           4950\n",
       "54                           4821\n",
       "56                           4776\n",
       "59                           4776\n",
       "58                           4734\n",
       "57                           4720\n",
       "55                           4693\n",
       "61                           4644\n",
       "62                           4614\n",
       "53                           4600\n",
       "18                           4496\n",
       "63                           4488\n",
       "52                           4418\n",
       "65                           4362\n",
       "19                           4342\n",
       "64                           4287\n",
       "50                           4272\n",
       "47                           4256\n",
       "66                           4106\n",
       "16                           4106\n",
       "46                           4064\n",
       "67                           4055\n",
       "17                           4021\n",
       "51                           4021\n",
       "20                           3992\n",
       "48                           3956\n",
       "70                           3953\n",
       "68                           3951\n",
       "34                           3942\n",
       "15                           3942\n",
       "                             ... \n",
       "82                           1464\n",
       "83                           1335\n",
       "84                           1157\n",
       "85                           1117\n",
       "86                           1041\n",
       "94                           1035\n",
       "87                            908\n",
       "88                            859\n",
       "89                            628\n",
       "90 (90+ in 1980 and 1990)     480\n",
       "93                            476\n",
       "95                            471\n",
       "92                            355\n",
       "91                            227\n",
       "96                             10\n",
       "14                              0\n",
       "13                              0\n",
       "12                              0\n",
       "11                              0\n",
       "10                              0\n",
       "9                               0\n",
       "8                               0\n",
       "7                               0\n",
       "6                               0\n",
       "5                               0\n",
       "4                               0\n",
       "3                               0\n",
       "2                               0\n",
       "1                               0\n",
       "less than 1 year old            0\n",
       "Name: age, Length: 97, dtype: int64"
      ]
     },
     "execution_count": 7,
     "metadata": {},
     "output_type": "execute_result"
    }
   ],
   "source": [
    "acs.loc[pd.notnull(acs.inctot), 'age'].value_counts()"
   ]
  },
  {
   "cell_type": "markdown",
   "metadata": {},
   "source": [
    "### Exercise 7\n",
    "\n",
    "Great, so now we know why those people had missing data, and we're ok with excluding them. \n",
    "\n",
    "But as we previously noted, there are also a lot of observations of zero income in our data, and it's not clear that we want everyone with a zero-income *should* be included in this average, since those may be people who are retired, or in school. \n",
    "\n",
    "Let's limit our attention to people who are currently working. We can do this using `empstat`. Remember you can use `value_counts()` to see what values of `empstat` are in the data!"
   ]
  },
  {
   "cell_type": "code",
   "execution_count": 8,
   "metadata": {},
   "outputs": [
    {
     "data": {
      "text/plain": [
       "employed              148758\n",
       "not in labor force    104676\n",
       "n/a                    57843\n",
       "unemployed              7727\n",
       "Name: empstat, dtype: int64"
      ]
     },
     "execution_count": 8,
     "metadata": {},
     "output_type": "execute_result"
    }
   ],
   "source": [
    "acs.empstat.value_counts()"
   ]
  },
  {
   "cell_type": "code",
   "execution_count": 9,
   "metadata": {},
   "outputs": [
    {
     "data": {
      "text/plain": [
       "57854.723914007984"
      ]
     },
     "execution_count": 9,
     "metadata": {},
     "output_type": "execute_result"
    }
   ],
   "source": [
    "acs.loc[(acs.empstat == \"employed\"), 'inctot'].mean()"
   ]
  },
  {
   "cell_type": "markdown",
   "metadata": {},
   "source": [
    "### Exercise 8\n",
    "\n",
    "Now let's estimate the racial income gap in the United States. What is the average salary for employed Black Americans, and what is the average salary for employed White Americans? In percentage terms, how much more does the average White American make than the average Black American?\n",
    "\n",
    "**Note:** these values are not quite accurate estimates. As we'll discuss in later lessons, to get completely accurate estimates from the ACS we have to take into account how people were selected to be interviewed. But you get pretty good estimates in most cases even without weights -- your estimate of the racial wage gap without weights is within 5\\% of the corrected value. \n",
    "\n",
    "**Note:** This is actually an underestimate of the wage gap. The US Census treats hispanic respondents as a sub-category of \"white\", so in pooling what we traditionally think of as \"white\" respondents with hispanic respondents (who tend to earn less), we get an underestimate of the average white salary in the US."
   ]
  },
  {
   "cell_type": "code",
   "execution_count": 33,
   "metadata": {},
   "outputs": [],
   "source": [
    "white = acs.loc[(acs['empstat'] == 'employed') & (acs['race'] == 'white'), 'inctot'].mean()"
   ]
  },
  {
   "cell_type": "code",
   "execution_count": 34,
   "metadata": {},
   "outputs": [
    {
     "data": {
      "text/plain": [
       "white                               243751\n",
       "black/african american/negro         31691\n",
       "other asian or pacific islander      12508\n",
       "other race, nec                      12304\n",
       "two major races                       8826\n",
       "chinese                               4313\n",
       "american indian or alaska native      3595\n",
       "three or more major races             1207\n",
       "japanese                               809\n",
       "Name: race, dtype: int64"
      ]
     },
     "execution_count": 34,
     "metadata": {},
     "output_type": "execute_result"
    }
   ],
   "source": [
    "acs['race'].value_counts()"
   ]
  },
  {
   "cell_type": "code",
   "execution_count": 35,
   "metadata": {},
   "outputs": [],
   "source": [
    "black = acs.loc[(acs['empstat'] == 'employed') & (acs['race'] == 'black/african american/negro'), 'inctot'].mean()"
   ]
  },
  {
   "cell_type": "code",
   "execution_count": 36,
   "metadata": {},
   "outputs": [
    {
     "data": {
      "text/plain": [
       "0.44852990062751974"
      ]
     },
     "execution_count": 36,
     "metadata": {},
     "output_type": "execute_result"
    }
   ],
   "source": [
    "(white - black) / black"
   ]
  },
  {
   "cell_type": "code",
   "execution_count": 37,
   "metadata": {},
   "outputs": [],
   "source": [
    "# Now the exact estimates taking into account sampling weights\n",
    "\n",
    "# Subset for each of notation\n",
    "white_employed = acs[(acs['empstat'] == 'employed') & (acs['race'] == 'white')]\n",
    "white_weighted = (white_employed['inctot'] * white_employed['perwt'] / white_employed['perwt'].sum()).sum()"
   ]
  },
  {
   "cell_type": "code",
   "execution_count": 38,
   "metadata": {},
   "outputs": [],
   "source": [
    "# Subset for each of notation\n",
    "black_employed = acs[(acs['empstat'] == 'employed') & (acs['race'] == 'black/african american/negro')]\n",
    "black_weighted = (black_employed['inctot'] * black_employed['perwt'] / black_employed['perwt'].sum()).sum()"
   ]
  },
  {
   "cell_type": "code",
   "execution_count": 39,
   "metadata": {},
   "outputs": [
    {
     "data": {
      "text/plain": [
       "0.04431967593018212"
      ]
     },
     "execution_count": 39,
     "metadata": {},
     "output_type": "execute_result"
    }
   ],
   "source": [
    "((white-black) - (white_weighted - black_weighted)) / (white_weighted - black_weighted)"
   ]
  }
 ],
 "metadata": {
  "kernelspec": {
   "display_name": "Python 3",
   "language": "python",
   "name": "python3"
  },
  "language_info": {
   "codemirror_mode": {
    "name": "ipython",
    "version": 3
   },
   "file_extension": ".py",
   "mimetype": "text/x-python",
   "name": "python",
   "nbconvert_exporter": "python",
   "pygments_lexer": "ipython3",
   "version": "3.7.3"
  }
 },
 "nbformat": 4,
 "nbformat_minor": 4
}
