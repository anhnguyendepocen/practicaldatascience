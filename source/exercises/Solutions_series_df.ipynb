{
 "cells": [
  {
   "cell_type": "markdown",
   "metadata": {},
   "source": [
    "# Estimating Labor Market Returns to Education\n",
    "\n",
    "**Note:** Most students taking this class are Duke MIDS students who have worked with `pandas` previously. As a result, these exercises are very light on basic pandas Series and DataFrame manipulations. If you are new to `pandas`, I would advise looking into some addition practice opportunities with `pandas`, as discussed in the [Advice for Non-MIDS Students](../not_a_mids_student.ipynb) page. \n",
    "\n",
    "In this exercise, we're going to use data from the [American Communities Survey (ACS)](https://usa.ipums.org/usa/acs.shtml) to study the relationship betwen educational attainment and wages. The ACS is a survey conducted by the United States Census Bureau (though it is not \"The Census\", which is a counting of every person in the United States that takes place every 10 years) to measure numerous features of the US population. The data we will be working with includes about 100 variables from the 2017 ACS survey, and is composed of only 10% of all the people actually surveyed by the ACS. This data comes from [IPUMS](https://usa.ipums.org/usa/), which provides a very useful tool for getting subsets of major survey datasets, not just from the US, but [from government statistical agencies the world over](https://international.ipums.org/international-action/sample_details).\n",
    "\n",
    "This is *real* data, meaning that you are being provided the data as it is provided by IPUMS. Documentation for all variables used in this data can be found [here](https://usa.ipums.org/usa-action/variables/group) (you can either search by variable name to figure out the meaning of a variable in this data, or search for something you want to see if a variable with the right name is in this data). \n",
    "\n",
    "Within this data is information on both the educational background and current earnings of a representative sample of Americans. We will now use this data to estimate the labor-market returns to graduating high school and college, and to learn something about the meaning of an educational degree. "
   ]
  },
  {
   "cell_type": "markdown",
   "metadata": {},
   "source": [
    "### Exercise 1\n",
    "\n",
    "Data for these [exercises can be found here](https://github.com/nickeubank/MIDS_Data/tree/master/US_AmericanCommunitySurvey). First, download `US_ACS_2017_10pct_sample.dta`. "
   ]
  },
  {
   "cell_type": "markdown",
   "metadata": {},
   "source": [
    "### Exercise 2\n",
    "\n",
    "Now import `US_ACS_2017_10pct_sample.dta` into a pandas DataFrame. This can be done with the command `pd.read_stata`, which will read in files created in the program Stata (and which uses the file suffix `.dta`. "
   ]
  },
  {
   "cell_type": "code",
   "execution_count": 12,
   "metadata": {},
   "outputs": [],
   "source": [
    "import pandas as pd\n",
    "import numpy as np\n",
    "# Download the data\n",
    "acs = pd.read_stata(\"https://github.com/nickeubank/MIDS_Data/raw/master/US_AmericanCommunitySurvey/US_ACS_2017_10pct_sample.dta\")"
   ]
  },
  {
   "cell_type": "markdown",
   "metadata": {},
   "source": [
    "## Getting to Know Your Data\n",
    "\n",
    "When you get a new dataset like this, it's good to start by trying to get a feel for its contents and organization. Toy datasets you sometimes get in classes are often very small, and easy to look at, but this is a pretty large dataset, so you can't just open it up and get a good sense of it. Here are some ways to get to know your data. "
   ]
  },
  {
   "cell_type": "markdown",
   "metadata": {},
   "source": [
    "**3)** How many rows are in your data?"
   ]
  },
  {
   "cell_type": "markdown",
   "metadata": {},
   "source": [
    "**4)** How many columns are in your data?"
   ]
  },
  {
   "cell_type": "markdown",
   "metadata": {},
   "source": [
    "**5)** Let's see what variables are in this dataset. First, try to see them all using the command:\n",
    "\n",
    "```\n",
    "acs.columns\n",
    "```\n"
   ]
  },
  {
   "cell_type": "code",
   "execution_count": 18,
   "metadata": {},
   "outputs": [
    {
     "data": {
      "text/plain": [
       "Index(['year', 'datanum', 'serial', 'cbserial', 'numprec', 'subsamp', 'hhwt',\n",
       "       'hhtype', 'cluster', 'adjust',\n",
       "       ...\n",
       "       'migcounty1', 'migmet131', 'vetdisab', 'diffrem', 'diffphys', 'diffmob',\n",
       "       'diffcare', 'diffsens', 'diffeye', 'diffhear'],\n",
       "      dtype='object', length=104)"
      ]
     },
     "execution_count": 18,
     "metadata": {},
     "output_type": "execute_result"
    }
   ],
   "source": [
    "acs.columns"
   ]
  },
  {
   "cell_type": "markdown",
   "metadata": {},
   "source": [
    "As you will see, `python` doesn't like to print out all the different variables. To get everything printed out, we can loop over all the columns and print them one at a time with the command:\n",
    "\n",
    "```\n",
    "for c in acs.columns: print(c)\n",
    "```\n",
    "\n",
    "Try it. "
   ]
  },
  {
   "cell_type": "code",
   "execution_count": 19,
   "metadata": {},
   "outputs": [
    {
     "name": "stdout",
     "output_type": "stream",
     "text": [
      "year\n",
      "datanum\n",
      "serial\n",
      "cbserial\n",
      "numprec\n",
      "subsamp\n",
      "hhwt\n",
      "hhtype\n",
      "cluster\n",
      "adjust\n",
      "cpi99\n",
      "region\n",
      "stateicp\n",
      "statefip\n",
      "countyicp\n",
      "countyfip\n",
      "metro\n",
      "city\n",
      "citypop\n",
      "strata\n",
      "gq\n",
      "farm\n",
      "ownershp\n",
      "ownershpd\n",
      "mortgage\n",
      "mortgag2\n",
      "mortamt1\n",
      "mortamt2\n",
      "respmode\n",
      "pernum\n",
      "cbpernum\n",
      "perwt\n",
      "slwt\n",
      "famunit\n",
      "sex\n",
      "age\n",
      "marst\n",
      "birthyr\n",
      "race\n",
      "raced\n",
      "hispan\n",
      "hispand\n",
      "bpl\n",
      "bpld\n",
      "citizen\n",
      "yrnatur\n",
      "yrimmig\n",
      "language\n",
      "languaged\n",
      "speakeng\n",
      "hcovany\n",
      "hcovpriv\n",
      "hinsemp\n",
      "hinspur\n",
      "hinstri\n",
      "hcovpub\n",
      "hinscaid\n",
      "hinscare\n",
      "hinsva\n",
      "hinsihs\n",
      "school\n",
      "educ\n",
      "educd\n",
      "gradeatt\n",
      "gradeattd\n",
      "schltype\n",
      "degfield\n",
      "degfieldd\n",
      "degfield2\n",
      "degfield2d\n",
      "empstat\n",
      "empstatd\n",
      "labforce\n",
      "occ\n",
      "ind\n",
      "classwkr\n",
      "classwkrd\n",
      "looking\n",
      "availble\n",
      "inctot\n",
      "ftotinc\n",
      "incwage\n",
      "incbus00\n",
      "incss\n",
      "incwelfr\n",
      "incinvst\n",
      "incretir\n",
      "incsupp\n",
      "incother\n",
      "incearn\n",
      "poverty\n",
      "migrate1\n",
      "migrate1d\n",
      "migplac1\n",
      "migcounty1\n",
      "migmet131\n",
      "vetdisab\n",
      "diffrem\n",
      "diffphys\n",
      "diffmob\n",
      "diffcare\n",
      "diffsens\n",
      "diffeye\n",
      "diffhear\n"
     ]
    }
   ],
   "source": [
    "for c in acs.columns: print(c)"
   ]
  },
  {
   "cell_type": "markdown",
   "metadata": {},
   "source": [
    "**4)** That's a *lot* of variables, and definitely more than we need. In general, life is easier when working with these kinds of huge datasets if you can narrow down the number of variables a little. In this exercise, we will be looking at the relationship between education and wages, we need variables for: \n",
    "\n",
    "- Age\n",
    "- Income\n",
    "- Education\n",
    "- Employment status (is the person actually working)\n",
    "\n",
    "These quantities of interest correspond to the following variables in our data: `age`, `inctot`, `educ`, and `empstat`. \n",
    "\n",
    "Let's subset our data to just those variables. "
   ]
  },
  {
   "cell_type": "code",
   "execution_count": 21,
   "metadata": {},
   "outputs": [],
   "source": [
    "acs = acs[['age', 'empstat', 'inctot', 'educ']]"
   ]
  },
  {
   "cell_type": "markdown",
   "metadata": {},
   "source": [
    "**5)** Now that we have a more manageable number of variables, it's often very useful to look at a handful of rows of your data. The easiest way to do this is probably the `.head()` method (which will show you the first five rows), or the `tail()` method, which will show you the last five rows. \n",
    "\n",
    "But to get a good sense of your data, it's often better to use the `sample()` command, as the first and last rows are sometimes not representative. Try looking at a random sample of 10 rows. "
   ]
  },
  {
   "cell_type": "code",
   "execution_count": 23,
   "metadata": {},
   "outputs": [
    {
     "data": {
      "text/html": [
       "<div>\n",
       "<style scoped>\n",
       "    .dataframe tbody tr th:only-of-type {\n",
       "        vertical-align: middle;\n",
       "    }\n",
       "\n",
       "    .dataframe tbody tr th {\n",
       "        vertical-align: top;\n",
       "    }\n",
       "\n",
       "    .dataframe thead th {\n",
       "        text-align: right;\n",
       "    }\n",
       "</style>\n",
       "<table border=\"1\" class=\"dataframe\">\n",
       "  <thead>\n",
       "    <tr style=\"text-align: right;\">\n",
       "      <th></th>\n",
       "      <th>age</th>\n",
       "      <th>empstat</th>\n",
       "      <th>inctot</th>\n",
       "      <th>educ</th>\n",
       "    </tr>\n",
       "  </thead>\n",
       "  <tbody>\n",
       "    <tr>\n",
       "      <th>126287</th>\n",
       "      <td>67</td>\n",
       "      <td>not in labor force</td>\n",
       "      <td>35500</td>\n",
       "      <td>grade 12</td>\n",
       "    </tr>\n",
       "    <tr>\n",
       "      <th>10561</th>\n",
       "      <td>16</td>\n",
       "      <td>not in labor force</td>\n",
       "      <td>0</td>\n",
       "      <td>grade 11</td>\n",
       "    </tr>\n",
       "    <tr>\n",
       "      <th>280582</th>\n",
       "      <td>61</td>\n",
       "      <td>employed</td>\n",
       "      <td>75000</td>\n",
       "      <td>grade 9</td>\n",
       "    </tr>\n",
       "    <tr>\n",
       "      <th>266002</th>\n",
       "      <td>28</td>\n",
       "      <td>employed</td>\n",
       "      <td>25000</td>\n",
       "      <td>grade 12</td>\n",
       "    </tr>\n",
       "    <tr>\n",
       "      <th>285971</th>\n",
       "      <td>47</td>\n",
       "      <td>employed</td>\n",
       "      <td>70000</td>\n",
       "      <td>grade 12</td>\n",
       "    </tr>\n",
       "    <tr>\n",
       "      <th>119645</th>\n",
       "      <td>75</td>\n",
       "      <td>not in labor force</td>\n",
       "      <td>35500</td>\n",
       "      <td>grade 12</td>\n",
       "    </tr>\n",
       "    <tr>\n",
       "      <th>24109</th>\n",
       "      <td>31</td>\n",
       "      <td>employed</td>\n",
       "      <td>18000</td>\n",
       "      <td>grade 12</td>\n",
       "    </tr>\n",
       "    <tr>\n",
       "      <th>150766</th>\n",
       "      <td>5</td>\n",
       "      <td>n/a</td>\n",
       "      <td>9999999</td>\n",
       "      <td>n/a or no schooling</td>\n",
       "    </tr>\n",
       "    <tr>\n",
       "      <th>238174</th>\n",
       "      <td>30</td>\n",
       "      <td>employed</td>\n",
       "      <td>40000</td>\n",
       "      <td>1 year of college</td>\n",
       "    </tr>\n",
       "    <tr>\n",
       "      <th>9211</th>\n",
       "      <td>20</td>\n",
       "      <td>employed</td>\n",
       "      <td>3200</td>\n",
       "      <td>grade 12</td>\n",
       "    </tr>\n",
       "  </tbody>\n",
       "</table>\n",
       "</div>"
      ],
      "text/plain": [
       "       age             empstat   inctot                 educ\n",
       "126287  67  not in labor force    35500             grade 12\n",
       "10561   16  not in labor force        0             grade 11\n",
       "280582  61            employed    75000              grade 9\n",
       "266002  28            employed    25000             grade 12\n",
       "285971  47            employed    70000             grade 12\n",
       "119645  75  not in labor force    35500             grade 12\n",
       "24109   31            employed    18000             grade 12\n",
       "150766   5                 n/a  9999999  n/a or no schooling\n",
       "238174  30            employed    40000    1 year of college\n",
       "9211    20            employed     3200             grade 12"
      ]
     },
     "execution_count": 23,
     "metadata": {},
     "output_type": "execute_result"
    }
   ],
   "source": [
    "acs.sample(10)"
   ]
  },
  {
   "cell_type": "markdown",
   "metadata": {},
   "source": [
    "**6)** Do you see any immediate problems? Write them down with your partner. "
   ]
  },
  {
   "cell_type": "markdown",
   "metadata": {},
   "source": [
    "**7)** One problem is that many people seem to have incomes of $9,999,999. Moreover, people with those incomes seem to be very young children. \n",
    "\n",
    "What you are seeing is one method (a relatively old one) for representing missing data. In this case, 9999999 is a method of saying \"this person is too young to work, so their income value is missing\". \n",
    "\n",
    "So let's begin by dropping anyone who has `inctot` equal to 9999999. "
   ]
  },
  {
   "cell_type": "code",
   "execution_count": 24,
   "metadata": {},
   "outputs": [],
   "source": [
    "acs = acs.loc[acs['inctot'] != 9999999]"
   ]
  },
  {
   "cell_type": "markdown",
   "metadata": {},
   "source": [
    "**8)** OK, the other potential problem is that our data includes lots of people who are unemployed and people who are not in the labor force (this means they not only don't have a job, but also aren't looking for a job). For this analysis, we to focus on the wages of people who are currently employed. So subset the dataset for the people for whom `empstat` is equal to \"employed\". \n",
    "\n",
    "Note that our decision to only look at people who are employed impacts how we should interpret the relationship we estimate between education and income. Because we are only looked at employed people, we will be estimating the relationship between education and income *for people who are employed*. That means that if education affects the *likelihood* someone is employed, we won't capture that in this analysis. "
   ]
  },
  {
   "cell_type": "code",
   "execution_count": 25,
   "metadata": {},
   "outputs": [
    {
     "data": {
      "text/html": [
       "<div>\n",
       "<style scoped>\n",
       "    .dataframe tbody tr th:only-of-type {\n",
       "        vertical-align: middle;\n",
       "    }\n",
       "\n",
       "    .dataframe tbody tr th {\n",
       "        vertical-align: top;\n",
       "    }\n",
       "\n",
       "    .dataframe thead th {\n",
       "        text-align: right;\n",
       "    }\n",
       "</style>\n",
       "<table border=\"1\" class=\"dataframe\">\n",
       "  <thead>\n",
       "    <tr style=\"text-align: right;\">\n",
       "      <th></th>\n",
       "      <th>age</th>\n",
       "      <th>empstat</th>\n",
       "      <th>inctot</th>\n",
       "      <th>educ</th>\n",
       "    </tr>\n",
       "  </thead>\n",
       "  <tbody>\n",
       "    <tr>\n",
       "      <th>10711</th>\n",
       "      <td>25</td>\n",
       "      <td>employed</td>\n",
       "      <td>20000</td>\n",
       "      <td>grade 12</td>\n",
       "    </tr>\n",
       "    <tr>\n",
       "      <th>24877</th>\n",
       "      <td>48</td>\n",
       "      <td>employed</td>\n",
       "      <td>22000</td>\n",
       "      <td>grade 5, 6, 7, or 8</td>\n",
       "    </tr>\n",
       "    <tr>\n",
       "      <th>121973</th>\n",
       "      <td>65</td>\n",
       "      <td>employed</td>\n",
       "      <td>24000</td>\n",
       "      <td>5+ years of college</td>\n",
       "    </tr>\n",
       "    <tr>\n",
       "      <th>177890</th>\n",
       "      <td>36</td>\n",
       "      <td>employed</td>\n",
       "      <td>18000</td>\n",
       "      <td>5+ years of college</td>\n",
       "    </tr>\n",
       "    <tr>\n",
       "      <th>280058</th>\n",
       "      <td>47</td>\n",
       "      <td>employed</td>\n",
       "      <td>28000</td>\n",
       "      <td>grade 12</td>\n",
       "    </tr>\n",
       "    <tr>\n",
       "      <th>143279</th>\n",
       "      <td>65</td>\n",
       "      <td>employed</td>\n",
       "      <td>113000</td>\n",
       "      <td>1 year of college</td>\n",
       "    </tr>\n",
       "    <tr>\n",
       "      <th>246142</th>\n",
       "      <td>41</td>\n",
       "      <td>employed</td>\n",
       "      <td>35500</td>\n",
       "      <td>grade 9</td>\n",
       "    </tr>\n",
       "    <tr>\n",
       "      <th>126240</th>\n",
       "      <td>44</td>\n",
       "      <td>employed</td>\n",
       "      <td>20000</td>\n",
       "      <td>4 years of college</td>\n",
       "    </tr>\n",
       "    <tr>\n",
       "      <th>270395</th>\n",
       "      <td>41</td>\n",
       "      <td>employed</td>\n",
       "      <td>101000</td>\n",
       "      <td>5+ years of college</td>\n",
       "    </tr>\n",
       "    <tr>\n",
       "      <th>34756</th>\n",
       "      <td>26</td>\n",
       "      <td>employed</td>\n",
       "      <td>48000</td>\n",
       "      <td>4 years of college</td>\n",
       "    </tr>\n",
       "  </tbody>\n",
       "</table>\n",
       "</div>"
      ],
      "text/plain": [
       "       age   empstat  inctot                 educ\n",
       "10711   25  employed   20000             grade 12\n",
       "24877   48  employed   22000  grade 5, 6, 7, or 8\n",
       "121973  65  employed   24000  5+ years of college\n",
       "177890  36  employed   18000  5+ years of college\n",
       "280058  47  employed   28000             grade 12\n",
       "143279  65  employed  113000    1 year of college\n",
       "246142  41  employed   35500              grade 9\n",
       "126240  44  employed   20000   4 years of college\n",
       "270395  41  employed  101000  5+ years of college\n",
       "34756   26  employed   48000   4 years of college"
      ]
     },
     "execution_count": 25,
     "metadata": {},
     "output_type": "execute_result"
    }
   ],
   "source": [
    "acs = acs.loc[acs.empstat == \"employed\", ]\n",
    "acs.sample(10)"
   ]
  },
  {
   "cell_type": "markdown",
   "metadata": {},
   "source": [
    "**9)** Now let's turn to education. The `educ` variable seems to have a lot of discrete values. Let's see what values exist, and their distribution, using the `value_counts()` method. This is an *extremely* useful tool you'll use a lot! Try the following code (modified for the name of your dataset, of course):\n",
    "\n",
    "```\n",
    "acs['educ'].value_counts()\n",
    "```"
   ]
  },
  {
   "cell_type": "code",
   "execution_count": 26,
   "metadata": {},
   "outputs": [
    {
     "data": {
      "text/plain": [
       "grade 12                     47815\n",
       "4 years of college           33174\n",
       "1 year of college            22899\n",
       "5+ years of college          20995\n",
       "2 years of college           14077\n",
       "grade 11                      2747\n",
       "grade 5, 6, 7, or 8           2092\n",
       "grade 10                      1910\n",
       "n/a or no schooling           1291\n",
       "grade 9                       1290\n",
       "nursery school to grade 4      468\n",
       "Name: educ, dtype: int64"
      ]
     },
     "execution_count": 26,
     "metadata": {},
     "output_type": "execute_result"
    }
   ],
   "source": [
    "acs['educ'].value_counts()"
   ]
  },
  {
   "cell_type": "markdown",
   "metadata": {},
   "source": [
    "**10)** There are a lot of values in here, so let's just check a couple. What is the average value of `inctot` for people whose highest grade level is \"grade 12\" (in the US, that is someone who has graduated high school)?"
   ]
  },
  {
   "cell_type": "code",
   "execution_count": 27,
   "metadata": {},
   "outputs": [
    {
     "data": {
      "text/plain": [
       "38957.76068179442"
      ]
     },
     "execution_count": 27,
     "metadata": {},
     "output_type": "execute_result"
    }
   ],
   "source": [
    "acs.loc[acs['educ']=='grade 12', 'inctot'].mean()"
   ]
  },
  {
   "cell_type": "markdown",
   "metadata": {},
   "source": [
    "**11)** What is the average income of someone who graduated college (\"4 years of college\")? What does that suggest is the value of getting a college degree after graduating high school?"
   ]
  },
  {
   "cell_type": "markdown",
   "metadata": {},
   "source": [
    "**12)** What is the average income for someone who has not finished high school? What does that suggest is the value of a high school diploma?"
   ]
  },
  {
   "cell_type": "markdown",
   "metadata": {},
   "source": [
    "**13)** Complete the following table:\n",
    "\n",
    "- Average income for someone who has not finished high school: _________\n",
    "- Average income for someone who only completed 9th grade: _________\n",
    "- Average income for someone who only completed 10th grade: _________\n",
    "- Average income for someone who only completed 11th grade: _________\n",
    "- Average income for someone who finished high school (12th grade) but never started college: _________\n",
    "- Average income for someone who completed 4 year of college (in the US, this means graduating college): _________"
   ]
  },
  {
   "cell_type": "code",
   "execution_count": 33,
   "metadata": {},
   "outputs": [
    {
     "data": {
      "text/plain": [
       "26226.45692998571"
      ]
     },
     "execution_count": 33,
     "metadata": {},
     "output_type": "execute_result"
    }
   ],
   "source": [
    "# Hasn't finished:\n",
    "acs.loc[ (acs['educ'] == 'n/a or no schooling') |\n",
    "         (acs['educ'] == 'nursery school to grade 4') |\n",
    "         (acs['educ'] == 'grade 5, 6, 7, or 8') |\n",
    "         (acs['educ'] == 'grade 9') |\n",
    "         (acs['educ'] == 'grade 10') |\n",
    "         (acs['educ'] == 'grade 11'), \n",
    "        'inctot'].mean()"
   ]
  },
  {
   "cell_type": "code",
   "execution_count": 35,
   "metadata": {},
   "outputs": [
    {
     "name": "stdout",
     "output_type": "stream",
     "text": [
      "grade 9\n",
      "27171.907751937986\n",
      "grade 10\n",
      "23018.795811518325\n",
      "grade 11\n",
      "21541.68693119767\n",
      "grade 12\n",
      "38957.76068179442\n",
      "4 years of college\n",
      "75485.05293301983\n"
     ]
    }
   ],
   "source": [
    "for level in ['grade 9', 'grade 10', 'grade 11', 'grade 12', '4 years of college']:\n",
    "    print(level)\n",
    "    print(acs.loc[acs['educ'] == level, 'inctot'].mean())"
   ]
  },
  {
   "cell_type": "markdown",
   "metadata": {},
   "source": [
    "**14)** Why do you think there is no benefit from moving from grade 9 to grade 10, or grade 10 to grade 11, but there is a huge benefit to moving from grade 11 to graduating high school (grade 12)?"
   ]
  },
  {
   "cell_type": "markdown",
   "metadata": {},
   "source": [
    "## Take-aways\n",
    "\n",
    "Congratulations! You just discovered \"the sheepskin effect!:\" people with degrees tend to earn more than people who have the same education, but don't have the certificate of completion. \n",
    "\n",
    "In economics, this is viewed as evidence that the reason employers pay people with high school degrees more than those without degree is *not* that they think those who graduated high school have learned specific, useful skills. If that were the case, we would expect employee earnings to rise with every year of high school, since in each year of high school we learn more. Instead, this suggests employees pay high school graduates more because they think *the kind of people* who can finish high school are the *kind of people* who are likely to succeed. Finishing high school, in other words, isn't about accumulating specific knowledge; it's about showing that you *are the kind of person* who can rise to the challenge of finishing high school, also suggesting you are also the kind of person who can succeed as an employee. \n",
    "\n",
    "(Obviously, this does not tell us whether that is an *accurate* inference, just that that seems to be how employeers think.) \n",
    "\n",
    "The high school degree, in other words, is a *signal* about the kind of person you are (an idea that earned [Michael Spence](https://en.wikipedia.org/wiki/Michael_Spence) a Nobel Prize in Economics). "
   ]
  }
 ],
 "metadata": {
  "kernelspec": {
   "display_name": "Python 3",
   "language": "python",
   "name": "python3"
  },
  "language_info": {
   "codemirror_mode": {
    "name": "ipython",
    "version": 3
   },
   "file_extension": ".py",
   "mimetype": "text/x-python",
   "name": "python",
   "nbconvert_exporter": "python",
   "pygments_lexer": "ipython3",
   "version": "3.7.3"
  }
 },
 "nbformat": 4,
 "nbformat_minor": 4
}
