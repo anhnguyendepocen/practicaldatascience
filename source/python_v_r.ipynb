{
 "cells": [
  {
   "cell_type": "markdown",
   "metadata": {},
   "source": [
    "# Python v R: Variables vs Objects"
   ]
  },
  {
   "cell_type": "markdown",
   "metadata": {},
   "source": [
    "R and Python have a lot of similarities, but there are some important differences. The biggest, discussed below, is the idea of \"variables as pointers\". But before we dive into that, a few smaller differences that tend to get people tripped up: \n",
    "\n",
    "* **The analogue of `data.frames` and `vectors` are in `numpy` and `pandas` libraries, not Python itself**: When you watch basic Python tutorials, you'll find yourself wondering where the vectors and data.frames are -- don't worry! They exist, but they're in distinct libraries called `numpy` and `pandas`, so basic Python tutorials won't talk about them. \n",
    "* **Periods are operators in Python**: In R, it's common to use periods in variable names (like: `my.list`). There are many syntax differences between R and Python, but for some reason people really struggle with this one -- periods are an operator in Python, so don't use them in names! The convention is to use underscores, like: `my_list`.\n",
    "* **In Python you always count starting at 0, not 1** For example, to get the first entry in a list, you type `my_list[0]`, not `my_list[1]`. `my_list[1]` will get you the *second* entry in the list. \n",
    "\n",
    "## Variables vs Objects\n",
    "\n",
    "Now the big conceptual difference between Python and R: variables versus objects. \n",
    "\n",
    "Say you make a new vector as follows:\n",
    "\n",
    "``my.list <- list(1,2,3)``\n",
    "\n",
    "In R, there's no difference between a variable (``my.list``) and the object associated with it (the list 1, 2, 3). But this is actually a slight of hand used by R to hide something fundamental about how computers work, and it does not happen in Python.\n",
    "\n",
    "In Python, variables and the objects they point two actually live in two different places in your computer. As a result, in Python it's best to think of variables as *pointing* to the objects they're associated with, rather than *being* those objects. Personally, I've always liked the analogy of your computer being a big warehouse, and variables are just the entries in the inventory book used by the warehouse manager: the variable tells you how to find the thing you want, but it is not the thing itself. \n",
    "\n",
    "So when you create a new list, Python puts that list somewhere in memory, kind of like how you might put something big on a shelf in a warehouse. The variable associated with that list (say, ``my.list``) actually just stores the *location* of the shelf where that list was placed. And because this behavior is normal in most languages, you may not see it emphasized in Python tutorials written by programmers not coming from R.\n",
    "\n",
    "The reason this matters is that it's possible for multiple variables to be pointed at the same object. As a result, changes made to an object though one variable will impact what you get if you call the other variables pointed at that object! For example:"
   ]
  },
  {
   "cell_type": "code",
   "execution_count": 1,
   "metadata": {},
   "outputs": [
    {
     "data": {
      "text/plain": [
       "[1, 2, 3, 4]"
      ]
     },
     "execution_count": 1,
     "metadata": {},
     "output_type": "execute_result"
    }
   ],
   "source": [
    "# Make a new list\n",
    "x = [1, 2, 3]\n",
    "# Make new var Y, and assign it x. In R this would make a copy.\n",
    "y = x\n",
    "# Add to the end of the string\n",
    "x.append(4)\n",
    "# We see this new addition is now at end of x\n",
    "x"
   ]
  },
  {
   "cell_type": "code",
   "execution_count": 4,
   "metadata": {},
   "outputs": [
    {
     "data": {
      "text/plain": [
       "[1, 2, 3, 4]"
      ]
     },
     "execution_count": 4,
     "metadata": {},
     "output_type": "execute_result"
    }
   ],
   "source": [
    "# But look! It's also at the end of y!\n",
    "# That's because both variables are actually pointing to the same object in memory (\"in the warehouse\"), \n",
    "# so when you appended something to x, you changed the underlying object. And \n",
    "# since y was also pointed at that same object, when you next call y, it \n",
    "# \"sees\" those changes to the underlying list. \n",
    "y"
   ]
  },
  {
   "cell_type": "markdown",
   "metadata": {},
   "source": [
    "If it's helpful, here's a visual depiction of what's going on taken from the the [Python Tutor Visualizer, which we'll work with in our exercises for this section](http://www.pythontutor.com/visualize.html): \n",
    "\n",
    "First we create a list associated with `x`:\n",
    "\n",
    "![vars_v_objects_1](images/vars_v_objects_1.png)\n",
    "\n",
    "Then we create a var `y` also pointed at that same list:\n",
    "\n",
    "![vars_v_objects_2](images/vars_v_objects_2.png)\n",
    "\n",
    "Then we modify the list *through* `x`, creating a change also visible through `y`:\n",
    "\n",
    "![vars_v_objects_3](images/vars_v_objects_3.png)"
   ]
  },
  {
   "cell_type": "markdown",
   "metadata": {},
   "source": [
    "If what you want to do is make a *copy* of x, you use the `copy()` command. This makes an entirely new list (a new object that looks the same as the old one, but which can be put on a different shelf) so that changes to `x` won't impact the list associated with `y`. "
   ]
  },
  {
   "cell_type": "code",
   "execution_count": 5,
   "metadata": {},
   "outputs": [
    {
     "data": {
      "text/plain": [
       "[1, 2, 3]"
      ]
     },
     "execution_count": 5,
     "metadata": {},
     "output_type": "execute_result"
    }
   ],
   "source": [
    "x = [1, 2, 3]\n",
    "y = x\n",
    "y_copy = x.copy()\n",
    "x.append(4)\n",
    "y_copy"
   ]
  },
  {
   "cell_type": "markdown",
   "metadata": {},
   "source": [
    "Visually, this code sequence looks like this:\n",
    "\n",
    "Start with `x` and `y` as before: \n",
    "\n",
    "![vars_v_objects_2](images/vars_v_objects_2.png)\n",
    "\n",
    "Then we make `y_copy`: \n",
    "\n",
    "![vars_v_objects_4](images/vars_v_objects_4.png)\n",
    "\n",
    "And modify `x`, changing what we get when we call `y`, but not `y_copy`:\n",
    "\n",
    "![vars_v_objects_5](images/vars_v_objects_5.png)"
   ]
  },
  {
   "cell_type": "markdown",
   "metadata": {},
   "source": [
    "If you want to see if two variables point to the same thing, you can use the `is` operator, which tests whether two variables are pointed at the same place in memory / same shelf:"
   ]
  },
  {
   "cell_type": "code",
   "execution_count": 7,
   "metadata": {},
   "outputs": [
    {
     "data": {
      "text/plain": [
       "True"
      ]
     },
     "execution_count": 7,
     "metadata": {},
     "output_type": "execute_result"
    }
   ],
   "source": [
    "x is y"
   ]
  },
  {
   "cell_type": "code",
   "execution_count": 14,
   "metadata": {},
   "outputs": [
    {
     "data": {
      "text/plain": [
       "False"
      ]
     },
     "execution_count": 14,
     "metadata": {},
     "output_type": "execute_result"
    }
   ],
   "source": [
    "x is y_copy"
   ]
  },
  {
   "cell_type": "markdown",
   "metadata": {},
   "source": [
    "Note that `is` is not the same as `==`. `==` asks if the *entries* in the lists the two variables point at have the same values, while `is` asks if the two variables are pointing to *the exact same object*. So: "
   ]
  },
  {
   "cell_type": "code",
   "execution_count": 24,
   "metadata": {},
   "outputs": [
    {
     "data": {
      "text/plain": [
       "False"
      ]
     },
     "execution_count": 24,
     "metadata": {},
     "output_type": "execute_result"
    }
   ],
   "source": [
    "x = [1, 2, 3]\n",
    "y = x.copy()\n",
    "# Since we made a copy, x and y aren't pointing to the same thing...\n",
    "x is y"
   ]
  },
  {
   "cell_type": "code",
   "execution_count": 27,
   "metadata": {},
   "outputs": [
    {
     "data": {
      "text/plain": [
       "True"
      ]
     },
     "execution_count": 27,
     "metadata": {},
     "output_type": "execute_result"
    }
   ],
   "source": [
    "# But as x and y both point to lists with the entries 1, 2, 3, they point to lists that are equal in terms of their entries\n",
    "x == y"
   ]
  },
  {
   "cell_type": "markdown",
   "metadata": {},
   "source": [
    "## Mutable versus Immutable Types\n",
    "\n",
    "Now a wrinkle. \n",
    "\n",
    "Certain data types in Python are called \"immutable\". That means an object, once created, can't be actually modified. As a result, if you want to do something that looks like modifying the object, Python has to actually create *an entirely new object* and lives in a new location. \n",
    "\n",
    "Strings, for example, are \"immutable\". So if we create a string, then try and modify it, what we're actually doing is creating a new string that has the features we want. \n",
    "\n",
    "To illustrate, we can use the `id()` function. Every object in Python has a unique `id()`, and so when two variables point to the same object, then `id()` of those variables will also return the same thing:"
   ]
  },
  {
   "cell_type": "code",
   "execution_count": 7,
   "metadata": {},
   "outputs": [
    {
     "data": {
      "text/plain": [
       "4416454256"
      ]
     },
     "execution_count": 7,
     "metadata": {},
     "output_type": "execute_result"
    }
   ],
   "source": [
    "# Make x a simple string, then make y point to that same string\n",
    "x = \"my string\"\n",
    "y = x\n",
    "\n",
    "id(x)"
   ]
  },
  {
   "cell_type": "code",
   "execution_count": 8,
   "metadata": {},
   "outputs": [
    {
     "data": {
      "text/plain": [
       "4416454256"
      ]
     },
     "execution_count": 8,
     "metadata": {},
     "output_type": "execute_result"
    }
   ],
   "source": [
    "id(y)"
   ]
  },
  {
   "cell_type": "markdown",
   "metadata": {},
   "source": [
    "As we can see, x and y point to the same object. But now let's see what happens if we modify that string:"
   ]
  },
  {
   "cell_type": "code",
   "execution_count": 43,
   "metadata": {},
   "outputs": [
    {
     "data": {
      "text/plain": [
       "'MY STRING'"
      ]
     },
     "execution_count": 43,
     "metadata": {},
     "output_type": "execute_result"
    }
   ],
   "source": [
    "x = x.upper()\n",
    "x"
   ]
  },
  {
   "cell_type": "code",
   "execution_count": 44,
   "metadata": {},
   "outputs": [
    {
     "data": {
      "text/plain": [
       "4442614704"
      ]
     },
     "execution_count": 44,
     "metadata": {},
     "output_type": "execute_result"
    }
   ],
   "source": [
    "id(x)"
   ]
  },
  {
   "cell_type": "markdown",
   "metadata": {},
   "source": [
    "As we can see, `x` now has a new value of ID. That's because calling `x` actually created a new string that was the uppercase version of \"my string\", then made `x` point to that new object. \n",
    "\n",
    "But what happened to `y`?"
   ]
  },
  {
   "cell_type": "code",
   "execution_count": 45,
   "metadata": {},
   "outputs": [
    {
     "data": {
      "text/plain": [
       "'my string'"
      ]
     },
     "execution_count": 45,
     "metadata": {},
     "output_type": "execute_result"
    }
   ],
   "source": [
    "y"
   ]
  },
  {
   "cell_type": "code",
   "execution_count": 46,
   "metadata": {},
   "outputs": [
    {
     "data": {
      "text/plain": [
       "4442514928"
      ]
     },
     "execution_count": 46,
     "metadata": {},
     "output_type": "execute_result"
    }
   ],
   "source": [
    "id(y)"
   ]
  },
  {
   "cell_type": "markdown",
   "metadata": {},
   "source": [
    "As we can see, `y` is still pointing at the old string and still has the same `id()`. Visually, this can be visualized as `x` and `y` both pointing to the same string: \n",
    "\n",
    "![var_v_object_string_1](images/var_v_object_string_1.png)\n",
    "\n",
    "Then `x` being redirected to a new object (\"MY STRING\") because strings are immutable (meaning the original value of \"my string\" couldn't just be modified in place).\n",
    "\n",
    "![var_v_object_string_2](images/var_v_object_string_2.png)"
   ]
  },
  {
   "cell_type": "markdown",
   "metadata": {},
   "source": [
    "This illustrates one of the naunces of Python: **if you mutate a mutable object, that change will propagate to all variables that point at said object. But if you modify an immutable object, a new object will actually be created, so that change will not be accessible to variables pointing at the old object.**"
   ]
  },
  {
   "cell_type": "markdown",
   "metadata": {},
   "source": [
    "## What's mutable, and what's immutable?\n",
    "\n",
    "Here's quick list of data types you're likely to encounter that are *immutable*:\n",
    "\n",
    "- int\n",
    "- float\n",
    "- decimal\n",
    "- complex\n",
    "- bool\n",
    "- string\n",
    "- tuple\n",
    "\n",
    "And here are common datatypes that are *mutable*: \n",
    "\n",
    "- lists\n",
    "- sets\n",
    "- dictionaries\n",
    "- user defined objects\n",
    "- numpy arrays\n",
    "- pandas objects\n",
    "\n",
    "How do you remember this? It is *nearly*  accurate to say that **anything that is a collection of other objects is mutable, except `tuples`**. There are some weird datatypes that are also collections that are immutable (*frozensets*, which as the name implies are \"frozen\" and thus can't be changed), but you're unlikely to ever use those, and if you do, it's because you know you want something immutable. \n",
    "\n",
    "## Only some manipulations are mutations\n",
    "\n",
    "OK, now an important nuance: **not all manipulations of mutable objects change the object rather than create a new object.** Sometimes when you do something to a mutable object, you get back a new object. Manipulations that change an existing object, rather than create a new one, are referred to as \"inplace mutations\" or just \"mutations\". So:\n",
    "\n",
    "- *All* manipulations of immutable types create new objects\n",
    "- *Some* manipulations of mutable types create new objects\n",
    "\n",
    "For example, appending something to the end of a list is an *in-place mutation* (the existing list is changed). But doing things like doubling up lists using the `*` create new lists: "
   ]
  },
  {
   "cell_type": "code",
   "execution_count": 11,
   "metadata": {},
   "outputs": [
    {
     "data": {
      "text/plain": [
       "[2, 5, 3, 2, 5, 3]"
      ]
     },
     "execution_count": 11,
     "metadata": {},
     "output_type": "execute_result"
    }
   ],
   "source": [
    "x = [2, 5, 3]\n",
    "y = x\n",
    "x = x * 2\n",
    "x"
   ]
  },
  {
   "cell_type": "code",
   "execution_count": 15,
   "metadata": {},
   "outputs": [
    {
     "data": {
      "text/plain": [
       "[2, 5, 3]"
      ]
     },
     "execution_count": 15,
     "metadata": {},
     "output_type": "execute_result"
    }
   ],
   "source": [
    "y"
   ]
  },
  {
   "cell_type": "markdown",
   "metadata": {},
   "source": [
    "Similarly, taking a slice of a list gets you a new list:"
   ]
  },
  {
   "cell_type": "code",
   "execution_count": 16,
   "metadata": {},
   "outputs": [
    {
     "data": {
      "text/plain": [
       "[2, 5]"
      ]
     },
     "execution_count": 16,
     "metadata": {},
     "output_type": "execute_result"
    }
   ],
   "source": [
    "x = [2, 5, 3]\n",
    "y = x\n",
    "x = x[0:2]\n",
    "x"
   ]
  },
  {
   "cell_type": "code",
   "execution_count": 17,
   "metadata": {},
   "outputs": [
    {
     "data": {
      "text/plain": [
       "[2, 5, 3]"
      ]
     },
     "execution_count": 17,
     "metadata": {},
     "output_type": "execute_result"
    }
   ],
   "source": [
    "y"
   ]
  },
  {
   "cell_type": "markdown",
   "metadata": {},
   "source": [
    "A function's documentation will almost always tell you if a function mutates a list in-place or note, and over time you'll get a feel for what mutates and what doesn't, but unfortunately in Python, there is no obvious way to be sure."
   ]
  },
  {
   "cell_type": "markdown",
   "metadata": {},
   "source": [
    "## Functions and Object References\n",
    "\n",
    "Another important thing to know is that the fact that different variables may all be pointing at the same object is preserved through function calls (a behavior known as \"pass by object-reference\"). So if you pass a list to a function, and that function manipulates that list using an in-place mutation, that change will affect any variable that was pointing to that same object outside the function."
   ]
  },
  {
   "cell_type": "code",
   "execution_count": 22,
   "metadata": {},
   "outputs": [
    {
     "data": {
      "text/plain": [
       "[1, 2, 3, 42]"
      ]
     },
     "execution_count": 22,
     "metadata": {},
     "output_type": "execute_result"
    }
   ],
   "source": [
    "x = [1, 2, 3]\n",
    "y = x\n",
    "\n",
    "def append_42(input_list):\n",
    "    input_list.append(42)\n",
    "    return input_list\n",
    "\n",
    "append_42(x)"
   ]
  },
  {
   "cell_type": "code",
   "execution_count": 23,
   "metadata": {},
   "outputs": [
    {
     "data": {
      "text/plain": [
       "[1, 2, 3, 42]"
      ]
     },
     "execution_count": 23,
     "metadata": {},
     "output_type": "execute_result"
    }
   ],
   "source": [
    "x"
   ]
  },
  {
   "cell_type": "code",
   "execution_count": 25,
   "metadata": {},
   "outputs": [
    {
     "data": {
      "text/plain": [
       "[1, 2, 3, 42]"
      ]
     },
     "execution_count": 25,
     "metadata": {},
     "output_type": "execute_result"
    }
   ],
   "source": [
    "y"
   ]
  },
  {
   "cell_type": "markdown",
   "metadata": {},
   "source": [
    "## `copy` versus `deepcopy`\n",
    "\n",
    "One of the useful things about Python collections is that they are *recursive*, meaning that a list can contain other lists! For example:"
   ]
  },
  {
   "cell_type": "code",
   "execution_count": 26,
   "metadata": {},
   "outputs": [
    {
     "data": {
      "text/plain": [
       "[42, 3.14, [1, 2, 3]]"
      ]
     },
     "execution_count": 26,
     "metadata": {},
     "output_type": "execute_result"
    }
   ],
   "source": [
    "x = [42, 3.14, [1, 2, 3]]\n",
    "x"
   ]
  },
  {
   "cell_type": "markdown",
   "metadata": {},
   "source": [
    "Here, the third element of our list `x` is itself a list:"
   ]
  },
  {
   "cell_type": "code",
   "execution_count": 30,
   "metadata": {},
   "outputs": [
    {
     "data": {
      "text/plain": [
       "list"
      ]
     },
     "execution_count": 30,
     "metadata": {},
     "output_type": "execute_result"
    }
   ],
   "source": [
    "type(x[2])"
   ]
  },
  {
   "cell_type": "markdown",
   "metadata": {},
   "source": [
    "Moreover, we can point other variables at the list *within* our list if we want:"
   ]
  },
  {
   "cell_type": "code",
   "execution_count": 33,
   "metadata": {},
   "outputs": [
    {
     "data": {
      "text/plain": [
       "[1, 2, 3, -1, -1, -1]"
      ]
     },
     "execution_count": 33,
     "metadata": {},
     "output_type": "execute_result"
    }
   ],
   "source": [
    "y = x[2]\n",
    "y.append(-1)\n",
    "y"
   ]
  },
  {
   "cell_type": "code",
   "execution_count": 34,
   "metadata": {},
   "outputs": [
    {
     "data": {
      "text/plain": [
       "[42, 3.14, [1, 2, 3, -1, -1, -1]]"
      ]
     },
     "execution_count": 34,
     "metadata": {},
     "output_type": "execute_result"
    }
   ],
   "source": [
    "x"
   ]
  },
  {
   "cell_type": "markdown",
   "metadata": {},
   "source": [
    "Visually, we can think of this as looking like this: \n",
    "\n",
    "`x = [42, 3.14, [1, 2, 3]]`:\n",
    "\n",
    "![recursive_1](images/recursive_1.png)\n",
    "\n",
    "`y = x[2]`:\n",
    "\n",
    "![recursive_1](images/recursive_2.png)\n",
    "\n",
    "`y.append(-1)`:\n",
    "\n",
    "![recursive_1](images/recursive_3.png)"
   ]
  },
  {
   "cell_type": "markdown",
   "metadata": {},
   "source": [
    "Now, understanding this kind of recursive structure is important because it affects how `copy` works. \n",
    "\n",
    "If you *just* copy a list, you get all the \"object references\" in that list. So if I run:"
   ]
  },
  {
   "cell_type": "code",
   "execution_count": 36,
   "metadata": {},
   "outputs": [],
   "source": [
    "x = [42, 3.14, [1, 2, 3]]\n",
    "y = x.copy()"
   ]
  },
  {
   "cell_type": "markdown",
   "metadata": {},
   "source": [
    "What I get is this:"
   ]
  },
  {
   "cell_type": "markdown",
   "metadata": {},
   "source": [
    "![recursive_copy](images/recursive_copy.png)"
   ]
  },
  {
   "cell_type": "markdown",
   "metadata": {},
   "source": [
    "Note that `copy` copied the *arrow* from our first list (42, 3.14) to the second list (1, 2, 3), but it did *not* create a copy of the second list (`[1, 2, 3]`). If you modify this second list through `x`, that change will also be evident in `y`!\n",
    "\n",
    "If you want a \"deep copy\", we have to use the code:\n",
    "\n",
    "```python\n",
    "import copy\n",
    "x = copy.deepcopy(x)\n",
    "```\n",
    "\n",
    "which will generate this situation:\n",
    "\n",
    "![recursive_deepcopy](images/recursive_deepcopy.png)\n"
   ]
  },
  {
   "cell_type": "markdown",
   "metadata": {},
   "source": [
    "## Confused?\n",
    "\n",
    "Yeah, that's reasonable. This is really tricky. Honestly, you probably won't feel like you \"get\" this until you play around with it a lot (as we'll do in the exercises below).\n",
    "\n",
    "## Exercises\n",
    "\n",
    "[Variables v Objects Exercises](exercises/Exercise_variables_v_objects.ipynb)"
   ]
  }
 ],
 "metadata": {
  "kernelspec": {
   "display_name": "Python 3",
   "language": "python",
   "name": "python3"
  },
  "language_info": {
   "codemirror_mode": {
    "name": "ipython",
    "version": 3
   },
   "file_extension": ".py",
   "mimetype": "text/x-python",
   "name": "python",
   "nbconvert_exporter": "python",
   "pygments_lexer": "ipython3",
   "version": "3.7.3"
  }
 },
 "nbformat": 4,
 "nbformat_minor": 4
}
