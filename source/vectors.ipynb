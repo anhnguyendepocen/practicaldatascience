{
 "cells": [
  {
   "cell_type": "markdown",
   "metadata": {},
   "source": [
    "\n",
    "Creating vectors\n",
    "================\n",
    "\n",
    "We'll create three types of vectors: numeric, character, and logical.\n",
    "Here are examples of each type:"
   ]
  },
  {
   "cell_type": "code",
   "execution_count": 19,
   "metadata": {},
   "outputs": [],
   "source": [
    "\n",
    "# Numeric vectors \n",
    "n1 <- 20\n",
    "n2 <- c(20, 25, 60, 55)\n",
    "\n",
    "# Character vectors\n",
    "c1 <- \"Blue\"\n",
    "c2 <- c(\"Red\", \"Green\", \"Purple\")\n",
    "\n",
    "# Logical vectors\n",
    "l1 <- TRUE\n",
    "l2 <- c(TRUE, FALSE, TRUE) "
   ]
  },
  {
   "cell_type": "markdown",
   "metadata": {},
   "source": [
    "Note that vectors can consist of one or many *elements*. Three\n",
    "common ways to create vectors with more than one element is to use `c()`,\n",
    "`seq()`, or `rep()`.\n",
    "\n",
    "<span class=\"fw\"> c() </span>\n",
    "-------------------------\n",
    "\n",
    "As illustrated above, one very common way to create vectors with more\n",
    "than one element is to use `c()` (\"concatenate\"), which simply combines\n",
    "whatever values you specify in the parentheses.\n",
    "\n",
    "<span class=\"fw\"> seq() </span>\n",
    "-------------------------\n",
    "\n",
    "`seq()` applies to numeric vectors only:"
   ]
  },
  {
   "cell_type": "code",
   "execution_count": 2,
   "metadata": {},
   "outputs": [
    {
     "data": {
      "text/html": [
       "<ol class=list-inline>\n",
       "\t<li>0</li>\n",
       "\t<li>2</li>\n",
       "\t<li>4</li>\n",
       "\t<li>6</li>\n",
       "\t<li>8</li>\n",
       "\t<li>10</li>\n",
       "</ol>\n"
      ],
      "text/latex": [
       "\\begin{enumerate*}\n",
       "\\item 0\n",
       "\\item 2\n",
       "\\item 4\n",
       "\\item 6\n",
       "\\item 8\n",
       "\\item 10\n",
       "\\end{enumerate*}\n"
      ],
      "text/markdown": [
       "1. 0\n",
       "2. 2\n",
       "3. 4\n",
       "4. 6\n",
       "5. 8\n",
       "6. 10\n",
       "\n",
       "\n"
      ],
      "text/plain": [
       "[1]  0  2  4  6  8 10"
      ]
     },
     "metadata": {},
     "output_type": "display_data"
    },
    {
     "data": {
      "text/html": [
       "<ol class=list-inline>\n",
       "\t<li>0</li>\n",
       "\t<li>2.5</li>\n",
       "\t<li>5</li>\n",
       "\t<li>7.5</li>\n",
       "\t<li>10</li>\n",
       "</ol>\n"
      ],
      "text/latex": [
       "\\begin{enumerate*}\n",
       "\\item 0\n",
       "\\item 2.5\n",
       "\\item 5\n",
       "\\item 7.5\n",
       "\\item 10\n",
       "\\end{enumerate*}\n"
      ],
      "text/markdown": [
       "1. 0\n",
       "2. 2.5\n",
       "3. 5\n",
       "4. 7.5\n",
       "5. 10\n",
       "\n",
       "\n"
      ],
      "text/plain": [
       "[1]  0.0  2.5  5.0  7.5 10.0"
      ]
     },
     "metadata": {},
     "output_type": "display_data"
    },
    {
     "data": {
      "text/html": [
       "<ol class=list-inline>\n",
       "\t<li>1</li>\n",
       "\t<li>1.1</li>\n",
       "\t<li>1.2</li>\n",
       "\t<li>1.3</li>\n",
       "\t<li>1.4</li>\n",
       "\t<li>1.5</li>\n",
       "\t<li>1.6</li>\n",
       "\t<li>1.7</li>\n",
       "\t<li>1.8</li>\n",
       "\t<li>1.9</li>\n",
       "\t<li>2</li>\n",
       "</ol>\n"
      ],
      "text/latex": [
       "\\begin{enumerate*}\n",
       "\\item 1\n",
       "\\item 1.1\n",
       "\\item 1.2\n",
       "\\item 1.3\n",
       "\\item 1.4\n",
       "\\item 1.5\n",
       "\\item 1.6\n",
       "\\item 1.7\n",
       "\\item 1.8\n",
       "\\item 1.9\n",
       "\\item 2\n",
       "\\end{enumerate*}\n"
      ],
      "text/markdown": [
       "1. 1\n",
       "2. 1.1\n",
       "3. 1.2\n",
       "4. 1.3\n",
       "5. 1.4\n",
       "6. 1.5\n",
       "7. 1.6\n",
       "8. 1.7\n",
       "9. 1.8\n",
       "10. 1.9\n",
       "11. 2\n",
       "\n",
       "\n"
      ],
      "text/plain": [
       " [1] 1.0 1.1 1.2 1.3 1.4 1.5 1.6 1.7 1.8 1.9 2.0"
      ]
     },
     "metadata": {},
     "output_type": "display_data"
    },
    {
     "data": {
      "text/html": [
       "<ol class=list-inline>\n",
       "\t<li>1</li>\n",
       "\t<li>2</li>\n",
       "\t<li>3</li>\n",
       "\t<li>4</li>\n",
       "\t<li>5</li>\n",
       "</ol>\n"
      ],
      "text/latex": [
       "\\begin{enumerate*}\n",
       "\\item 1\n",
       "\\item 2\n",
       "\\item 3\n",
       "\\item 4\n",
       "\\item 5\n",
       "\\end{enumerate*}\n"
      ],
      "text/markdown": [
       "1. 1\n",
       "2. 2\n",
       "3. 3\n",
       "4. 4\n",
       "5. 5\n",
       "\n",
       "\n"
      ],
      "text/plain": [
       "[1] 1 2 3 4 5"
      ]
     },
     "metadata": {},
     "output_type": "display_data"
    }
   ],
   "source": [
    "n1 <- seq(from = 0, to = 10, by = 2)   #using 'by'\n",
    "n1\n",
    "n2 <- seq(from = 0, to = 10, length.out = 5)   #using 'length.out'\n",
    "n2\n",
    "n3 <- seq(1, 2, 0.1)   #no argument names specified; automatically uses 'from', 'to', 'by'\n",
    "n3\n",
    "n4 <- 1:5    #shortcut for integer sequence; same as 'seq(1, 5, 1)'\n",
    "n4"
   ]
  },
  {
   "cell_type": "markdown",
   "metadata": {},
   "source": [
    "`seq()` by default takes three parameters: starting value, end\n",
    "value, and a value that specifies how elements will be incremented\n",
    "(\"by\"), which can be substituted with \"length.out\". Integer sequences can\n",
    "be created using a colon.\n",
    "\n",
    "<div class=\"general-note\">\n",
    "\n",
    "<strong> General note about argument names: </strong> A function's\n",
    "argument names need not be specified, as illustrated when we created\n",
    "`n3`. If they are not specified, R uses arguments based on a default\n",
    "order. One way to learn about this order is to use `?` (e.g.,\n",
    "`?seq`). If you specify the argument names, the order doesn't matter.\n",
    "Putting all this together, hopefully it's obvious why `seq(by = -1,\n",
    "from = 10, to = 2)` is the same as `seq(10, 2, -1)`.\n",
    "\n",
    "</div>\n",
    "\n",
    "\n",
    "<span class=\"fw\"> rep() </span>\n",
    "------------------------------\n",
    "\n",
    "Vectors can also be created using `rep()`. As the name implies, this\n",
    "function is useful if you want to *repeat* an element or elements."
   ]
  },
  {
   "cell_type": "code",
   "execution_count": 3,
   "metadata": {},
   "outputs": [
    {
     "data": {
      "text/html": [
       "<ol class=list-inline>\n",
       "\t<li>1</li>\n",
       "\t<li>1</li>\n",
       "\t<li>1</li>\n",
       "\t<li>1</li>\n",
       "\t<li>1</li>\n",
       "</ol>\n"
      ],
      "text/latex": [
       "\\begin{enumerate*}\n",
       "\\item 1\n",
       "\\item 1\n",
       "\\item 1\n",
       "\\item 1\n",
       "\\item 1\n",
       "\\end{enumerate*}\n"
      ],
      "text/markdown": [
       "1. 1\n",
       "2. 1\n",
       "3. 1\n",
       "4. 1\n",
       "5. 1\n",
       "\n",
       "\n"
      ],
      "text/plain": [
       "[1] 1 1 1 1 1"
      ]
     },
     "metadata": {},
     "output_type": "display_data"
    },
    {
     "data": {
      "text/html": [
       "<ol class=list-inline>\n",
       "\t<li>'blue'</li>\n",
       "\t<li>'blue'</li>\n",
       "\t<li>'blue'</li>\n",
       "</ol>\n"
      ],
      "text/latex": [
       "\\begin{enumerate*}\n",
       "\\item 'blue'\n",
       "\\item 'blue'\n",
       "\\item 'blue'\n",
       "\\end{enumerate*}\n"
      ],
      "text/markdown": [
       "1. 'blue'\n",
       "2. 'blue'\n",
       "3. 'blue'\n",
       "\n",
       "\n"
      ],
      "text/plain": [
       "[1] \"blue\" \"blue\" \"blue\""
      ]
     },
     "metadata": {},
     "output_type": "display_data"
    },
    {
     "data": {
      "text/html": [
       "<ol class=list-inline>\n",
       "\t<li>TRUE</li>\n",
       "\t<li>TRUE</li>\n",
       "\t<li>TRUE</li>\n",
       "\t<li>TRUE</li>\n",
       "</ol>\n"
      ],
      "text/latex": [
       "\\begin{enumerate*}\n",
       "\\item TRUE\n",
       "\\item TRUE\n",
       "\\item TRUE\n",
       "\\item TRUE\n",
       "\\end{enumerate*}\n"
      ],
      "text/markdown": [
       "1. TRUE\n",
       "2. TRUE\n",
       "3. TRUE\n",
       "4. TRUE\n",
       "\n",
       "\n"
      ],
      "text/plain": [
       "[1] TRUE TRUE TRUE TRUE"
      ]
     },
     "metadata": {},
     "output_type": "display_data"
    }
   ],
   "source": [
    "rep(1, 5)\n",
    "rep(\"blue\", 3)\n",
    "rep(TRUE, 4)"
   ]
  },
  {
   "cell_type": "markdown",
   "metadata": {},
   "source": [
    "As should be obvious, the first parameter in the function specifies\n",
    "the element to repeat, and the second the number of times to repeat it.\n",
    "\n",
    "\n",
    "Using more than one function\n",
    "----------------------------\n",
    "\n",
    "Perhaps the most powerful use of these functions comes from combining them.\n",
    "Here are a two examples:"
   ]
  },
  {
   "cell_type": "code",
   "execution_count": 4,
   "metadata": {},
   "outputs": [
    {
     "data": {
      "text/html": [
       "<ol class=list-inline>\n",
       "\t<li>'blue'</li>\n",
       "\t<li>'red'</li>\n",
       "\t<li>'blue'</li>\n",
       "\t<li>'red'</li>\n",
       "\t<li>'blue'</li>\n",
       "\t<li>'red'</li>\n",
       "</ol>\n"
      ],
      "text/latex": [
       "\\begin{enumerate*}\n",
       "\\item 'blue'\n",
       "\\item 'red'\n",
       "\\item 'blue'\n",
       "\\item 'red'\n",
       "\\item 'blue'\n",
       "\\item 'red'\n",
       "\\end{enumerate*}\n"
      ],
      "text/markdown": [
       "1. 'blue'\n",
       "2. 'red'\n",
       "3. 'blue'\n",
       "4. 'red'\n",
       "5. 'blue'\n",
       "6. 'red'\n",
       "\n",
       "\n"
      ],
      "text/plain": [
       "[1] \"blue\" \"red\"  \"blue\" \"red\"  \"blue\" \"red\" "
      ]
     },
     "metadata": {},
     "output_type": "display_data"
    },
    {
     "data": {
      "text/html": [
       "<ol class=list-inline>\n",
       "\t<li>0</li>\n",
       "\t<li>2</li>\n",
       "\t<li>4</li>\n",
       "\t<li>6</li>\n",
       "\t<li>0</li>\n",
       "\t<li>2</li>\n",
       "\t<li>4</li>\n",
       "\t<li>6</li>\n",
       "\t<li>4</li>\n",
       "\t<li>3</li>\n",
       "\t<li>2</li>\n",
       "\t<li>1</li>\n",
       "</ol>\n"
      ],
      "text/latex": [
       "\\begin{enumerate*}\n",
       "\\item 0\n",
       "\\item 2\n",
       "\\item 4\n",
       "\\item 6\n",
       "\\item 0\n",
       "\\item 2\n",
       "\\item 4\n",
       "\\item 6\n",
       "\\item 4\n",
       "\\item 3\n",
       "\\item 2\n",
       "\\item 1\n",
       "\\end{enumerate*}\n"
      ],
      "text/markdown": [
       "1. 0\n",
       "2. 2\n",
       "3. 4\n",
       "4. 6\n",
       "5. 0\n",
       "6. 2\n",
       "7. 4\n",
       "8. 6\n",
       "9. 4\n",
       "10. 3\n",
       "11. 2\n",
       "12. 1\n",
       "\n",
       "\n"
      ],
      "text/plain": [
       " [1] 0 2 4 6 0 2 4 6 4 3 2 1"
      ]
     },
     "metadata": {},
     "output_type": "display_data"
    }
   ],
   "source": [
    "rep(c(\"blue\", \"red\"), 3)\n",
    "c(rep(seq(0, 6, 2), 2), 4:1) "
   ]
  },
  {
   "cell_type": "markdown",
   "metadata": {},
   "source": [
    "The second example is somewhat hard to follow, and is probably at the\n",
    "limit of complexity in terms of how many functions we want to combine. Separating\n",
    "a task into multiple lines of codes can help."
   ]
  },
  {
   "cell_type": "code",
   "execution_count": 5,
   "metadata": {},
   "outputs": [
    {
     "data": {
      "text/html": [
       "<ol class=list-inline>\n",
       "\t<li>0</li>\n",
       "\t<li>2</li>\n",
       "\t<li>4</li>\n",
       "\t<li>6</li>\n",
       "\t<li>0</li>\n",
       "\t<li>2</li>\n",
       "\t<li>4</li>\n",
       "\t<li>6</li>\n",
       "\t<li>4</li>\n",
       "\t<li>3</li>\n",
       "\t<li>2</li>\n",
       "\t<li>1</li>\n",
       "</ol>\n"
      ],
      "text/latex": [
       "\\begin{enumerate*}\n",
       "\\item 0\n",
       "\\item 2\n",
       "\\item 4\n",
       "\\item 6\n",
       "\\item 0\n",
       "\\item 2\n",
       "\\item 4\n",
       "\\item 6\n",
       "\\item 4\n",
       "\\item 3\n",
       "\\item 2\n",
       "\\item 1\n",
       "\\end{enumerate*}\n"
      ],
      "text/markdown": [
       "1. 0\n",
       "2. 2\n",
       "3. 4\n",
       "4. 6\n",
       "5. 0\n",
       "6. 2\n",
       "7. 4\n",
       "8. 6\n",
       "9. 4\n",
       "10. 3\n",
       "11. 2\n",
       "12. 1\n",
       "\n",
       "\n"
      ],
      "text/plain": [
       " [1] 0 2 4 6 0 2 4 6 4 3 2 1"
      ]
     },
     "metadata": {},
     "output_type": "display_data"
    }
   ],
   "source": [
    "s <- rep(seq(0, 6, 2), 2)\n",
    "c(s, 4:1)"
   ]
  },
  {
   "cell_type": "markdown",
   "metadata": {},
   "source": [
    "Subsetting vectors\n",
    "======================\n",
    "\n",
    "Extracting a subset of elements from a vector is an extremely\n",
    "important task, not least because it generalizes nicely to datasets\n",
    "(which are at the heart of data science). This process --- whether\n",
    "applied to a vector or a dataset --- is often referred to as \"taking a\n",
    "subset\", \"subsetting\", or \"filtering\". If there is one skill you need\n",
    "to master as quickly as possible, it's this.\n",
    "\n",
    "In R, there are three ways to filter a vector: using a separate\n",
    "logical vector, using indexing, and using names. I tend to use the\n",
    "first method most, but all three are useful.\n",
    "\n",
    "Subsetting with logicals \n",
    "---------------------\n",
    "\n",
    "Let's jump right into an example. Say we have a character vector\n",
    "with only two elements (\"apple\" and \"banana\"). Subsetting it to\n",
    "\"apple\" could be done like so:"
   ]
  },
  {
   "cell_type": "code",
   "execution_count": 6,
   "metadata": {},
   "outputs": [
    {
     "data": {
      "text/html": [
       "'apple'"
      ],
      "text/latex": [
       "'apple'"
      ],
      "text/markdown": [
       "'apple'"
      ],
      "text/plain": [
       "[1] \"apple\""
      ]
     },
     "metadata": {},
     "output_type": "display_data"
    }
   ],
   "source": [
    "fruits <- c(\"apple\", \"banana\")\n",
    "fruits[c(TRUE, FALSE)]"
   ]
  },
  {
   "cell_type": "markdown",
   "metadata": {},
   "source": [
    "Note the use of brackets, `[]` --- this is common when filtering.\n",
    "Within these brackets is a vector with the same number of logical\n",
    "elements as there are elements in the vector you want to\n",
    "subset. Elements across the two vectors are matched by order: elements\n",
    "that match with `TRUE` are kept while elements that match with `FALSE`\n",
    "are dropped.\n",
    "\n",
    "This process is extremely useful when combined with a *logical\n",
    "operation*.  Please familiarize yourself with the logical operations\n",
    "listed [here](http://www.statmethods.net/management/operators.html).\n",
    "For example, using a logical operation we can filter a large vector of\n",
    "oranges, apples and bananas:"
   ]
  },
  {
   "cell_type": "code",
   "execution_count": 7,
   "metadata": {},
   "outputs": [
    {
     "data": {
      "text/html": [
       "<ol class=list-inline>\n",
       "\t<li>'orange'</li>\n",
       "\t<li>'apple'</li>\n",
       "\t<li>'banana'</li>\n",
       "\t<li>'orange'</li>\n",
       "\t<li>'apple'</li>\n",
       "\t<li>'banana'</li>\n",
       "\t<li>'orange'</li>\n",
       "\t<li>'apple'</li>\n",
       "\t<li>'banana'</li>\n",
       "\t<li>'orange'</li>\n",
       "\t<li>'apple'</li>\n",
       "\t<li>'banana'</li>\n",
       "\t<li>'orange'</li>\n",
       "\t<li>'apple'</li>\n",
       "\t<li>'banana'</li>\n",
       "\t<li>'orange'</li>\n",
       "\t<li>'apple'</li>\n",
       "\t<li>'banana'</li>\n",
       "\t<li>'orange'</li>\n",
       "\t<li>'apple'</li>\n",
       "\t<li>'banana'</li>\n",
       "\t<li>'orange'</li>\n",
       "\t<li>'apple'</li>\n",
       "\t<li>'banana'</li>\n",
       "\t<li>'orange'</li>\n",
       "\t<li>'apple'</li>\n",
       "\t<li>'banana'</li>\n",
       "\t<li>'orange'</li>\n",
       "\t<li>'apple'</li>\n",
       "\t<li>'banana'</li>\n",
       "</ol>\n"
      ],
      "text/latex": [
       "\\begin{enumerate*}\n",
       "\\item 'orange'\n",
       "\\item 'apple'\n",
       "\\item 'banana'\n",
       "\\item 'orange'\n",
       "\\item 'apple'\n",
       "\\item 'banana'\n",
       "\\item 'orange'\n",
       "\\item 'apple'\n",
       "\\item 'banana'\n",
       "\\item 'orange'\n",
       "\\item 'apple'\n",
       "\\item 'banana'\n",
       "\\item 'orange'\n",
       "\\item 'apple'\n",
       "\\item 'banana'\n",
       "\\item 'orange'\n",
       "\\item 'apple'\n",
       "\\item 'banana'\n",
       "\\item 'orange'\n",
       "\\item 'apple'\n",
       "\\item 'banana'\n",
       "\\item 'orange'\n",
       "\\item 'apple'\n",
       "\\item 'banana'\n",
       "\\item 'orange'\n",
       "\\item 'apple'\n",
       "\\item 'banana'\n",
       "\\item 'orange'\n",
       "\\item 'apple'\n",
       "\\item 'banana'\n",
       "\\end{enumerate*}\n"
      ],
      "text/markdown": [
       "1. 'orange'\n",
       "2. 'apple'\n",
       "3. 'banana'\n",
       "4. 'orange'\n",
       "5. 'apple'\n",
       "6. 'banana'\n",
       "7. 'orange'\n",
       "8. 'apple'\n",
       "9. 'banana'\n",
       "10. 'orange'\n",
       "11. 'apple'\n",
       "12. 'banana'\n",
       "13. 'orange'\n",
       "14. 'apple'\n",
       "15. 'banana'\n",
       "16. 'orange'\n",
       "17. 'apple'\n",
       "18. 'banana'\n",
       "19. 'orange'\n",
       "20. 'apple'\n",
       "21. 'banana'\n",
       "22. 'orange'\n",
       "23. 'apple'\n",
       "24. 'banana'\n",
       "25. 'orange'\n",
       "26. 'apple'\n",
       "27. 'banana'\n",
       "28. 'orange'\n",
       "29. 'apple'\n",
       "30. 'banana'\n",
       "\n",
       "\n"
      ],
      "text/plain": [
       " [1] \"orange\" \"apple\"  \"banana\" \"orange\" \"apple\"  \"banana\" \"orange\" \"apple\" \n",
       " [9] \"banana\" \"orange\" \"apple\"  \"banana\" \"orange\" \"apple\"  \"banana\" \"orange\"\n",
       "[17] \"apple\"  \"banana\" \"orange\" \"apple\"  \"banana\" \"orange\" \"apple\"  \"banana\"\n",
       "[25] \"orange\" \"apple\"  \"banana\" \"orange\" \"apple\"  \"banana\""
      ]
     },
     "metadata": {},
     "output_type": "display_data"
    },
    {
     "data": {
      "text/html": [
       "<ol class=list-inline>\n",
       "\t<li>TRUE</li>\n",
       "\t<li>TRUE</li>\n",
       "\t<li>FALSE</li>\n",
       "\t<li>TRUE</li>\n",
       "\t<li>TRUE</li>\n",
       "\t<li>FALSE</li>\n",
       "\t<li>TRUE</li>\n",
       "\t<li>TRUE</li>\n",
       "\t<li>FALSE</li>\n",
       "\t<li>TRUE</li>\n",
       "\t<li>TRUE</li>\n",
       "\t<li>FALSE</li>\n",
       "\t<li>TRUE</li>\n",
       "\t<li>TRUE</li>\n",
       "\t<li>FALSE</li>\n",
       "\t<li>TRUE</li>\n",
       "\t<li>TRUE</li>\n",
       "\t<li>FALSE</li>\n",
       "\t<li>TRUE</li>\n",
       "\t<li>TRUE</li>\n",
       "\t<li>FALSE</li>\n",
       "\t<li>TRUE</li>\n",
       "\t<li>TRUE</li>\n",
       "\t<li>FALSE</li>\n",
       "\t<li>TRUE</li>\n",
       "\t<li>TRUE</li>\n",
       "\t<li>FALSE</li>\n",
       "\t<li>TRUE</li>\n",
       "\t<li>TRUE</li>\n",
       "\t<li>FALSE</li>\n",
       "</ol>\n"
      ],
      "text/latex": [
       "\\begin{enumerate*}\n",
       "\\item TRUE\n",
       "\\item TRUE\n",
       "\\item FALSE\n",
       "\\item TRUE\n",
       "\\item TRUE\n",
       "\\item FALSE\n",
       "\\item TRUE\n",
       "\\item TRUE\n",
       "\\item FALSE\n",
       "\\item TRUE\n",
       "\\item TRUE\n",
       "\\item FALSE\n",
       "\\item TRUE\n",
       "\\item TRUE\n",
       "\\item FALSE\n",
       "\\item TRUE\n",
       "\\item TRUE\n",
       "\\item FALSE\n",
       "\\item TRUE\n",
       "\\item TRUE\n",
       "\\item FALSE\n",
       "\\item TRUE\n",
       "\\item TRUE\n",
       "\\item FALSE\n",
       "\\item TRUE\n",
       "\\item TRUE\n",
       "\\item FALSE\n",
       "\\item TRUE\n",
       "\\item TRUE\n",
       "\\item FALSE\n",
       "\\end{enumerate*}\n"
      ],
      "text/markdown": [
       "1. TRUE\n",
       "2. TRUE\n",
       "3. FALSE\n",
       "4. TRUE\n",
       "5. TRUE\n",
       "6. FALSE\n",
       "7. TRUE\n",
       "8. TRUE\n",
       "9. FALSE\n",
       "10. TRUE\n",
       "11. TRUE\n",
       "12. FALSE\n",
       "13. TRUE\n",
       "14. TRUE\n",
       "15. FALSE\n",
       "16. TRUE\n",
       "17. TRUE\n",
       "18. FALSE\n",
       "19. TRUE\n",
       "20. TRUE\n",
       "21. FALSE\n",
       "22. TRUE\n",
       "23. TRUE\n",
       "24. FALSE\n",
       "25. TRUE\n",
       "26. TRUE\n",
       "27. FALSE\n",
       "28. TRUE\n",
       "29. TRUE\n",
       "30. FALSE\n",
       "\n",
       "\n"
      ],
      "text/plain": [
       " [1]  TRUE  TRUE FALSE  TRUE  TRUE FALSE  TRUE  TRUE FALSE  TRUE  TRUE FALSE\n",
       "[13]  TRUE  TRUE FALSE  TRUE  TRUE FALSE  TRUE  TRUE FALSE  TRUE  TRUE FALSE\n",
       "[25]  TRUE  TRUE FALSE  TRUE  TRUE FALSE"
      ]
     },
     "metadata": {},
     "output_type": "display_data"
    },
    {
     "data": {
      "text/html": [
       "<ol class=list-inline>\n",
       "\t<li>'orange'</li>\n",
       "\t<li>'apple'</li>\n",
       "\t<li>'orange'</li>\n",
       "\t<li>'apple'</li>\n",
       "\t<li>'orange'</li>\n",
       "\t<li>'apple'</li>\n",
       "\t<li>'orange'</li>\n",
       "\t<li>'apple'</li>\n",
       "\t<li>'orange'</li>\n",
       "\t<li>'apple'</li>\n",
       "\t<li>'orange'</li>\n",
       "\t<li>'apple'</li>\n",
       "\t<li>'orange'</li>\n",
       "\t<li>'apple'</li>\n",
       "\t<li>'orange'</li>\n",
       "\t<li>'apple'</li>\n",
       "\t<li>'orange'</li>\n",
       "\t<li>'apple'</li>\n",
       "\t<li>'orange'</li>\n",
       "\t<li>'apple'</li>\n",
       "</ol>\n"
      ],
      "text/latex": [
       "\\begin{enumerate*}\n",
       "\\item 'orange'\n",
       "\\item 'apple'\n",
       "\\item 'orange'\n",
       "\\item 'apple'\n",
       "\\item 'orange'\n",
       "\\item 'apple'\n",
       "\\item 'orange'\n",
       "\\item 'apple'\n",
       "\\item 'orange'\n",
       "\\item 'apple'\n",
       "\\item 'orange'\n",
       "\\item 'apple'\n",
       "\\item 'orange'\n",
       "\\item 'apple'\n",
       "\\item 'orange'\n",
       "\\item 'apple'\n",
       "\\item 'orange'\n",
       "\\item 'apple'\n",
       "\\item 'orange'\n",
       "\\item 'apple'\n",
       "\\end{enumerate*}\n"
      ],
      "text/markdown": [
       "1. 'orange'\n",
       "2. 'apple'\n",
       "3. 'orange'\n",
       "4. 'apple'\n",
       "5. 'orange'\n",
       "6. 'apple'\n",
       "7. 'orange'\n",
       "8. 'apple'\n",
       "9. 'orange'\n",
       "10. 'apple'\n",
       "11. 'orange'\n",
       "12. 'apple'\n",
       "13. 'orange'\n",
       "14. 'apple'\n",
       "15. 'orange'\n",
       "16. 'apple'\n",
       "17. 'orange'\n",
       "18. 'apple'\n",
       "19. 'orange'\n",
       "20. 'apple'\n",
       "\n",
       "\n"
      ],
      "text/plain": [
       " [1] \"orange\" \"apple\"  \"orange\" \"apple\"  \"orange\" \"apple\"  \"orange\" \"apple\" \n",
       " [9] \"orange\" \"apple\"  \"orange\" \"apple\"  \"orange\" \"apple\"  \"orange\" \"apple\" \n",
       "[17] \"orange\" \"apple\"  \"orange\" \"apple\" "
      ]
     },
     "metadata": {},
     "output_type": "display_data"
    }
   ],
   "source": [
    "# Create a vector with 30 fruits \n",
    "fruits <- rep(c(\"orange\", \"apple\", \"banana\"), 10)\n",
    "fruits \n",
    "\n",
    "# Create a logical vector for dropping bananas\n",
    "# Note: I'm creating the exact same logical vector three times (overriding it each time)\n",
    "# This is for illustrative purposes; using one of these is sufficient\n",
    "lv <- fruits == \"orange\" | fruits == \"apple\" \n",
    "lv <- fruits != \"banana\" \n",
    "lv <- fruits %in% c(\"orange\", \"apple\")\n",
    "lv\n",
    "\n",
    "# Carry out the subset\n",
    "fruits[lv]"
   ]
  },
  {
   "cell_type": "markdown",
   "metadata": {},
   "source": [
    "We applied the same logic as above: We have a vector (`fruits`) that\n",
    "we want to subset. We do so using a logical vector (`lv`), where\n",
    "elements that match with `TRUE` are kept. The only difference here is\n",
    "that we create the logical vector with a logical operation. The logical\n",
    "operators (e.g., `!=`, `|`) used here are discussed in the link above,\n",
    "with the exception of `%in%`. \n",
    "\n",
    "<div class=\"general-note\">\n",
    "\n",
    "<strong> General note about `%in%`: </strong> This operator is\n",
    "extremely useful as an alternative for repeated \"or\" (`|`) statements.\n",
    "For example, say you have a vector with 10 types of fruits and you\n",
    "want to keep elements that are equal to \"orange\", \"apple\", \"mango\",\n",
    "\"mandarin\", or \"kiwi\". You could accomplish this by creating a logical\n",
    "vector like so: `lv <- fruits == \"orange\" | fruits == \"apple\" | fruits\n",
    "== \"mango\" | fruits == \"mandarin\" | fruits == \"kiwi\"`.  <br> What a\n",
    "nighmarishly long statement compared to the `%in%` option that\n",
    "accomplishes the exact same thing: `lv <- fruits %in% c(\"orange\",\n",
    "\"apple\", \"mango\", \"mandarin\", \"kiwi\")`.\n",
    "\n",
    "</div>\n",
    "\n",
    "Of course, subsetting using logicals can also be done on numeric vectors.\n",
    "Here are a few examples:"
   ]
  },
  {
   "cell_type": "code",
   "execution_count": 8,
   "metadata": {},
   "outputs": [
    {
     "data": {
      "text/html": [
       "<ol class=list-inline>\n",
       "\t<li>0</li>\n",
       "\t<li>10</li>\n",
       "\t<li>20</li>\n",
       "\t<li>30</li>\n",
       "\t<li>40</li>\n",
       "\t<li>50</li>\n",
       "\t<li>60</li>\n",
       "\t<li>70</li>\n",
       "\t<li>80</li>\n",
       "\t<li>90</li>\n",
       "\t<li>100</li>\n",
       "</ol>\n"
      ],
      "text/latex": [
       "\\begin{enumerate*}\n",
       "\\item 0\n",
       "\\item 10\n",
       "\\item 20\n",
       "\\item 30\n",
       "\\item 40\n",
       "\\item 50\n",
       "\\item 60\n",
       "\\item 70\n",
       "\\item 80\n",
       "\\item 90\n",
       "\\item 100\n",
       "\\end{enumerate*}\n"
      ],
      "text/markdown": [
       "1. 0\n",
       "2. 10\n",
       "3. 20\n",
       "4. 30\n",
       "5. 40\n",
       "6. 50\n",
       "7. 60\n",
       "8. 70\n",
       "9. 80\n",
       "10. 90\n",
       "11. 100\n",
       "\n",
       "\n"
      ],
      "text/plain": [
       " [1]   0  10  20  30  40  50  60  70  80  90 100"
      ]
     },
     "metadata": {},
     "output_type": "display_data"
    },
    {
     "data": {
      "text/html": [
       "<ol class=list-inline>\n",
       "\t<li>0</li>\n",
       "\t<li>10</li>\n",
       "\t<li>20</li>\n",
       "\t<li>40</li>\n",
       "\t<li>50</li>\n",
       "</ol>\n"
      ],
      "text/latex": [
       "\\begin{enumerate*}\n",
       "\\item 0\n",
       "\\item 10\n",
       "\\item 20\n",
       "\\item 40\n",
       "\\item 50\n",
       "\\end{enumerate*}\n"
      ],
      "text/markdown": [
       "1. 0\n",
       "2. 10\n",
       "3. 20\n",
       "4. 40\n",
       "5. 50\n",
       "\n",
       "\n"
      ],
      "text/plain": [
       "[1]  0 10 20 40 50"
      ]
     },
     "metadata": {},
     "output_type": "display_data"
    },
    {
     "data": {
      "text/html": [
       "<ol class=list-inline>\n",
       "\t<li>0</li>\n",
       "\t<li>100</li>\n",
       "</ol>\n"
      ],
      "text/latex": [
       "\\begin{enumerate*}\n",
       "\\item 0\n",
       "\\item 100\n",
       "\\end{enumerate*}\n"
      ],
      "text/markdown": [
       "1. 0\n",
       "2. 100\n",
       "\n",
       "\n"
      ],
      "text/plain": [
       "[1]   0 100"
      ]
     },
     "metadata": {},
     "output_type": "display_data"
    },
    {
     "data": {
      "text/html": [],
      "text/latex": [],
      "text/markdown": [],
      "text/plain": [
       "numeric(0)"
      ]
     },
     "metadata": {},
     "output_type": "display_data"
    }
   ],
   "source": [
    "# Create a numeric vector\n",
    "numbers <- seq(0, 100, by = 10)\n",
    "numbers\n",
    "\n",
    "# Illustrate three different filters\n",
    "numbers[numbers <= 50 & numbers != 30]\n",
    "numbers[numbers == 0 | numbers == 100]\n",
    "numbers[numbers > 100] #returns an empty vector"
   ]
  },
  {
   "cell_type": "markdown",
   "metadata": {},
   "source": [
    "Note that I didn't create logical objects to carry out the subsets here,\n",
    "as opposed to above where we explicitly defined `lv`. I find it more\n",
    "compact and intuitive to take subsets without first creating a logical\n",
    "vector.\n",
    "\n",
    "\n",
    "Subsetting using indexing\n",
    "---------------------\n",
    "\n",
    "A different way to subset a vector is to specify the index or indeces\n",
    "you want to keep, again using brackets. Here are a few examples:"
   ]
  },
  {
   "cell_type": "code",
   "execution_count": 9,
   "metadata": {},
   "outputs": [
    {
     "data": {
      "text/html": [
       "'apple'"
      ],
      "text/latex": [
       "'apple'"
      ],
      "text/markdown": [
       "'apple'"
      ],
      "text/plain": [
       "[1] \"apple\""
      ]
     },
     "metadata": {},
     "output_type": "display_data"
    },
    {
     "data": {
      "text/html": [
       "<ol class=list-inline>\n",
       "\t<li>'orange'</li>\n",
       "\t<li>'apple'</li>\n",
       "</ol>\n"
      ],
      "text/latex": [
       "\\begin{enumerate*}\n",
       "\\item 'orange'\n",
       "\\item 'apple'\n",
       "\\end{enumerate*}\n"
      ],
      "text/markdown": [
       "1. 'orange'\n",
       "2. 'apple'\n",
       "\n",
       "\n"
      ],
      "text/plain": [
       "[1] \"orange\" \"apple\" "
      ]
     },
     "metadata": {},
     "output_type": "display_data"
    },
    {
     "data": {
      "text/html": [
       "<ol class=list-inline>\n",
       "\t<li>'orange'</li>\n",
       "\t<li>'banana'</li>\n",
       "\t<li>'apple'</li>\n",
       "\t<li>'orange'</li>\n",
       "\t<li>'banana'</li>\n",
       "\t<li>'apple'</li>\n",
       "</ol>\n"
      ],
      "text/latex": [
       "\\begin{enumerate*}\n",
       "\\item 'orange'\n",
       "\\item 'banana'\n",
       "\\item 'apple'\n",
       "\\item 'orange'\n",
       "\\item 'banana'\n",
       "\\item 'apple'\n",
       "\\end{enumerate*}\n"
      ],
      "text/markdown": [
       "1. 'orange'\n",
       "2. 'banana'\n",
       "3. 'apple'\n",
       "4. 'orange'\n",
       "5. 'banana'\n",
       "6. 'apple'\n",
       "\n",
       "\n"
      ],
      "text/plain": [
       "[1] \"orange\" \"banana\" \"apple\"  \"orange\" \"banana\" \"apple\" "
      ]
     },
     "metadata": {},
     "output_type": "display_data"
    }
   ],
   "source": [
    "fruits <- c(\"apple\", \"banana\")\n",
    "fruits[1]\n",
    "fruits <- rep(c(\"orange\", \"apple\", \"banana\"), 10)\n",
    "fruits[c(10, 20)]\n",
    "fruits[seq(1, 30, by = 5)]"
   ]
  },
  {
   "cell_type": "markdown",
   "metadata": {},
   "source": [
    "I sometimes use this when I want to inspect or modify an\n",
    "element that I know occurs at a specific index in the vector, a more\n",
    "manual approach than using logical statements. \n",
    "\n",
    "Subsetting using indexing can also be used in *random sampling*,\n",
    "which has many important applications --- for example, in experiments\n",
    "and when you want to test-run code on a representative subset of your\n",
    "data. So, let's introduce the `sample()` function:"
   ]
  },
  {
   "cell_type": "code",
   "execution_count": 10,
   "metadata": {},
   "outputs": [
    {
     "data": {
      "text/html": [
       "<ol class=list-inline>\n",
       "\t<li>79</li>\n",
       "\t<li>12</li>\n",
       "\t<li>66</li>\n",
       "\t<li>68</li>\n",
       "\t<li>63</li>\n",
       "\t<li>30</li>\n",
       "\t<li>97</li>\n",
       "\t<li>94</li>\n",
       "\t<li>88</li>\n",
       "\t<li>43</li>\n",
       "</ol>\n"
      ],
      "text/latex": [
       "\\begin{enumerate*}\n",
       "\\item 79\n",
       "\\item 12\n",
       "\\item 66\n",
       "\\item 68\n",
       "\\item 63\n",
       "\\item 30\n",
       "\\item 97\n",
       "\\item 94\n",
       "\\item 88\n",
       "\\item 43\n",
       "\\end{enumerate*}\n"
      ],
      "text/markdown": [
       "1. 79\n",
       "2. 12\n",
       "3. 66\n",
       "4. 68\n",
       "5. 63\n",
       "6. 30\n",
       "7. 97\n",
       "8. 94\n",
       "9. 88\n",
       "10. 43\n",
       "\n",
       "\n"
      ],
      "text/plain": [
       " [1] 79 12 66 68 63 30 97 94 88 43"
      ]
     },
     "metadata": {},
     "output_type": "display_data"
    }
   ],
   "source": [
    "# Draw 10 elements at random from 1 to 100 \n",
    "sample(1:100, size = 10)"
   ]
  },
  {
   "cell_type": "markdown",
   "metadata": {},
   "source": [
    "The function takes a vector of values (often successive integer\n",
    "values) and an argument that specifies how many values to draw at\n",
    "random from this vector.  We can use the resulting values as\n",
    "indeces to subset another vector:"
   ]
  },
  {
   "cell_type": "code",
   "execution_count": 11,
   "metadata": {},
   "outputs": [
    {
     "data": {
      "text/html": [
       "<ol class=list-inline>\n",
       "\t<li>'banana'</li>\n",
       "\t<li>'apple'</li>\n",
       "\t<li>'apple'</li>\n",
       "\t<li>'orange'</li>\n",
       "\t<li>'apple'</li>\n",
       "</ol>\n"
      ],
      "text/latex": [
       "\\begin{enumerate*}\n",
       "\\item 'banana'\n",
       "\\item 'apple'\n",
       "\\item 'apple'\n",
       "\\item 'orange'\n",
       "\\item 'apple'\n",
       "\\end{enumerate*}\n"
      ],
      "text/markdown": [
       "1. 'banana'\n",
       "2. 'apple'\n",
       "3. 'apple'\n",
       "4. 'orange'\n",
       "5. 'apple'\n",
       "\n",
       "\n"
      ],
      "text/plain": [
       "[1] \"banana\" \"apple\"  \"apple\"  \"orange\" \"apple\" "
      ]
     },
     "metadata": {},
     "output_type": "display_data"
    }
   ],
   "source": [
    "fruits <- rep(c(\"orange\", \"apple\", \"banana\"), 10)\n",
    "fruits[sample(1:30, size = 5)]"
   ]
  },
  {
   "cell_type": "markdown",
   "metadata": {},
   "source": [
    "Here, we're drawing a random sample of five elements from the vector\n",
    "`fruits`.  Why did I specify `1:30`? Well, `fruits` consists of 30\n",
    "elements, so specifying something like `1:100` likely would have\n",
    "resulted in sampled values outside the bounds of the vector (e.g.,\n",
    "`fruits[35]` doesn't exist).  Specifying `1:30` gives every element in\n",
    "`fruits` an equal chance of being included in the sample.\n",
    "\n",
    "Subsetting using names\n",
    "---------------------\n",
    "\n",
    "Lastly, we can assign names to each element in a vector and take a\n",
    "subset based on the names."
   ]
  },
  {
   "cell_type": "code",
   "execution_count": 12,
   "metadata": {},
   "outputs": [
    {
     "data": {
      "text/html": [
       "<dl class=dl-horizontal>\n",
       "\t<dt>mom</dt>\n",
       "\t\t<dd>50</dd>\n",
       "\t<dt>dad</dt>\n",
       "\t\t<dd>55</dd>\n",
       "\t<dt>grandpa</dt>\n",
       "\t\t<dd>80</dd>\n",
       "</dl>\n"
      ],
      "text/latex": [
       "\\begin{description*}\n",
       "\\item[mom] 50\n",
       "\\item[dad] 55\n",
       "\\item[grandpa] 80\n",
       "\\end{description*}\n"
      ],
      "text/markdown": [
       "mom\n",
       ":   50dad\n",
       ":   55grandpa\n",
       ":   80\n",
       "\n"
      ],
      "text/plain": [
       "    mom     dad grandpa \n",
       "     50      55      80 "
      ]
     },
     "metadata": {},
     "output_type": "display_data"
    },
    {
     "data": {
      "text/html": [
       "<dl class=dl-horizontal>\n",
       "\t<dt>dad</dt>\n",
       "\t\t<dd>55</dd>\n",
       "\t<dt>grandpa</dt>\n",
       "\t\t<dd>80</dd>\n",
       "</dl>\n"
      ],
      "text/latex": [
       "\\begin{description*}\n",
       "\\item[dad] 55\n",
       "\\item[grandpa] 80\n",
       "\\end{description*}\n"
      ],
      "text/markdown": [
       "dad\n",
       ":   55grandpa\n",
       ":   80\n",
       "\n"
      ],
      "text/plain": [
       "    dad grandpa \n",
       "     55      80 "
      ]
     },
     "metadata": {},
     "output_type": "display_data"
    }
   ],
   "source": [
    "age <- c(50, 55, 80)\n",
    "names(age) <- c(\"mom\", \"dad\", \"grandpa\")\n",
    "age #note that values now have names \n",
    "age[c(\"dad\", \"grandpa\")] #subset"
   ]
  },
  {
   "cell_type": "markdown",
   "metadata": {},
   "source": [
    "That is, we have a vector representing the age of three family\n",
    "members.  We assign names to each value, and then keep the values\n",
    "associated with two of the family members.\n",
    "\n",
    "\n",
    "Modifying vectors\n",
    "=====================\n",
    "\n",
    "The subsetting logic from above can be used to modify vectors. The\n",
    "idea here is that instead of keeping elements that meet a logical\n",
    "condition or occur at a specific index, we can change them. For example,\n",
    "what if we had mis-entered grandpa's age above? We can fix it using indexing,\n",
    "a logical statement, or naming."
   ]
  },
  {
   "cell_type": "code",
   "execution_count": 13,
   "metadata": {},
   "outputs": [
    {
     "data": {
      "text/html": [
       "<dl class=dl-horizontal>\n",
       "\t<dt>mom</dt>\n",
       "\t\t<dd>50</dd>\n",
       "\t<dt>dad</dt>\n",
       "\t\t<dd>55</dd>\n",
       "\t<dt>grandpa</dt>\n",
       "\t\t<dd>82</dd>\n",
       "</dl>\n"
      ],
      "text/latex": [
       "\\begin{description*}\n",
       "\\item[mom] 50\n",
       "\\item[dad] 55\n",
       "\\item[grandpa] 82\n",
       "\\end{description*}\n"
      ],
      "text/markdown": [
       "mom\n",
       ":   50dad\n",
       ":   55grandpa\n",
       ":   82\n",
       "\n"
      ],
      "text/plain": [
       "    mom     dad grandpa \n",
       "     50      55      82 "
      ]
     },
     "metadata": {},
     "output_type": "display_data"
    }
   ],
   "source": [
    "# Recreate vector with age values from above\n",
    "age <- c(50, 55, 80)\n",
    "names(age) <- c(\"mom\", \"dad\", \"grandpa\")\n",
    "\n",
    "# Three ways of changing grandpa's age\n",
    "# Note: you'd only need to use one of these\n",
    "age[age == 80] <- 82 #using a logical statement\n",
    "age[3] <- 82 #using indexing\n",
    "age[\"grandpa\"] <- 82 #using naming\n",
    "age"
   ]
  },
  {
   "cell_type": "markdown",
   "metadata": {},
   "source": [
    "A logical statement is most efficient when we need to change a lot\n",
    "of elements."
   ]
  },
  {
   "cell_type": "code",
   "execution_count": 14,
   "metadata": {},
   "outputs": [
    {
     "data": {
      "text/html": [
       "<ol class=list-inline>\n",
       "\t<li>'orange'</li>\n",
       "\t<li>'apple'</li>\n",
       "\t<li>'bamama'</li>\n",
       "\t<li>'orange'</li>\n",
       "\t<li>'apple'</li>\n",
       "\t<li>'bamama'</li>\n",
       "\t<li>'orange'</li>\n",
       "\t<li>'apple'</li>\n",
       "\t<li>'bamama'</li>\n",
       "\t<li>'orange'</li>\n",
       "\t<li>'apple'</li>\n",
       "\t<li>'bamama'</li>\n",
       "\t<li>'orange'</li>\n",
       "\t<li>'apple'</li>\n",
       "\t<li>'bamama'</li>\n",
       "</ol>\n"
      ],
      "text/latex": [
       "\\begin{enumerate*}\n",
       "\\item 'orange'\n",
       "\\item 'apple'\n",
       "\\item 'bamama'\n",
       "\\item 'orange'\n",
       "\\item 'apple'\n",
       "\\item 'bamama'\n",
       "\\item 'orange'\n",
       "\\item 'apple'\n",
       "\\item 'bamama'\n",
       "\\item 'orange'\n",
       "\\item 'apple'\n",
       "\\item 'bamama'\n",
       "\\item 'orange'\n",
       "\\item 'apple'\n",
       "\\item 'bamama'\n",
       "\\end{enumerate*}\n"
      ],
      "text/markdown": [
       "1. 'orange'\n",
       "2. 'apple'\n",
       "3. 'bamama'\n",
       "4. 'orange'\n",
       "5. 'apple'\n",
       "6. 'bamama'\n",
       "7. 'orange'\n",
       "8. 'apple'\n",
       "9. 'bamama'\n",
       "10. 'orange'\n",
       "11. 'apple'\n",
       "12. 'bamama'\n",
       "13. 'orange'\n",
       "14. 'apple'\n",
       "15. 'bamama'\n",
       "\n",
       "\n"
      ],
      "text/plain": [
       " [1] \"orange\" \"apple\"  \"bamama\" \"orange\" \"apple\"  \"bamama\" \"orange\" \"apple\" \n",
       " [9] \"bamama\" \"orange\" \"apple\"  \"bamama\" \"orange\" \"apple\"  \"bamama\""
      ]
     },
     "metadata": {},
     "output_type": "display_data"
    },
    {
     "data": {
      "text/html": [
       "<ol class=list-inline>\n",
       "\t<li>'orange'</li>\n",
       "\t<li>'apple'</li>\n",
       "\t<li>'banana'</li>\n",
       "\t<li>'orange'</li>\n",
       "\t<li>'apple'</li>\n",
       "\t<li>'banana'</li>\n",
       "\t<li>'orange'</li>\n",
       "\t<li>'apple'</li>\n",
       "\t<li>'banana'</li>\n",
       "\t<li>'orange'</li>\n",
       "\t<li>'apple'</li>\n",
       "\t<li>'banana'</li>\n",
       "\t<li>'orange'</li>\n",
       "\t<li>'apple'</li>\n",
       "\t<li>'banana'</li>\n",
       "</ol>\n"
      ],
      "text/latex": [
       "\\begin{enumerate*}\n",
       "\\item 'orange'\n",
       "\\item 'apple'\n",
       "\\item 'banana'\n",
       "\\item 'orange'\n",
       "\\item 'apple'\n",
       "\\item 'banana'\n",
       "\\item 'orange'\n",
       "\\item 'apple'\n",
       "\\item 'banana'\n",
       "\\item 'orange'\n",
       "\\item 'apple'\n",
       "\\item 'banana'\n",
       "\\item 'orange'\n",
       "\\item 'apple'\n",
       "\\item 'banana'\n",
       "\\end{enumerate*}\n"
      ],
      "text/markdown": [
       "1. 'orange'\n",
       "2. 'apple'\n",
       "3. 'banana'\n",
       "4. 'orange'\n",
       "5. 'apple'\n",
       "6. 'banana'\n",
       "7. 'orange'\n",
       "8. 'apple'\n",
       "9. 'banana'\n",
       "10. 'orange'\n",
       "11. 'apple'\n",
       "12. 'banana'\n",
       "13. 'orange'\n",
       "14. 'apple'\n",
       "15. 'banana'\n",
       "\n",
       "\n"
      ],
      "text/plain": [
       " [1] \"orange\" \"apple\"  \"banana\" \"orange\" \"apple\"  \"banana\" \"orange\" \"apple\" \n",
       " [9] \"banana\" \"orange\" \"apple\"  \"banana\" \"orange\" \"apple\"  \"banana\""
      ]
     },
     "metadata": {},
     "output_type": "display_data"
    }
   ],
   "source": [
    "fruits <- rep(c(\"orange\", \"apple\", \"bamama\"), 5) \n",
    "fruits #bamamas anyone? \n",
    "\n",
    "# Let's fix the misspelled element\n",
    "fruits[fruits == \"bamama\"] <- \"banana\"\n",
    "fruits"
   ]
  },
  {
   "cell_type": "markdown",
   "metadata": {},
   "source": [
    "Vector arithmetics\n",
    "--------------------\n",
    "\n",
    "We can modify or create new numeric vectors using arithmetic\n",
    "operations. Three common types of operations involve: \n",
    "\n",
    "1. A vector with more than one element and a vector with only one element.\n",
    "2. Two vectors with the same number of elements. Elements are matched\n",
    "based on index.\n",
    "3. A vector modified by a function. \n",
    "\n",
    "In all cases, we can modify all elements of a vector or only a subset\n",
    "of elements using the bracket notation we learned above."
   ]
  },
  {
   "cell_type": "code",
   "execution_count": 15,
   "metadata": {},
   "outputs": [
    {
     "data": {
      "text/html": [
       "<ol class=list-inline>\n",
       "\t<li>1</li>\n",
       "\t<li>2</li>\n",
       "\t<li>3</li>\n",
       "\t<li>4</li>\n",
       "\t<li>5</li>\n",
       "\t<li>6</li>\n",
       "\t<li>7</li>\n",
       "\t<li>8</li>\n",
       "\t<li>9</li>\n",
       "\t<li>10</li>\n",
       "</ol>\n"
      ],
      "text/latex": [
       "\\begin{enumerate*}\n",
       "\\item 1\n",
       "\\item 2\n",
       "\\item 3\n",
       "\\item 4\n",
       "\\item 5\n",
       "\\item 6\n",
       "\\item 7\n",
       "\\item 8\n",
       "\\item 9\n",
       "\\item 10\n",
       "\\end{enumerate*}\n"
      ],
      "text/markdown": [
       "1. 1\n",
       "2. 2\n",
       "3. 3\n",
       "4. 4\n",
       "5. 5\n",
       "6. 6\n",
       "7. 7\n",
       "8. 8\n",
       "9. 9\n",
       "10. 10\n",
       "\n",
       "\n"
      ],
      "text/plain": [
       " [1]  1  2  3  4  5  6  7  8  9 10"
      ]
     },
     "metadata": {},
     "output_type": "display_data"
    },
    {
     "data": {
      "text/html": [
       "<ol class=list-inline>\n",
       "\t<li>0.1</li>\n",
       "\t<li>0.2</li>\n",
       "\t<li>0.3</li>\n",
       "\t<li>0.4</li>\n",
       "\t<li>0.5</li>\n",
       "\t<li>0.6</li>\n",
       "\t<li>0.7</li>\n",
       "\t<li>0.8</li>\n",
       "\t<li>0.9</li>\n",
       "\t<li>1</li>\n",
       "</ol>\n"
      ],
      "text/latex": [
       "\\begin{enumerate*}\n",
       "\\item 0.1\n",
       "\\item 0.2\n",
       "\\item 0.3\n",
       "\\item 0.4\n",
       "\\item 0.5\n",
       "\\item 0.6\n",
       "\\item 0.7\n",
       "\\item 0.8\n",
       "\\item 0.9\n",
       "\\item 1\n",
       "\\end{enumerate*}\n"
      ],
      "text/markdown": [
       "1. 0.1\n",
       "2. 0.2\n",
       "3. 0.3\n",
       "4. 0.4\n",
       "5. 0.5\n",
       "6. 0.6\n",
       "7. 0.7\n",
       "8. 0.8\n",
       "9. 0.9\n",
       "10. 1\n",
       "\n",
       "\n"
      ],
      "text/plain": [
       " [1] 0.1 0.2 0.3 0.4 0.5 0.6 0.7 0.8 0.9 1.0"
      ]
     },
     "metadata": {},
     "output_type": "display_data"
    },
    {
     "data": {
      "text/html": [
       "<ol class=list-inline>\n",
       "\t<li>0.1</li>\n",
       "\t<li>0.2</li>\n",
       "\t<li>0.3</li>\n",
       "\t<li>0.4</li>\n",
       "\t<li>0.5</li>\n",
       "\t<li>60</li>\n",
       "\t<li>70</li>\n",
       "\t<li>80</li>\n",
       "\t<li>90</li>\n",
       "\t<li>100</li>\n",
       "</ol>\n"
      ],
      "text/latex": [
       "\\begin{enumerate*}\n",
       "\\item 0.1\n",
       "\\item 0.2\n",
       "\\item 0.3\n",
       "\\item 0.4\n",
       "\\item 0.5\n",
       "\\item 60\n",
       "\\item 70\n",
       "\\item 80\n",
       "\\item 90\n",
       "\\item 100\n",
       "\\end{enumerate*}\n"
      ],
      "text/markdown": [
       "1. 0.1\n",
       "2. 0.2\n",
       "3. 0.3\n",
       "4. 0.4\n",
       "5. 0.5\n",
       "6. 60\n",
       "7. 70\n",
       "8. 80\n",
       "9. 90\n",
       "10. 100\n",
       "\n",
       "\n"
      ],
      "text/plain": [
       " [1]   0.1   0.2   0.3   0.4   0.5  60.0  70.0  80.0  90.0 100.0"
      ]
     },
     "metadata": {},
     "output_type": "display_data"
    },
    {
     "data": {
      "text/html": [
       "<ol class=list-inline>\n",
       "\t<li>9</li>\n",
       "\t<li>7</li>\n",
       "\t<li>5</li>\n",
       "\t<li>3</li>\n",
       "\t<li>1</li>\n",
       "\t<li>-1</li>\n",
       "\t<li>-3</li>\n",
       "\t<li>-5</li>\n",
       "\t<li>-7</li>\n",
       "\t<li>-9</li>\n",
       "</ol>\n"
      ],
      "text/latex": [
       "\\begin{enumerate*}\n",
       "\\item 9\n",
       "\\item 7\n",
       "\\item 5\n",
       "\\item 3\n",
       "\\item 1\n",
       "\\item -1\n",
       "\\item -3\n",
       "\\item -5\n",
       "\\item -7\n",
       "\\item -9\n",
       "\\end{enumerate*}\n"
      ],
      "text/markdown": [
       "1. 9\n",
       "2. 7\n",
       "3. 5\n",
       "4. 3\n",
       "5. 1\n",
       "6. -1\n",
       "7. -3\n",
       "8. -5\n",
       "9. -7\n",
       "10. -9\n",
       "\n",
       "\n"
      ],
      "text/plain": [
       " [1]  9  7  5  3  1 -1 -3 -5 -7 -9"
      ]
     },
     "metadata": {},
     "output_type": "display_data"
    },
    {
     "data": {
      "text/html": [
       "<ol class=list-inline>\n",
       "\t<li>1</li>\n",
       "\t<li>2</li>\n",
       "\t<li>3</li>\n",
       "\t<li>4</li>\n",
       "\t<li>5</li>\n",
       "\t<li>5</li>\n",
       "\t<li>4</li>\n",
       "\t<li>3</li>\n",
       "\t<li>2</li>\n",
       "\t<li>1</li>\n",
       "</ol>\n"
      ],
      "text/latex": [
       "\\begin{enumerate*}\n",
       "\\item 1\n",
       "\\item 2\n",
       "\\item 3\n",
       "\\item 4\n",
       "\\item 5\n",
       "\\item 5\n",
       "\\item 4\n",
       "\\item 3\n",
       "\\item 2\n",
       "\\item 1\n",
       "\\end{enumerate*}\n"
      ],
      "text/markdown": [
       "1. 1\n",
       "2. 2\n",
       "3. 3\n",
       "4. 4\n",
       "5. 5\n",
       "6. 5\n",
       "7. 4\n",
       "8. 3\n",
       "9. 2\n",
       "10. 1\n",
       "\n",
       "\n"
      ],
      "text/plain": [
       " [1] 1 2 3 4 5 5 4 3 2 1"
      ]
     },
     "metadata": {},
     "output_type": "display_data"
    },
    {
     "data": {
      "text/html": [
       "<ol class=list-inline>\n",
       "\t<li>1</li>\n",
       "\t<li>1.4142135623731</li>\n",
       "\t<li>1.73205080756888</li>\n",
       "\t<li>2</li>\n",
       "\t<li>2.23606797749979</li>\n",
       "\t<li>2.44948974278318</li>\n",
       "\t<li>2.64575131106459</li>\n",
       "\t<li>2.82842712474619</li>\n",
       "\t<li>3</li>\n",
       "\t<li>3.16227766016838</li>\n",
       "</ol>\n"
      ],
      "text/latex": [
       "\\begin{enumerate*}\n",
       "\\item 1\n",
       "\\item 1.4142135623731\n",
       "\\item 1.73205080756888\n",
       "\\item 2\n",
       "\\item 2.23606797749979\n",
       "\\item 2.44948974278318\n",
       "\\item 2.64575131106459\n",
       "\\item 2.82842712474619\n",
       "\\item 3\n",
       "\\item 3.16227766016838\n",
       "\\end{enumerate*}\n"
      ],
      "text/markdown": [
       "1. 1\n",
       "2. 1.4142135623731\n",
       "3. 1.73205080756888\n",
       "4. 2\n",
       "5. 2.23606797749979\n",
       "6. 2.44948974278318\n",
       "7. 2.64575131106459\n",
       "8. 2.82842712474619\n",
       "9. 3\n",
       "10. 3.16227766016838\n",
       "\n",
       "\n"
      ],
      "text/plain": [
       " [1] 1.000000 1.414214 1.732051 2.000000 2.236068 2.449490 2.645751 2.828427\n",
       " [9] 3.000000 3.162278"
      ]
     },
     "metadata": {},
     "output_type": "display_data"
    },
    {
     "data": {
      "text/html": [
       "<ol class=list-inline>\n",
       "\t<li>2.71828182845905</li>\n",
       "\t<li>7.38905609893065</li>\n",
       "\t<li>20.0855369231877</li>\n",
       "\t<li>54.5981500331442</li>\n",
       "\t<li>148.413159102577</li>\n",
       "\t<li>403.428793492735</li>\n",
       "\t<li>1096.63315842846</li>\n",
       "\t<li>2980.95798704173</li>\n",
       "\t<li>8103.08392757538</li>\n",
       "\t<li>22026.4657948067</li>\n",
       "</ol>\n"
      ],
      "text/latex": [
       "\\begin{enumerate*}\n",
       "\\item 2.71828182845905\n",
       "\\item 7.38905609893065\n",
       "\\item 20.0855369231877\n",
       "\\item 54.5981500331442\n",
       "\\item 148.413159102577\n",
       "\\item 403.428793492735\n",
       "\\item 1096.63315842846\n",
       "\\item 2980.95798704173\n",
       "\\item 8103.08392757538\n",
       "\\item 22026.4657948067\n",
       "\\end{enumerate*}\n"
      ],
      "text/markdown": [
       "1. 2.71828182845905\n",
       "2. 7.38905609893065\n",
       "3. 20.0855369231877\n",
       "4. 54.5981500331442\n",
       "5. 148.413159102577\n",
       "6. 403.428793492735\n",
       "7. 1096.63315842846\n",
       "8. 2980.95798704173\n",
       "9. 8103.08392757538\n",
       "10. 22026.4657948067\n",
       "\n",
       "\n"
      ],
      "text/plain": [
       " [1]     2.718282     7.389056    20.085537    54.598150   148.413159\n",
       " [6]   403.428793  1096.633158  2980.957987  8103.083928 22026.465795"
      ]
     },
     "metadata": {},
     "output_type": "display_data"
    },
    {
     "data": {
      "text/html": [
       "<ol class=list-inline>\n",
       "\t<li>0</li>\n",
       "\t<li>1.6094379124341</li>\n",
       "\t<li>2.30258509299405</li>\n",
       "</ol>\n"
      ],
      "text/latex": [
       "\\begin{enumerate*}\n",
       "\\item 0\n",
       "\\item 1.6094379124341\n",
       "\\item 2.30258509299405\n",
       "\\end{enumerate*}\n"
      ],
      "text/markdown": [
       "1. 0\n",
       "2. 1.6094379124341\n",
       "3. 2.30258509299405\n",
       "\n",
       "\n"
      ],
      "text/plain": [
       "[1] 0.000000 1.609438 2.302585"
      ]
     },
     "metadata": {},
     "output_type": "display_data"
    }
   ],
   "source": [
    "numbers <- 1:10\n",
    "numbers\n",
    "\n",
    "# One value modifying all values in a vector \n",
    "numbers <- numbers / 10\n",
    "numbers \n",
    "\n",
    "# One value modifying a subset of a vector \n",
    "numbers[numbers > 0.5] <- numbers[numbers > 0.5] * 100\n",
    "numbers\n",
    "\n",
    "# Two vectors with the same number of elements \n",
    "numbers1 <- 1:10\n",
    "numbers2 <- 10:1\n",
    "numbers3 <- numbers2 - numbers1\n",
    "numbers3\n",
    "\n",
    "# Replacing a subset of a vector using another vector\n",
    "numbers <- 1:10\n",
    "numbers[numbers > 5] <- 5:1\n",
    "numbers\n",
    "\n",
    "# Modify a vector (or a subset of a vector) using a function\n",
    "numbers <- 1:10\n",
    "sqrt(numbers) #square root\n",
    "exp(numbers) #exponentiate\n",
    "log(numbers[c(1, 5, 10)]) #natural log"
   ]
  },
  {
   "cell_type": "markdown",
   "metadata": {},
   "source": [
    "Vector arithmetics can also be carried out in R on two multi-value\n",
    "vectors with different number of elements. Such operations use\n",
    "the [recycling rule](http://www.r-tutor.com/r-introduction/vector/vector-arithmetics).\n",
    "\n",
    "\n",
    "\n",
    "Summarizing vectors \n",
    "===========================\n",
    "\n",
    "We often want to get summary statistics from a vector --- that is,\n",
    "learn something general about it by looking beyond its constituent\n",
    "elements. If we have a vector in which each element represents a\n",
    "person's height, we may want to know who the shortest or tallest\n",
    "person is, what the median or mean height is, what the standard\n",
    "deviation is, etc. Here are common summary facts for vectors:"
   ]
  },
  {
   "cell_type": "code",
   "execution_count": 16,
   "metadata": {},
   "outputs": [
    {
     "data": {
      "text/html": [
       "<ol class=list-inline>\n",
       "\t<li>582</li>\n",
       "\t<li>914</li>\n",
       "\t<li>51</li>\n",
       "\t<li>180</li>\n",
       "\t<li>224</li>\n",
       "\t<li>376</li>\n",
       "\t<li>718</li>\n",
       "\t<li>533</li>\n",
       "\t<li>209</li>\n",
       "\t<li>345</li>\n",
       "</ol>\n"
      ],
      "text/latex": [
       "\\begin{enumerate*}\n",
       "\\item 582\n",
       "\\item 914\n",
       "\\item 51\n",
       "\\item 180\n",
       "\\item 224\n",
       "\\item 376\n",
       "\\item 718\n",
       "\\item 533\n",
       "\\item 209\n",
       "\\item 345\n",
       "\\end{enumerate*}\n"
      ],
      "text/markdown": [
       "1. 582\n",
       "2. 914\n",
       "3. 51\n",
       "4. 180\n",
       "5. 224\n",
       "6. 376\n",
       "7. 718\n",
       "8. 533\n",
       "9. 209\n",
       "10. 345\n",
       "\n",
       "\n"
      ],
      "text/plain": [
       " [1] 582 914  51 180 224 376 718 533 209 345"
      ]
     },
     "metadata": {},
     "output_type": "display_data"
    },
    {
     "data": {
      "text/html": [
       "'integer'"
      ],
      "text/latex": [
       "'integer'"
      ],
      "text/markdown": [
       "'integer'"
      ],
      "text/plain": [
       "[1] \"integer\""
      ]
     },
     "metadata": {},
     "output_type": "display_data"
    },
    {
     "data": {
      "text/html": [
       "10"
      ],
      "text/latex": [
       "10"
      ],
      "text/markdown": [
       "10"
      ],
      "text/plain": [
       "[1] 10"
      ]
     },
     "metadata": {},
     "output_type": "display_data"
    },
    {
     "data": {
      "text/html": [
       "914"
      ],
      "text/latex": [
       "914"
      ],
      "text/markdown": [
       "914"
      ],
      "text/plain": [
       "[1] 914"
      ]
     },
     "metadata": {},
     "output_type": "display_data"
    },
    {
     "data": {
      "text/html": [
       "51"
      ],
      "text/latex": [
       "51"
      ],
      "text/markdown": [
       "51"
      ],
      "text/plain": [
       "[1] 51"
      ]
     },
     "metadata": {},
     "output_type": "display_data"
    },
    {
     "data": {
      "text/html": [
       "4132"
      ],
      "text/latex": [
       "4132"
      ],
      "text/markdown": [
       "4132"
      ],
      "text/plain": [
       "[1] 4132"
      ]
     },
     "metadata": {},
     "output_type": "display_data"
    },
    {
     "data": {
      "text/html": [
       "413.2"
      ],
      "text/latex": [
       "413.2"
      ],
      "text/markdown": [
       "413.2"
      ],
      "text/plain": [
       "[1] 413.2"
      ]
     },
     "metadata": {},
     "output_type": "display_data"
    },
    {
     "data": {
      "text/html": [
       "360.5"
      ],
      "text/latex": [
       "360.5"
      ],
      "text/markdown": [
       "360.5"
      ],
      "text/plain": [
       "[1] 360.5"
      ]
     },
     "metadata": {},
     "output_type": "display_data"
    },
    {
     "data": {
      "text/html": [
       "72849.9555555556"
      ],
      "text/latex": [
       "72849.9555555556"
      ],
      "text/markdown": [
       "72849.9555555556"
      ],
      "text/plain": [
       "[1] 72849.96"
      ]
     },
     "metadata": {},
     "output_type": "display_data"
    },
    {
     "data": {
      "text/html": [
       "269.907309192537"
      ],
      "text/latex": [
       "269.907309192537"
      ],
      "text/markdown": [
       "269.907309192537"
      ],
      "text/plain": [
       "[1] 269.9073"
      ]
     },
     "metadata": {},
     "output_type": "display_data"
    },
    {
     "data": {
      "text/html": [
       "<dl class=dl-horizontal>\n",
       "\t<dt>0%</dt>\n",
       "\t\t<dd>51</dd>\n",
       "\t<dt>25%</dt>\n",
       "\t\t<dd>212.75</dd>\n",
       "\t<dt>50%</dt>\n",
       "\t\t<dd>360.5</dd>\n",
       "\t<dt>75%</dt>\n",
       "\t\t<dd>569.75</dd>\n",
       "\t<dt>100%</dt>\n",
       "\t\t<dd>914</dd>\n",
       "</dl>\n"
      ],
      "text/latex": [
       "\\begin{description*}\n",
       "\\item[0\\textbackslash{}\\%] 51\n",
       "\\item[25\\textbackslash{}\\%] 212.75\n",
       "\\item[50\\textbackslash{}\\%] 360.5\n",
       "\\item[75\\textbackslash{}\\%] 569.75\n",
       "\\item[100\\textbackslash{}\\%] 914\n",
       "\\end{description*}\n"
      ],
      "text/markdown": [
       "0%\n",
       ":   5125%\n",
       ":   212.7550%\n",
       ":   360.575%\n",
       ":   569.75100%\n",
       ":   914\n",
       "\n"
      ],
      "text/plain": [
       "    0%    25%    50%    75%   100% \n",
       " 51.00 212.75 360.50 569.75 914.00 "
      ]
     },
     "metadata": {},
     "output_type": "display_data"
    },
    {
     "data": {
      "text/html": [
       "<dl class=dl-horizontal>\n",
       "\t<dt>0%</dt>\n",
       "\t\t<dd>51</dd>\n",
       "\t<dt>10%</dt>\n",
       "\t\t<dd>167.1</dd>\n",
       "\t<dt>20%</dt>\n",
       "\t\t<dd>203.2</dd>\n",
       "\t<dt>30%</dt>\n",
       "\t\t<dd>219.5</dd>\n",
       "\t<dt>40%</dt>\n",
       "\t\t<dd>296.6</dd>\n",
       "\t<dt>50%</dt>\n",
       "\t\t<dd>360.5</dd>\n",
       "\t<dt>60%</dt>\n",
       "\t\t<dd>438.8</dd>\n",
       "\t<dt>70%</dt>\n",
       "\t\t<dd>547.7</dd>\n",
       "\t<dt>80%</dt>\n",
       "\t\t<dd>609.2</dd>\n",
       "\t<dt>90%</dt>\n",
       "\t\t<dd>737.6</dd>\n",
       "\t<dt>100%</dt>\n",
       "\t\t<dd>914</dd>\n",
       "</dl>\n"
      ],
      "text/latex": [
       "\\begin{description*}\n",
       "\\item[0\\textbackslash{}\\%] 51\n",
       "\\item[10\\textbackslash{}\\%] 167.1\n",
       "\\item[20\\textbackslash{}\\%] 203.2\n",
       "\\item[30\\textbackslash{}\\%] 219.5\n",
       "\\item[40\\textbackslash{}\\%] 296.6\n",
       "\\item[50\\textbackslash{}\\%] 360.5\n",
       "\\item[60\\textbackslash{}\\%] 438.8\n",
       "\\item[70\\textbackslash{}\\%] 547.7\n",
       "\\item[80\\textbackslash{}\\%] 609.2\n",
       "\\item[90\\textbackslash{}\\%] 737.6\n",
       "\\item[100\\textbackslash{}\\%] 914\n",
       "\\end{description*}\n"
      ],
      "text/markdown": [
       "0%\n",
       ":   5110%\n",
       ":   167.120%\n",
       ":   203.230%\n",
       ":   219.540%\n",
       ":   296.650%\n",
       ":   360.560%\n",
       ":   438.870%\n",
       ":   547.780%\n",
       ":   609.290%\n",
       ":   737.6100%\n",
       ":   914\n",
       "\n"
      ],
      "text/plain": [
       "   0%   10%   20%   30%   40%   50%   60%   70%   80%   90%  100% \n",
       " 51.0 167.1 203.2 219.5 296.6 360.5 438.8 547.7 609.2 737.6 914.0 "
      ]
     },
     "metadata": {},
     "output_type": "display_data"
    },
    {
     "data": {
      "text/plain": [
       "   Min. 1st Qu.  Median    Mean 3rd Qu.    Max. \n",
       "   51.0   212.8   360.5   413.2   569.8   914.0 "
      ]
     },
     "metadata": {},
     "output_type": "display_data"
    }
   ],
   "source": [
    "numbers <- sample(1:1000, 10)\n",
    "numbers\n",
    "\n",
    "class(numbers) #check the class\n",
    "length(numbers) #number of elements \n",
    "max(numbers) #maximum value\n",
    "min(numbers) #minimum value\n",
    "sum(numbers) #sum of all values in the vector\n",
    "mean(numbers) #mean\n",
    "median(numbers) #median\n",
    "var(numbers) #variance\n",
    "sd(numbers) #standard deviation\n",
    "quantile(numbers) #percentiles in intervals of .25 \n",
    "quantile(numbers, probs = seq(0, 1, 0.1)) #percentiles in invervals of 0.1\n",
    "summary(numbers) #function that contains many summary stats from above"
   ]
  },
  {
   "cell_type": "markdown",
   "metadata": {},
   "source": [
    "If you forget one of these functions or if I haven't included one here\n",
    "that you need, google almost surely has the answer for you. Also note\n",
    "that some of the operations above --- most notably `class()` and\n",
    "`length()` --- apply to non-numeric vectors.\n",
    "\n",
    "\n",
    "Code generalization\n",
    "-------------\n",
    "\n",
    "We want our code to be as general as possible so that it can be\n",
    "reapplied to a different coding task or if the data change.\n",
    "Commands that summarize vectors can be useful to accomplish this. \n",
    "\n",
    "Remember above when we found a random sample of `fruits`?  Here is\n",
    "more or less the code we used:"
   ]
  },
  {
   "cell_type": "code",
   "execution_count": 17,
   "metadata": {},
   "outputs": [
    {
     "data": {
      "text/html": [
       "30"
      ],
      "text/latex": [
       "30"
      ],
      "text/markdown": [
       "30"
      ],
      "text/plain": [
       "[1] 30"
      ]
     },
     "metadata": {},
     "output_type": "display_data"
    },
    {
     "data": {
      "text/html": [
       "<ol class=list-inline>\n",
       "\t<li>'orange'</li>\n",
       "\t<li>'banana'</li>\n",
       "\t<li>'apple'</li>\n",
       "\t<li>'apple'</li>\n",
       "\t<li>'orange'</li>\n",
       "</ol>\n"
      ],
      "text/latex": [
       "\\begin{enumerate*}\n",
       "\\item 'orange'\n",
       "\\item 'banana'\n",
       "\\item 'apple'\n",
       "\\item 'apple'\n",
       "\\item 'orange'\n",
       "\\end{enumerate*}\n"
      ],
      "text/markdown": [
       "1. 'orange'\n",
       "2. 'banana'\n",
       "3. 'apple'\n",
       "4. 'apple'\n",
       "5. 'orange'\n",
       "\n",
       "\n"
      ],
      "text/plain": [
       "[1] \"orange\" \"banana\" \"apple\"  \"apple\"  \"orange\""
      ]
     },
     "metadata": {},
     "output_type": "display_data"
    }
   ],
   "source": [
    "fruits <- rep(c(\"orange\", \"apple\", \"banana\"), 10)\n",
    "length(fruits) \n",
    "random_sample <- fruits[sample(1:30, size = 5)]\n",
    "random_sample"
   ]
  },
  {
   "cell_type": "markdown",
   "metadata": {},
   "source": [
    "The third line, where we create `random_sample`, is not very\n",
    "general. Why? In this case, `fruits` has 30 elements.  What if it\n",
    "instead had 50 elements? *Then the third line would not give us a\n",
    "random sample.* Or more precisely, this line would give us a random\n",
    "sample of the 30 first elements of fruits --- the last 20 elements\n",
    "would not have a chance of being included. We could modify the third\n",
    "line to read `random_sample <- fruits[sample(1:50, size = 5)]`.  But\n",
    "if we then modified `fruits` to have a different number of elements\n",
    "again we'd end up with the same problem.\n",
    "\n",
    "Here's the solution: find the number of elements of fruits using\n",
    "`length()` and then input this as an argument in the `sample()`\n",
    "function."
   ]
  },
  {
   "cell_type": "code",
   "execution_count": 18,
   "metadata": {},
   "outputs": [
    {
     "data": {
      "text/html": [
       "300"
      ],
      "text/latex": [
       "300"
      ],
      "text/markdown": [
       "300"
      ],
      "text/plain": [
       "[1] 300"
      ]
     },
     "metadata": {},
     "output_type": "display_data"
    },
    {
     "data": {
      "text/html": [
       "<ol class=list-inline>\n",
       "\t<li>'orange'</li>\n",
       "\t<li>'apple'</li>\n",
       "\t<li>'banana'</li>\n",
       "\t<li>'orange'</li>\n",
       "\t<li>'apple'</li>\n",
       "</ol>\n"
      ],
      "text/latex": [
       "\\begin{enumerate*}\n",
       "\\item 'orange'\n",
       "\\item 'apple'\n",
       "\\item 'banana'\n",
       "\\item 'orange'\n",
       "\\item 'apple'\n",
       "\\end{enumerate*}\n"
      ],
      "text/markdown": [
       "1. 'orange'\n",
       "2. 'apple'\n",
       "3. 'banana'\n",
       "4. 'orange'\n",
       "5. 'apple'\n",
       "\n",
       "\n"
      ],
      "text/plain": [
       "[1] \"orange\" \"apple\"  \"banana\" \"orange\" \"apple\" "
      ]
     },
     "metadata": {},
     "output_type": "display_data"
    }
   ],
   "source": [
    "fruits <- rep(c(\"orange\", \"apple\", \"banana\"), 100)\n",
    "n <- length(fruits) #store the result of length() in an object \n",
    "n\n",
    "\n",
    "random_sample <- fruits[sample(1:n, size = 5)] #now use 'n' in the sample() function\n",
    "random_sample\n",
    "\n",
    "# Or we could have used length() directly in the sample() function\n",
    "# Note: Accomplishes the same thing as first creating 'n'\n",
    "random_sample <- fruits[sample(1:length(fruits), size = 5)]"
   ]
  },
  {
   "cell_type": "markdown",
   "metadata": {},
   "source": [
    "<div style=\"margin-top: 15px\"> </div>\n",
    "\n",
    "Exercises\n",
    "=============================\n",
    "\n",
    "Create a vector that represents the age of at least four different family\n",
    "members or friends. You can name it whatever you want.\n",
    "\n",
    "1. What is the mean age of the people in your vector? Find out in two ways,\n",
    "with and without using the `mean()` command.\n",
    "\n",
    "2. How old is the youngest person in your vector? (Use an R command to find out.)\n",
    "\n",
    "3. What is the age gap between the youngest person and the oldest person in your vector?\n",
    "(Again use R to find out, and try to be as general as possible in the sense that\n",
    "your code should work even if the elements in your vector, or their order, change.)\n",
    "\n",
    "4. How many people in your vector are above age 25? (Again, try to make your code\n",
    "work even in the case that your vector changes.)\n",
    "\n",
    "5. Replace the age of the oldest person in your vector with the age of someone\n",
    "else you know.\n",
    "\n",
    "6. Create a new vector that indicates how old each person in your vector\n",
    "will be in 10 years.\n",
    "\n",
    "7. Create a new vector that indicates what year each person in your vector\n",
    "will turn 100 years old.\n",
    "\n",
    "8. Create a new vector with a random sample of 3 individuals from your\n",
    "original vector. What is the mean age of the people in this new\n",
    "vector?"
   ]
  }
 ],
 "metadata": {
  "kernelspec": {
   "display_name": "R",
   "language": "R",
   "name": "ir"
  },
  "language_info": {
   "codemirror_mode": "r",
   "file_extension": ".r",
   "mimetype": "text/x-r-source",
   "name": "R",
   "pygments_lexer": "r",
   "version": "3.4.3"
  }
 },
 "nbformat": 4,
 "nbformat_minor": 2
}
