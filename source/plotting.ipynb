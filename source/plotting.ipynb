{
 "cells": [
  {
   "cell_type": "markdown",
   "metadata": {},
   "source": [
    "# Plotting\n",
    "\n",
    "## Libraries for Plotting in Python\n",
    "\n",
    "The linchpin library for plotting in Python is without a doubt `matplotlib`. While infinitely flexible, however, for many applications `matplotlib` lacks user-friendly tools for quickly making common types of figures (scatter plots, linear fits, histograms, etc.). With that in mind, several other packages (most of which are actually built on `matplotlib`) have been created to provide a more userfriendly interface. Unlike in `matplotlib`, where you have to think in terms of the geometric objects you want to place on axes, all three of these alternative libraries allow you to write more \"declarative\" code for creating histograms or polynomial regression plots. As of this writing (mid-2019), there are three main libraries available: \n",
    "\n",
    "- **[plotnine](https://plotnine.readthedocs.io/en/stable/index.html)** and **[altair](https://altair-viz.github.io/)**: these two libraries are both designed to have syntaxes that are very modular and embody an underlying logic (a \"grammer of graphics\"). As a result, they both allow users to quickly develop the figures they want by chaining together a few commands in a very logical manner. `plotnine` is designed to replicate the syntax of the famous R package `ggplot` in Python, and in most cases it works wonderfully (despite having a very unimpressive website). As a result, if you are already familiar with `ggplot`, `plotnine` is hard to beat. `altair` also seems to be relatively popular among pure python users. \n",
    "- **[seaborn](https://seaborn.pydata.org/)**: `seaborn` is also a declarative plotting language, although its syntax is a little less modular than `plotnine` or `altair` -- there are commands for plotting variable distributions, commands for \n"
   ]
  },
  {
   "cell_type": "code",
   "execution_count": null,
   "metadata": {},
   "outputs": [],
   "source": []
  }
 ],
 "metadata": {
  "kernelspec": {
   "display_name": "Python 3",
   "language": "python",
   "name": "python3"
  },
  "language_info": {
   "codemirror_mode": {
    "name": "ipython",
    "version": 3
   },
   "file_extension": ".py",
   "mimetype": "text/x-python",
   "name": "python",
   "nbconvert_exporter": "python",
   "pygments_lexer": "ipython3",
   "version": "3.7.3"
  }
 },
 "nbformat": 4,
 "nbformat_minor": 4
}
