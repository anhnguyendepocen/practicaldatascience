{
 "cells": [
  {
   "cell_type": "markdown",
   "metadata": {},
   "source": [
    "# Memory Hierarchies and Big Data\n",
    "\n",
    "## How your computer works\n",
    "\n",
    "## Memory Hierarchy\n",
    "\n",
    "## Big Data v1.0\n",
    "\n",
    "Too big to fit into ram\n",
    "\n",
    "### Big Data v2.0\n",
    "\n",
    "Too big to fit on a single computer\n",
    "\n",
    "## Strategies for Big Data\n",
    "\n",
    "### Chunking\n",
    "\n",
    "### Data type management\n",
    "\n",
    "### Out-of-core software\n",
    "\n",
    "\n"
   ]
  },
  {
   "cell_type": "code",
   "execution_count": null,
   "metadata": {},
   "outputs": [],
   "source": []
  }
 ],
 "metadata": {
  "kernelspec": {
   "display_name": "Julia 1.0.3",
   "language": "julia",
   "name": "julia-1.0"
  },
  "language_info": {
   "file_extension": ".jl",
   "mimetype": "application/julia",
   "name": "julia",
   "version": "1.0.3"
  }
 },
 "nbformat": 4,
 "nbformat_minor": 2
}
