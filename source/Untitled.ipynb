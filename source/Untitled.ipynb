{
 "cells": [
  {
   "cell_type": "markdown",
   "metadata": {},
   "source": [
    "# Fixed Effects in Python\n",
    "\n",
    "I've gotten a few questions about how best to implement fixed effects in Python, so I wanted to lay out a few different methods for doing so. \n",
    "\n",
    "## Directly Add\n",
    "\n",
    "Fixed effects are just indicator variables, so the easiest way to implement fixed effects is by... well just adding indicators! For example: "
   ]
  },
  {
   "cell_type": "code",
   "execution_count": null,
   "metadata": {},
   "outputs": [],
   "source": []
  },
  {
   "cell_type": "markdown",
   "metadata": {},
   "source": [
    "The thing you want to be careful of, though, is that county fixed effects are co-linear with non-time varying variables (like \"policy change state\"), so you don't want to include those variables if you're using FEs. "
   ]
  },
  {
   "cell_type": "code",
   "execution_count": null,
   "metadata": {},
   "outputs": [],
   "source": []
  }
 ],
 "metadata": {
  "kernelspec": {
   "display_name": "Python 3",
   "language": "python",
   "name": "python3"
  },
  "language_info": {
   "codemirror_mode": {
    "name": "ipython",
    "version": 3
   },
   "file_extension": ".py",
   "mimetype": "text/x-python",
   "name": "python",
   "nbconvert_exporter": "python",
   "pygments_lexer": "ipython3",
   "version": "3.7.3"
  }
 },
 "nbformat": 4,
 "nbformat_minor": 4
}
