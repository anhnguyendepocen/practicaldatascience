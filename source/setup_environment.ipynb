{
 "cells": [
  {
   "cell_type": "markdown",
   "metadata": {},
   "source": [
    "# Installing Python, Anaconda, and Jupyter"
   ]
  },
  {
   "cell_type": "markdown",
   "metadata": {},
   "source": [
    "In this tutorial, we'll go over how to set up all the tools you need to not only work effectively in Python, but also get going with the Jupyter ecosystem, which supports not only Python, but also R, Julia, and more. "
   ]
  },
  {
   "cell_type": "markdown",
   "metadata": {},
   "source": [
    "## Installing Anaconda\n",
    "\n",
    "The first thing we need to do is download the Anaconda Python distribution. The Anaconda distribution is not the only way to get Python – indeed, there’s a good chance a version of Python is already installed on your computer – but the Anaconda installation does a number of very nice things:\n",
    "\n",
    "- Installs a clean installation of the latest version of Python\n",
    "- Installs of a large number of packages that are commonly used in scientific computing\n",
    "- Provides a \"package manager\" – a tool for installing new packages in the future and updating already installed packages.\n",
    "\n",
    "To install Python, go to the [Anaconda Download page](https://www.anaconda.com/distribution/#download-section), download and install the most recent Python 3.x version of Anaconda (as of June 2016, this was Python 3.7). \n",
    "\n",
    "### Installation Note for Windows Users\n",
    "\n",
    "One of the checkboxes during the Windows installation is \"do you want to add Anaconda to your PATH?\". Although anaconda recommends against this, it is very helpful for using python using `Cmder`, so select yes. This is easy to change later if you ever feel the need.  \n",
    "\n",
    "### If there's a Python 3.7, why is there also a Python 2.7 available?\n",
    "\n",
    "In 2000, Python 3 was first released. Python 3 fixed a lot of things people disliked about Python, but in the process it made some changes that meant code written in Python 2 would not work any more. To ease the transition to Python 3, both Python 2 and Python 3 have been supported for several years so people could keep running their Python 2 projects while they finished the transition. Almost everything is now in Python 3, so since you don’t have any old code to worry about, you want Python 3."
   ]
  },
  {
   "cell_type": "markdown",
   "metadata": {},
   "source": [
    "## Change the Default Channel\n",
    "\n",
    "One of the main purposes of Anaconda is to help you install and manage Python packages. When installing and updated packages, the Anaconda software actually has the ability to pull packages from any number of sources. As of mid-2019, there's one group that provides the best source for packages: `conda-forge`. So to make that your system's default, open the command line (after installing Anaconda -- if it was open while installing this won't work) and type the following two commands:\n",
    "\n",
    "```\n",
    "conda config --add channels conda-forge\n",
    "conda config --set channel_priority strict\n",
    "```"
   ]
  },
  {
   "cell_type": "code",
   "execution_count": null,
   "metadata": {},
   "outputs": [],
   "source": []
  }
 ],
 "metadata": {
  "kernelspec": {
   "display_name": "Python 3",
   "language": "python",
   "name": "python3"
  },
  "language_info": {
   "codemirror_mode": {
    "name": "ipython",
    "version": 3
   },
   "file_extension": ".py",
   "mimetype": "text/x-python",
   "name": "python",
   "nbconvert_exporter": "python",
   "pygments_lexer": "ipython3",
   "version": "3.7.3"
  }
 },
 "nbformat": 4,
 "nbformat_minor": 4
}
