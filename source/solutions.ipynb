{
 "cells": [
  {
   "cell_type": "markdown",
   "metadata": {},
   "source": [
    "# Solutions"
   ]
  },
  {
   "cell_type": "markdown",
   "metadata": {},
   "source": [
    "- [Series Exercise Solutions](exercises/Solutions_series.ipynb)\n",
    "- [DataFrame Exercise Solutions](exercises/Solutions_dataframe.ipynb)\n",
    "- [Plotting, Basic Solutions](Solutions_plotting_part1.ipynb)\n",
    "- [Plotting, Advanced Solutions](Solutions_plotting_part2.ipynb)\n",
    "- [Indices](Solutions_indices.ipynb)"
   ]
  },
  {
   "cell_type": "code",
   "execution_count": null,
   "metadata": {},
   "outputs": [],
   "source": []
  }
 ],
 "metadata": {
  "kernelspec": {
   "display_name": "Python 3",
   "language": "python",
   "name": "python3"
  },
  "language_info": {
   "codemirror_mode": {
    "name": "ipython",
    "version": 3
   },
   "file_extension": ".py",
   "mimetype": "text/x-python",
   "name": "python",
   "nbconvert_exporter": "python",
   "pygments_lexer": "ipython3",
   "version": "3.7.3"
  }
 },
 "nbformat": 4,
 "nbformat_minor": 4
}
