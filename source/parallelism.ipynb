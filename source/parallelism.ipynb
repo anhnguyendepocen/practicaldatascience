{
 "cells": [
  {
   "cell_type": "markdown",
   "metadata": {},
   "source": [
    "# Parallelism\n",
    "\n",
    "## What *is* Parallelism\n",
    "\n",
    "## Why is Paralleism important?\n",
    "\n",
    "## Types of Parallelism\n",
    "\n",
    "## How do I paralleize?\n",
    "\n",
    "## Limits of Parallelism\n",
    "\n",
    "### Amdahl's Law\n",
    "\n",
    "$$\\frac{1}{(1-P)+\\frac{P}{N}}$$\n"
   ]
  },
  {
   "cell_type": "code",
   "execution_count": null,
   "metadata": {},
   "outputs": [],
   "source": [
    "%%latex\n"
   ]
  },
  {
   "cell_type": "markdown",
   "metadata": {},
   "source": [
    "Further reading / resources: \n",
    "\n",
    "https://www.youtube.com/watch?v=zX4ZNfvw1cw"
   ]
  },
  {
   "attachments": {},
   "cell_type": "markdown",
   "metadata": {},
   "source": [
    "![images/42-years-processor-trend.png](images/42-years-processor-trend.png)\n",
    "\n",
    "Source: https://www.karlrupp.net/2018/02/42-years-of-microprocessor-trend-data/"
   ]
  },
  {
   "cell_type": "code",
   "execution_count": null,
   "metadata": {},
   "outputs": [],
   "source": []
  }
 ],
 "metadata": {
  "kernelspec": {
   "display_name": "Julia 1.0.3",
   "language": "julia",
   "name": "julia-1.0"
  },
  "language_info": {
   "file_extension": ".jl",
   "mimetype": "application/julia",
   "name": "julia",
   "version": "1.0.3"
  }
 },
 "nbformat": 4,
 "nbformat_minor": 2
}
