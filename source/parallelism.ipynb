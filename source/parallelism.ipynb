{
 "cells": [
  {
   "cell_type": "markdown",
   "metadata": {},
   "source": [
    "# Parallel Computing\n",
    "\n",
    "Before you dive into this, let me just tell you the punchline of this entire page right up front: parallelism is the **last tool** you want to turn to for speed. It is **not** a silver bullet, it will generally take you *significant* time to implement, the speed improvements from parallelism are generally **much** smaller than what you get from other performance improvement methods (see [Understanding Performance](performance_understanding.ipynb) and [Performance Solutions](performance_solutions.ipynb)), and the headaches of parallelizing code are many. \n",
    "\n",
    "## What *is* Parallelism\n",
    "\n",
    "## Why is Paralleism important?\n",
    "\n",
    "## Types of Parallelism\n",
    "\n",
    "## How do I paralleize?\n",
    "\n",
    "## Limits of Parallelism\n",
    "\n",
    "### Amdahl's Law\n",
    "\n",
    "$$\\frac{1}{(1-P)+\\frac{P}{N}}$$\n"
   ]
  },
  {
   "cell_type": "code",
   "execution_count": null,
   "metadata": {},
   "outputs": [],
   "source": []
  },
  {
   "cell_type": "markdown",
   "metadata": {},
   "source": [
    "Further reading / resources: \n",
    "\n",
    "https://www.youtube.com/watch?v=zX4ZNfvw1cw"
   ]
  },
  {
   "cell_type": "markdown",
   "metadata": {},
   "source": [
    "![images/42-years-processor-trend.png](images/42-years-processor-trend.png)\n",
    "\n",
    "Source: https://www.karlrupp.net/2018/02/42-years-of-microprocessor-trend-data/"
   ]
  },
  {
   "cell_type": "code",
   "execution_count": null,
   "metadata": {},
   "outputs": [],
   "source": []
  }
 ],
 "metadata": {
  "kernelspec": {
   "display_name": "Python 3",
   "language": "python",
   "name": "python3"
  },
  "language_info": {
   "codemirror_mode": {
    "name": "ipython",
    "version": 3
   },
   "file_extension": ".py",
   "mimetype": "text/x-python",
   "name": "python",
   "nbconvert_exporter": "python",
   "pygments_lexer": "ipython3",
   "version": "3.7.3"
  }
 },
 "nbformat": 4,
 "nbformat_minor": 4
}
