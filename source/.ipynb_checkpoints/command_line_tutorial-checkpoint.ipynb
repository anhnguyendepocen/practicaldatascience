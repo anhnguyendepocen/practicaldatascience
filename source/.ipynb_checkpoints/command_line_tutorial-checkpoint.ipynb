{
 "cells": [
  {
   "cell_type": "markdown",
   "metadata": {},
   "source": [
    "# The Command Line"
   ]
  },
  {
   "cell_type": "markdown",
   "metadata": {},
   "source": [
    "It's probably good to start by answering the question: What *is* the command line?\n",
    "\n",
    "The command line is a way to talk to your operating system (e.g. macOS, Windows, etc.) using text instead of by moving around a mouse and clicking on things. Just as you can use your mouse to open folders, move and rename files, and launch programs, so too can you use the command line to ask you operating system to do the same things. \n",
    "\n",
    "Before we get into the command line, though, a note on terminology. In this tutorial, we will be using a program called `bash` as our command line tool. `bash` is just a specific --- extremely popular --- program for talking with our operating system. But if you're working on a Mac, you'd never know you were using `bash` because Apple wanted a cooler name, so they've renamed the program `Terminal`. Also, `bash` is based on a program called `shell`, so you may also hear the term `shell` used to describe the tool we'll be using today. But for all intents and purposes, the terms `bash`, `Terminal`, and `shell` are basically interchangeable. \n",
    "\n",
    "We're using `bash` because it's the default command line tool on nearly all Macs and Linux computers (the operating systems of Mac and Linux computers are very similar, and are often just referred to as POSIX computers). That's important, because almost all computers in the cloud run Linux (including not just companies like Amazon Web Services, but also university research clusters). And if you want to work directly with a computer in the cloud, you will almost never get to use a pretty graphical user interface and you'll have to use the command line, making `bash` a great choice to learn on. \n",
    "\n",
    "This does mean that the specific commands we learn here *won't* work on Windows, which has it's own command line interface (DOS). If you're working with Windows, click here for your options (Will add link to cygwin here https://cygwin.com/install.html ).\n",
    "\n",
    "## But if it's just like using my mouse to click pictures, why do I need the command line?\n",
    "\n",
    "There are three main reasons to learn to use the command line. \n",
    "\n",
    "1) **More tools are available through the command line than through graphical user interface.** It turns out that it takes a lot of work to make a program that has pretty icons and windows that pop up, so lots of people make tools but don't bother to make pretty graphical interfaces. This is especially true for free and open-source software. So by learning to use the command line, you gain access to *lots* of powerful tools that would otherwise be unavailable. \n",
    "2) **You won't always have a graphical interface.** If your work ever requires you to use a remote server with, say, more computing power, those systems probably won't offer a graphical user interface. \n",
    "3) **Sometimes you want to do something OVER AND OVER.** Renaming a file by clicking on it, deleting the name, typing in a new name, and hitting return is great if you only need to rename one file. But what if you want to rename hundreds? The command line gives you the ability to write little scripts to do this kind of work for you. \n",
    "\n",
    "## Navigating the file system\n",
    "\n",
    "Just as you move around your file system normally by double clicking on folders to open them and see their content, so too can you explore your files from the command line. \n",
    "\n",
    "An important concept in navigating your files is the idea of a *working directory*. Just as there's only ever one active window in your Graphical User Interface (GUI, the fancy name for having windows and icons you can click with a mouse), a `bash` session always has a \"working directory\" -- the place in your file system your `bash` session thinks of as its current location. \n",
    "\n",
    "To see where your `bash` session thinks it's located, just use the `pwd` command (short for \"present working directory\"). "
   ]
  },
  {
   "cell_type": "code",
   "execution_count": 1,
   "metadata": {},
   "outputs": [],
   "source": [
    "cd /users/nick/github/cs_for_ds/Example_Data/command_line"
   ]
  },
  {
   "cell_type": "code",
   "execution_count": 3,
   "metadata": {},
   "outputs": [
    {
     "name": "stdout",
     "output_type": "stream",
     "text": [
      "/users/nick/github/cs_for_ds/Example_Data/command_line\n"
     ]
    }
   ],
   "source": [
    "pwd"
   ]
  },
  {
   "cell_type": "markdown",
   "metadata": {},
   "source": [
    "In other words, your `bash` session thinks of itself as being located in the `command_line` folder in the `Example_Data` folder. As a result, all commands we execute are executed with that in mind. For example, if I want to list all the files in the current directory, I can just type `ls`:"
   ]
  },
  {
   "cell_type": "code",
   "execution_count": 4,
   "metadata": {},
   "outputs": [
    {
     "name": "stdout",
     "output_type": "stream",
     "text": [
      "Welcome_Materials\n"
     ]
    }
   ],
   "source": [
    "ls"
   ]
  },
  {
   "cell_type": "markdown",
   "metadata": {},
   "source": [
    "See, it listed the contents of our folder! You can go look the way you normally would if you want to confirm. \n",
    "\n",
    "OK, why use `ls` for \"list\" and `pwd` for \"present working directory\" instead of something more expressive that would make sense to humans? Because `bash` was created back when memory was so scarce that using four letters to make a command called `list` instead of calling it `ls` was considered irresponsible. So yeah... there will be a lot of commands that are two or three letters, and thus hard to remember ahead... \n",
    "\n"
   ]
  },
  {
   "cell_type": "code",
   "execution_count": null,
   "metadata": {},
   "outputs": [],
   "source": []
  }
 ],
 "metadata": {
  "kernelspec": {
   "display_name": "Bash",
   "language": "bash",
   "name": "bash"
  },
  "language_info": {
   "codemirror_mode": "shell",
   "file_extension": ".sh",
   "mimetype": "text/x-sh",
   "name": "bash"
  }
 },
 "nbformat": 4,
 "nbformat_minor": 2
}
