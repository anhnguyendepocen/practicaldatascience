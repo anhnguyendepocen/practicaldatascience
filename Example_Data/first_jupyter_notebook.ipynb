{
 "cells": [
  {
   "cell_type": "markdown",
   "metadata": {},
   "source": [
    "# National Income and Infant Mortality\n",
    "\n",
    "In this Jupyter Notebook, we'll analyze the relationship between a country's GDP per capita (a measure of average income per person) and infant mortality (in particular, the share of every 1,000 children born who do not reach their fifth birthday). "
   ]
  },
  {
   "cell_type": "markdown",
   "metadata": {},
   "source": [
    "## Data\n",
    "\n",
    "Data for this analysis comes from the World Bank's *World Development Indicators* database. "
   ]
  },
  {
   "cell_type": "code",
   "execution_count": null,
   "metadata": {},
   "outputs": [],
   "source": [
    "import pandas as pd\n",
    "import numpy as np\n",
    "\n",
    "# Download World Development Indicators\n",
    "wdi = pd.read_csv(\"https://media.githubusercontent.com/media/nickeubank/MIDS_Data/master/World_Development_Indicators/wdi_small_tidy_2015.csv\")"
   ]
  },
  {
   "cell_type": "markdown",
   "metadata": {},
   "source": [
    "Now let's quickly look at our data. The next command just shows us the first 5 rows of our data (we'll spend more time on these tools in later lessons). Note further than you can scroll right to see more columns!:"
   ]
  },
  {
   "cell_type": "code",
   "execution_count": null,
   "metadata": {},
   "outputs": [],
   "source": [
    "wdi.head()"
   ]
  },
  {
   "cell_type": "code",
   "execution_count": null,
   "metadata": {},
   "outputs": [],
   "source": [
    "# Now we can just print out the column names:\n",
    "wdi.columns"
   ]
  },
  {
   "cell_type": "markdown",
   "metadata": {},
   "source": [
    "# Visualizing the Relationship between Log GDP Per Capita and Infant Mortality\n",
    "\n",
    "[Now it's your turn! insert the plot from `analyze_health_and_income.py` here and make any required changes to make it work]"
   ]
  },
  {
   "cell_type": "markdown",
   "metadata": {},
   "source": [
    "# Learning from Outliers\n",
    "\n",
    "While we are often interested in overall trends, exceptions to a trend can sometimes be just as interesting. \n",
    "\n",
    "Suppose you are an analyst asked to advise the goverment of Mozambique (which has a Log GDP Per Capita of about 6.25) on how it could reduce it's child mortality, but you don't know where to being. One option is to look for other countries whose income level is similar to that of Mozambique, but who have lower mortality levels. \n",
    "\n",
    "Re-make the plot from above, but this time including only countries with income levels similar to that of Mozambique. Then below the plot, create a markdown cell in which you explain what countries you might research and why. \n",
    "\n",
    "NOTE: you don't really need to understand the plot command yet: just subset the dataframe used for plotting to only include the observations you want, then use the same code!"
   ]
  },
  {
   "cell_type": "markdown",
   "metadata": {},
   "source": [
    "# Export and Send Your Notebook to Me!\n",
    "\n",
    "When you are finished, put your names in the top cell and export your notebook as both a Python Notebook (so it's file name ends in `.ipynb`) and as a PDF and email them to me at [nick@nickeubank.com](mailto:nick@nickeubank.com)."
   ]
  }
 ],
 "metadata": {
  "kernelspec": {
   "display_name": "Python 3",
   "language": "python",
   "name": "python3"
  },
  "language_info": {
   "codemirror_mode": {
    "name": "ipython",
    "version": 3
   },
   "file_extension": ".py",
   "mimetype": "text/x-python",
   "name": "python",
   "nbconvert_exporter": "python",
   "pygments_lexer": "ipython3",
   "version": "3.7.3"
  }
 },
 "nbformat": 4,
 "nbformat_minor": 4
}
